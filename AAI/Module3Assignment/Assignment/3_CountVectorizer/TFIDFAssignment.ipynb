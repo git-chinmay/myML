{
 "cells": [
  {
   "cell_type": "markdown",
   "metadata": {
    "colab_type": "text",
    "id": "h9464I-uxLiw"
   },
   "source": [
    "# Assignment"
   ]
  },
  {
   "cell_type": "markdown",
   "metadata": {
    "colab_type": "text",
    "id": "IvLvmewlxLix"
   },
   "source": [
    "<font face='georgia'>\n",
    "    \n",
    "   <h4><strong>What does tf-idf mean?</strong></h4>\n",
    "\n",
    "   <p>    \n",
    "Tf-idf stands for <em>term frequency-inverse document frequency</em>, and the tf-idf weight is a weight often used in information retrieval and text mining. This weight is a statistical measure used to evaluate how important a word is to a document in a collection or corpus. The importance increases proportionally to the number of times a word appears in the document but is offset by the frequency of the word in the corpus. Variations of the tf-idf weighting scheme are often used by search engines as a central tool in scoring and ranking a document's relevance given a user query.\n",
    "</p>\n",
    "    \n",
    "   <p>\n",
    "One of the simplest ranking functions is computed by summing the tf-idf for each query term; many more sophisticated ranking functions are variants of this simple model.\n",
    "</p>\n",
    "    \n",
    "   <p>\n",
    "Tf-idf can be successfully used for stop-words filtering in various subject fields including text summarization and classification.\n",
    "</p>\n",
    "    \n",
    "</font>"
   ]
  },
  {
   "cell_type": "markdown",
   "metadata": {
    "colab_type": "text",
    "id": "4XLaGFUMxLiy"
   },
   "source": [
    "<font face='georgia'>\n",
    "    <h4><strong>How to Compute:</strong></h4>\n",
    "\n",
    "Typically, the tf-idf weight is composed by two terms: the first computes the normalized Term Frequency (TF), aka. the number of times a word appears in a document, divided by the total number of words in that document; the second term is the Inverse Document Frequency (IDF), computed as the logarithm of the number of the documents in the corpus divided by the number of documents where the specific term appears.\n",
    "\n",
    " <ul>\n",
    "    <li>\n",
    "<strong>TF:</strong> Term Frequency, which measures how frequently a term occurs in a document. Since every document is different in length, it is possible that a term would appear much more times in long documents than shorter ones. Thus, the term frequency is often divided by the document length (aka. the total number of terms in the document) as a way of normalization: <br>\n",
    "\n",
    "$TF(t) = \\frac{\\text{Number of times term t appears in a document}}{\\text{Total number of terms in the document}}.$\n",
    "</li>\n",
    "<li>\n",
    "<strong>IDF:</strong> Inverse Document Frequency, which measures how important a term is. While computing TF, all terms are considered equally important. However it is known that certain terms, such as \"is\", \"of\", and \"that\", may appear a lot of times but have little importance. Thus we need to weigh down the frequent terms while scale up the rare ones, by computing the following: <br>\n",
    "\n",
    "$IDF(t) = \\log_{e}\\frac{\\text{Total  number of documents}} {\\text{Number of documents with term t in it}}.$\n",
    "for numerical stabiltiy we will be changing this formula little bit\n",
    "$IDF(t) = \\log_{e}\\frac{\\text{Total  number of documents}} {\\text{Number of documents with term t in it}+1}.$\n",
    "</li>\n",
    "</ul>\n",
    "\n",
    "<br>\n",
    "<h4><strong>Example</strong></h4>\n",
    "<p>\n",
    "\n",
    "Consider a document containing 100 words wherein the word cat appears 3 times. The term frequency (i.e., tf) for cat is then (3 / 100) = 0.03. Now, assume we have 10 million documents and the word cat appears in one thousand of these. Then, the inverse document frequency (i.e., idf) is calculated as log(10,000,000 / 1,000) = 4. Thus, the Tf-idf weight is the product of these quantities: 0.03 * 4 = 0.12.\n",
    "</p>\n",
    "</font>"
   ]
  },
  {
   "cell_type": "markdown",
   "metadata": {
    "colab_type": "text",
    "id": "dg2ooa4DxLiz"
   },
   "source": [
    "## Task-1"
   ]
  },
  {
   "cell_type": "markdown",
   "metadata": {
    "colab_type": "text",
    "id": "TAcTjhO8xLiz"
   },
   "source": [
    "<font face='georgia'>\n",
    "    <h4><strong>1. Build a TFIDF Vectorizer & compare its results with Sklearn:</strong></h4>\n",
    "\n",
    "<ul>\n",
    "    <li> As a part of this task you will be implementing TFIDF vectorizer on a collection of text documents.</li>\n",
    "    <br>\n",
    "    <li> You should compare the results of your own implementation of TFIDF vectorizer with that of sklearns implemenation TFIDF vectorizer.</li>\n",
    "    <br>\n",
    "    <li> Sklearn does few more tweaks in the implementation of its version of TFIDF vectorizer, so to replicate the exact results you would need to add following things to your custom implementation of tfidf vectorizer:\n",
    "       <ol>\n",
    "        <li> Sklearn has its vocabulary generated from idf sroted in alphabetical order</li>\n",
    "        <li> Sklearn formula of idf is different from the standard textbook formula. Here the constant <strong>\"1\"</strong> is added to the numerator and denominator of the idf as if an extra document was seen containing every term in the collection exactly once, which prevents zero divisions.\n",
    "            \n",
    " $IDF(t) = 1+\\log_{e}\\frac{1\\text{ }+\\text{ Total  number of documents in collection}} {1+\\text{Number of documents with term t in it}}.$\n",
    "        </li>\n",
    "        <li> Sklearn applies L2-normalization on its output matrix.</li>\n",
    "        <li> The final output of sklearn tfidf vectorizer is a sparse matrix.</li>\n",
    "    </ol>\n",
    "    <br>\n",
    "    <li>Steps to approach this task:\n",
    "    <ol>\n",
    "        <li> You would have to write both fit and transform methods for your custom implementation of tfidf vectorizer.</li>\n",
    "        <li> Print out the alphabetically sorted voacb after you fit your data and check if its the same as that of the feature names from sklearn tfidf vectorizer. </li>\n",
    "        <li> Print out the idf values from your implementation and check if its the same as that of sklearns tfidf vectorizer idf values. </li>\n",
    "        <li> Once you get your voacb and idf values to be same as that of sklearns implementation of tfidf vectorizer, proceed to the below steps. </li>\n",
    "        <li> Make sure the output of your implementation is a sparse matrix. Before generating the final output, you need to normalize your sparse matrix using L2 normalization. You can refer to this link https://scikit-learn.org/stable/modules/generated/sklearn.preprocessing.normalize.html </li>\n",
    "        <li> After completing the above steps, print the output of your custom implementation and compare it with sklearns implementation of tfidf vectorizer.</li>\n",
    "        <li> To check the output of a single document in your collection of documents,  you can convert the sparse matrix related only to that document into dense matrix and print it.</li>\n",
    "        </ol>\n",
    "    </li>\n",
    "    <br>\n",
    "   </ul>\n",
    "\n",
    "  <p> <font color=\"#e60000\"><strong>Note-1: </strong></font> All the necessary outputs of sklearns tfidf vectorizer have been provided as reference in this notebook, you can compare your outputs as mentioned in the above steps, with these outputs.<br>\n",
    "   <font color=\"#e60000\"><strong>Note-2: </strong></font> The output of your custom implementation and that of sklearns implementation would match only with the collection of document strings provided to you as reference in this notebook. It would not match for strings that contain capital letters or punctuations, etc, because sklearn version of tfidf vectorizer deals with such strings in a different way. To know further details about how sklearn tfidf vectorizer works with such string, you can always refer to its official documentation.<br>\n",
    "   <font color=\"#e60000\"><strong>Note-3: </strong></font> During this task, it would be helpful for you to debug the code you write with print statements wherever necessary. But when you are finally submitting the assignment, make sure your code is readable and try not to print things which are not part of this task.\n",
    "    </p>"
   ]
  },
  {
   "cell_type": "markdown",
   "metadata": {
    "colab_type": "text",
    "id": "OnV82tg1xLi0"
   },
   "source": [
    "### Corpus"
   ]
  },
  {
   "cell_type": "code",
   "execution_count": 9,
   "metadata": {
    "colab": {},
    "colab_type": "code",
    "id": "bUsYm9wjxLi1"
   },
   "outputs": [],
   "source": [
    "## SkLearn# Collection of string documents\n",
    "\n",
    "corpus = [\n",
    "     'this is the first document',\n",
    "     'this document is the second document',\n",
    "     'and this is the third one',\n",
    "     'is this the first document',\n",
    "]"
   ]
  },
  {
   "cell_type": "markdown",
   "metadata": {
    "colab_type": "text",
    "id": "eLwmFZfKxLi4"
   },
   "source": [
    "### SkLearn Implementation"
   ]
  },
  {
   "cell_type": "code",
   "execution_count": 0,
   "metadata": {
    "colab": {},
    "colab_type": "code",
    "id": "Np4dfQOkxLi4"
   },
   "outputs": [],
   "source": [
    "from sklearn.feature_extraction.text import TfidfVectorizer\n",
    "vectorizer = TfidfVectorizer()\n",
    "vectorizer.fit(corpus)\n",
    "skl_output = vectorizer.transform(corpus)"
   ]
  },
  {
   "cell_type": "code",
   "execution_count": 0,
   "metadata": {
    "colab": {},
    "colab_type": "code",
    "id": "-7Om8YpYxLi6",
    "outputId": "0a3bd0f5-4424-4400-944f-4482a80bd799"
   },
   "outputs": [
    {
     "name": "stdout",
     "output_type": "stream",
     "text": [
      "['and', 'document', 'first', 'is', 'one', 'second', 'the', 'third', 'this']\n"
     ]
    }
   ],
   "source": [
    "# sklearn feature names, they are sorted in alphabetic order by default.\n",
    "\n",
    "print(vectorizer.get_feature_names())"
   ]
  },
  {
   "cell_type": "code",
   "execution_count": 0,
   "metadata": {
    "colab": {},
    "colab_type": "code",
    "id": "dTKplK96xLi-",
    "outputId": "53722fa2-6756-4aa0-f179-37b578bb6890"
   },
   "outputs": [
    {
     "name": "stdout",
     "output_type": "stream",
     "text": [
      "[1.91629073 1.22314355 1.51082562 1.         1.91629073 1.91629073\n",
      " 1.         1.91629073 1.        ]\n"
     ]
    }
   ],
   "source": [
    "# Here we will print the sklearn tfidf vectorizer idf values after applying the fit method\n",
    "# After using the fit function on the corpus the vocab has 9 words in it, and each has its idf value.\n",
    "\n",
    "print(vectorizer.idf_)"
   ]
  },
  {
   "cell_type": "code",
   "execution_count": 0,
   "metadata": {
    "colab": {},
    "colab_type": "code",
    "id": "-CTiWHygxLjA",
    "outputId": "8d5a9cde-2c29-4afe-f7b4-1547e88dba4f"
   },
   "outputs": [
    {
     "data": {
      "text/plain": [
       "(4, 9)"
      ]
     },
     "execution_count": 5,
     "metadata": {
      "tags": []
     },
     "output_type": "execute_result"
    }
   ],
   "source": [
    "# shape of sklearn tfidf vectorizer output after applying transform method.\n",
    "\n",
    "skl_output.shape"
   ]
  },
  {
   "cell_type": "code",
   "execution_count": 0,
   "metadata": {
    "colab": {},
    "colab_type": "code",
    "id": "bDKEpbA-xLjD",
    "outputId": "87dafd65-5313-443f-8c6e-1b05cc8c2543"
   },
   "outputs": [
    {
     "name": "stdout",
     "output_type": "stream",
     "text": [
      "  (0, 8)\t0.38408524091481483\n",
      "  (0, 6)\t0.38408524091481483\n",
      "  (0, 3)\t0.38408524091481483\n",
      "  (0, 2)\t0.5802858236844359\n",
      "  (0, 1)\t0.46979138557992045\n"
     ]
    }
   ],
   "source": [
    "# sklearn tfidf values for first line of the above corpus.\n",
    "# Here the output is a sparse matrix\n",
    "\n",
    "print(skl_output[0])"
   ]
  },
  {
   "cell_type": "code",
   "execution_count": 0,
   "metadata": {
    "colab": {},
    "colab_type": "code",
    "id": "3QWo34hexLjF",
    "outputId": "cdc04e08-989f-4bdc-dd7f-f1c82a9f90be"
   },
   "outputs": [
    {
     "name": "stdout",
     "output_type": "stream",
     "text": [
      "[[0.         0.46979139 0.58028582 0.38408524 0.         0.\n",
      "  0.38408524 0.         0.38408524]]\n"
     ]
    }
   ],
   "source": [
    "# sklearn tfidf values for first line of the above corpus.\n",
    "# To understand the output better, here we are converting the sparse output matrix to dense matrix and printing it.\n",
    "# Notice that this output is normalized using L2 normalization. sklearn does this by default.\n",
    "\n",
    "print(skl_output[0].toarray())"
   ]
  },
  {
   "cell_type": "markdown",
   "metadata": {
    "colab_type": "text",
    "id": "qfIwx5LzxLjI"
   },
   "source": [
    "### Your custom implementation"
   ]
  },
  {
   "cell_type": "code",
   "execution_count": 4,
   "metadata": {
    "colab": {},
    "colab_type": "code",
    "id": "HjuCcJwXxLjJ"
   },
   "outputs": [],
   "source": [
    "# Write your code here.\n",
    "# Make sure its well documented and readble with appropriate comments.\n",
    "# Compare your results with the above sklearn tfidf vectorizer\n",
    "# You are not supposed to use any other library apart from the ones given below\n",
    "\n",
    "from collections import Counter\n",
    "from tqdm import tqdm\n",
    "from scipy.sparse import csr_matrix\n",
    "import math\n",
    "import operator\n",
    "from sklearn.preprocessing import normalize\n",
    "import numpy"
   ]
  },
  {
   "cell_type": "code",
   "execution_count": 48,
   "metadata": {},
   "outputs": [
    {
     "name": "stdout",
     "output_type": "stream",
     "text": [
      "['and', 'document', 'first', 'is', 'one', 'second', 'the', 'third', 'this']\n",
      "[1.916290731874155, 1.2231435513142097, 1.5108256237659907, 1.0, 1.916290731874155, 1.916290731874155, 1.0, 1.916290731874155, 1.0]\n"
     ]
    }
   ],
   "source": [
    "#writng fit function\n",
    "\n",
    "def fit(corpus):\n",
    "    \"\"\"Will take corpus as input and return unique words and there \n",
    "        respecting IDF value in list format\"\"\"\n",
    "    \n",
    "    unique_words = set() \n",
    "    wordlist = []\n",
    "    idflist = []\n",
    "    # check if its list type or not\n",
    "    if isinstance(corpus, (list,)):\n",
    "        for row in corpus: # for each document in the dataset\n",
    "            for word in row.split(\" \"): # for each word in the review. #split method converts a string into list of words\n",
    "                if len(word) < 2:\n",
    "                    continue\n",
    "                unique_words.add(word)\n",
    "        unique_words = sorted(list(unique_words))\n",
    "        \n",
    "        #IDF calculation\n",
    "        for word in unique_words:\n",
    "            docCount = 0\n",
    "            for row in corpus:\n",
    "                if word in row.split(' '):\n",
    "                    docCount += 1\n",
    "            idf_word = 1 + math.log((1+len(corpus))/(1+docCount))\n",
    "            wordlist.append(word)\n",
    "            idflist.append(idf_word)\n",
    "\n",
    "        return wordlist,idflist\n",
    "    else:\n",
    "        print(\"Pass corpus as List!\")\n",
    "\n",
    "\n",
    "uniqword,idfvalue = fit(corpus)\n",
    "print(vocab)\n",
    "print(idfvalue)"
   ]
  },
  {
   "cell_type": "code",
   "execution_count": 81,
   "metadata": {},
   "outputs": [
    {
     "name": "stderr",
     "output_type": "stream",
     "text": [
      "100%|██████████████████████████████████████████████████████████████████████████████████| 4/4 [00:00<00:00, 4272.27it/s]\n"
     ]
    }
   ],
   "source": [
    "#Transform method\n",
    "\n",
    "def transform(corpus,uniqword,idfvalue):\n",
    "    \"\"\"Take corpus ,uniqword & idf list from fit method and \n",
    "        return a normalised sparse matrix of tfidf values of words\"\"\"\n",
    "    \n",
    "    vidf = {} #To staore word and its idf as an dictinary\n",
    "    uniqword_dim = {wd:dim for dim,wd in enumerate(uniqword)}\n",
    "\n",
    "    \n",
    "    tf_word_list_temp = []\n",
    "    tfidf_list = []\n",
    "    row = []\n",
    "    column = []\n",
    "    \n",
    "    for idx,val in enumerate(uniqword):\n",
    "        vidf[val] = idfvalue[idx]\n",
    "        \n",
    "        \n",
    "    if isinstance(corpus,list):\n",
    "        for idx,doc in enumerate(tqdm(corpus)):\n",
    "            N = len([word for word in doc.split(' ')])\n",
    "            word_freq = dict(Counter(doc.split(' ')))\n",
    "            tf_value = {k:float(v/N) for k,v in word_freq.items()}\n",
    "            #print(\"document: \",doc)\n",
    "            #print('Tf values of each word: ',tf_value)\n",
    "                       \n",
    "            for word,tf in tf_value.items():\n",
    "                if len(word) < 2:\n",
    "                    continue\n",
    "                    \n",
    "                colidx = uniqword_dim.get(word,-1)\n",
    "                \n",
    "                if colidx != -1:\n",
    "                    row.append(idx)\n",
    "                    column.append(colidx)\n",
    "                    \n",
    "                    idf = vidf[word]\n",
    "                    tfidf_list.append(tf*idf)\n",
    "            #print(\"tfidf list: \",tfidf_list)\n",
    "        X = csr_matrix((tfidf_list,(row,column)),shape=(len(corpus),len(uniqword_dim)))\n",
    "        l2normalize = normalize(X, norm='l2', axis=1, copy=True, return_norm=False)\n",
    "        return l2normalize        \n",
    "                \n",
    "    else:\n",
    "        print(\"Dataset should be a list!\")\n",
    "        \n",
    "myimp = transform(corpus,uniqword,idfvalue)"
   ]
  },
  {
   "cell_type": "code",
   "execution_count": 82,
   "metadata": {},
   "outputs": [
    {
     "data": {
      "text/plain": [
       "array([[0.        , 0.46979139, 0.58028582, 0.38408524, 0.        ,\n",
       "        0.        , 0.38408524, 0.        , 0.38408524]])"
      ]
     },
     "execution_count": 82,
     "metadata": {},
     "output_type": "execute_result"
    }
   ],
   "source": [
    "\"\"\"#comapring with scikit output skl_output\n",
    "\n",
    "# sklearn tfidf values for first line of the above corpus.\n",
    "# Here the output is a sparse matrix\n",
    "[[0.         0.46979139 0.58028582 0.38408524 0.         0.\n",
    "  0.38408524 0.         0.38408524]]\"\"\"\n",
    "\n",
    "myimp[0].toarray()"
   ]
  },
  {
   "cell_type": "code",
   "execution_count": 30,
   "metadata": {},
   "outputs": [],
   "source": [
    "corpus = [\n",
    "     'this is the first document',\n",
    "     'this document is the second document',\n",
    "     'and this is the third one',\n",
    "     'is this the first document',\n",
    "]"
   ]
  },
  {
   "cell_type": "markdown",
   "metadata": {
    "colab_type": "text",
    "id": "MMxBmVZExLjK"
   },
   "source": [
    "## Task-2"
   ]
  },
  {
   "cell_type": "markdown",
   "metadata": {
    "colab_type": "text",
    "id": "51j_OtqAxLjL"
   },
   "source": [
    "<font face='georgia'>\n",
    "    <h4><strong>2. Implement max features functionality:</strong></h4>\n",
    "\n",
    "<ul>\n",
    "    <li> As a part of this task you have to modify your fit and transform functions so that your vocab will contain only 50 terms with top idf scores.</li>\n",
    "    <br>\n",
    "    <li>This task is similar to your previous task, just that here your vocabulary is limited to only top 50 features names based on their idf values. Basically your output will have exactly 50 columns and the number of rows will depend on the number of documents you have in your corpus.</li>\n",
    "    <br>\n",
    "    <li>Here you will be give a pickle file, with file name <strong>cleaned_strings</strong>. You would have to load the corpus from this file and use it as input to your tfidf vectorizer.</li>\n",
    "    <br>\n",
    "    <li>Steps to approach this task:\n",
    "    <ol>\n",
    "        <li> You would have to write both fit and transform methods for your custom implementation of tfidf vectorizer, just like in the previous task. Additionally, here you have to limit the number of features generated to 50 as described above.</li>\n",
    "        <li> Now sort your vocab based in descending order of idf values and print out the words in the sorted voacb after you fit your data. Here you should be getting only 50 terms in your vocab. And make sure to print idf values for each term in your vocab. </li>\n",
    "        <li> Make sure the output of your implementation is a sparse matrix. Before generating the final output, you need to normalize your sparse matrix using L2 normalization. You can refer to this link https://scikit-learn.org/stable/modules/generated/sklearn.preprocessing.normalize.html </li>\n",
    "        <li> Now check the output of a single document in your collection of documents,  you can convert the sparse matrix related only to that document into dense matrix and print it. And this dense matrix should contain 1 row and 50 columns. </li>\n",
    "        </ol>\n",
    "    </li>\n",
    "    <br>\n",
    "   </ul>"
   ]
  },
  {
   "cell_type": "code",
   "execution_count": 86,
   "metadata": {},
   "outputs": [
    {
     "name": "stdout",
     "output_type": "stream",
     "text": [
      "Number of documents in corpus =  746\n"
     ]
    }
   ],
   "source": [
    "# Below is the code to load the cleaned_strings pickle file provided\n",
    "# Here corpus is of list type\n",
    "\n",
    "import pickle\n",
    "with open('cleaned_strings', 'rb') as f:\n",
    "    corpus = pickle.load(f)\n",
    "    \n",
    "# printing the length of the corpus loaded\n",
    "print(\"Number of documents in corpus = \",len(corpus))"
   ]
  },
  {
   "cell_type": "code",
   "execution_count": 105,
   "metadata": {
    "colab": {},
    "colab_type": "code",
    "id": "ZULfoOIdxLjQ"
   },
   "outputs": [
    {
     "name": "stdout",
     "output_type": "stream",
     "text": [
      "TOP 50 TERMS:\n",
      "['aailiyah', 'abandoned', 'ability', 'abroad', 'absolutely', 'abstruse', 'abysmal', 'academy', 'accents', 'accessible', 'acclaimed', 'accolades', 'accurate', 'accurately', 'accused', 'achievement', 'achille', 'ackerman', 'act', 'acted', 'acting', 'action', 'actions', 'actor', 'actors', 'actress', 'actresses', 'actually', 'adams', 'adaptation', 'add', 'added', 'addition', 'admins', 'admiration', 'admitted', 'adorable', 'adrift', 'adventure', 'advise', 'aerial', 'aesthetically', 'affected', 'affleck', 'afraid', 'africa', 'afternoon', 'age', 'aged', 'ages']\n",
      "\n",
      "THEIR CORRESPONDING IDF VALUES:\n",
      "[6.922918004572872, 6.922918004572872, 6.922918004572872, 6.922918004572872, 6.922918004572872, 6.922918004572872, 6.922918004572872, 6.922918004572872, 6.922918004572872, 6.922918004572872, 6.922918004572872, 6.922918004572872, 6.922918004572872, 6.922918004572872, 6.922918004572872, 6.922918004572872, 6.922918004572872, 6.922918004572872, 6.922918004572872, 6.922918004572872, 6.922918004572872, 6.922918004572872, 6.922918004572872, 6.922918004572872, 6.922918004572872, 6.922918004572872, 6.922918004572872, 6.922918004572872, 6.922918004572872, 6.922918004572872, 6.922918004572872, 6.922918004572872, 6.922918004572872, 6.922918004572872, 6.922918004572872, 6.922918004572872, 6.922918004572872, 6.922918004572872, 6.922918004572872, 6.922918004572872, 6.922918004572872, 6.922918004572872, 6.922918004572872, 6.922918004572872, 6.922918004572872, 6.922918004572872, 6.922918004572872, 6.922918004572872, 6.922918004572872, 6.922918004572872]\n"
     ]
    }
   ],
   "source": [
    "# Write your code here.\n",
    "# Try not to hardcode any values.\n",
    "# Make sure its well documented and readble with appropriate comments.\n",
    "def fit(corpus):\n",
    "    \"\"\"Will take corpus as input and return unique words and there \n",
    "        respecting IDF value in list format\"\"\"\n",
    "    \n",
    "    unique_words = set() \n",
    "    wordlist = []\n",
    "    idflist = []\n",
    "    # check if its list type or not\n",
    "    if isinstance(corpus, (list,)):\n",
    "        for row in corpus: # for each document in the dataset\n",
    "            for word in row.split(\" \"): # for each word in the review. #split method converts a string into list of words\n",
    "                if len(word) < 2:\n",
    "                    continue\n",
    "                unique_words.add(word)\n",
    "        unique_words = sorted(list(unique_words))\n",
    "        \n",
    "        #IDF calculation\n",
    "        for word in unique_words:\n",
    "            docCount = 0\n",
    "            for row in corpus:\n",
    "                if word in row.split(' '):\n",
    "                    docCount += 1\n",
    "            idf_word = 1 + math.log((1+len(corpus))/(1+docCount))\n",
    "            wordlist.append(word)\n",
    "            idflist.append(idf_word)\n",
    "             \n",
    "        #Top 50 unique words based on their IDF values\n",
    "        top50idflist = []\n",
    "        top50wordlist = []\n",
    "        for idx,val in enumerate(sorted(idflist,reverse=True)[:50]):\n",
    "                top50idflist.append(val)\n",
    "                top50wordlist.append(wordlist[idx])\n",
    "        return top50wordlist,top50idflist\n",
    "        \n",
    "    else:\n",
    "        print(\"Pass corpus as List!\")\n",
    "\n",
    "\n",
    "uniqword,idfvalue = fit(corpus)\n",
    "print(\"TOP 50 TERMS:\")\n",
    "print(uniqword)\n",
    "print()\n",
    "print(\"THEIR CORRESPONDING IDF VALUES:\")\n",
    "print(idfvalue)"
   ]
  },
  {
   "cell_type": "code",
   "execution_count": 119,
   "metadata": {
    "colab": {},
    "colab_type": "code",
    "id": "1_DJnnR3xLjR"
   },
   "outputs": [
    {
     "name": "stderr",
     "output_type": "stream",
     "text": [
      "100%|██████████████████████████████████████████████████████████████████████████████| 746/746 [00:00<00:00, 7059.76it/s]\n"
     ]
    }
   ],
   "source": [
    "#WRITING TRANSFORM method for the corpus\n",
    "#Transform method\n",
    "\n",
    "def transform(corpus,uniqword,idfvalue):\n",
    "    \"\"\"Take corpus ,uniqword & idf list from fit method and \n",
    "        return a normalised sparse matrix of tfidf values of words\"\"\"\n",
    "    \n",
    "    vidf = {} #To staore word and its idf as an dictinary\n",
    "    uniqword_dim = {wd:dim for dim,wd in enumerate(uniqword)} #creating a dictionary of uniq words as key and its index as value\n",
    "\n",
    "    \n",
    "    #tf_word_list_temp = []\n",
    "    tfidf_list = []\n",
    "    row = []\n",
    "    column = []\n",
    "    \n",
    "    for idx,val in enumerate(uniqword):\n",
    "        vidf[val] = idfvalue[idx]\n",
    "        \n",
    "        \n",
    "    if isinstance(corpus,list):\n",
    "        for idx,doc in enumerate(tqdm(corpus)):\n",
    "            N = len([word for word in doc.split(' ')])\n",
    "            word_freq = dict(Counter(doc.split(' ')))\n",
    "            tf_value = {k:float(v/N) for k,v in word_freq.items()}\n",
    "            #print(\"document: \",doc)\n",
    "            #print('Tf values of each word: ',tf_value)\n",
    "                       \n",
    "            for word,tf in tf_value.items():\n",
    "                if len(word) < 2:\n",
    "                    continue\n",
    "                    \n",
    "                colidx = uniqword_dim.get(word,-1)\n",
    "                \n",
    "                if colidx != -1:\n",
    "                    row.append(idx)\n",
    "                    column.append(colidx)\n",
    "                    \n",
    "                    idf = vidf[word] #Finding the IDF of the word\n",
    "                    tfidf_list.append(tf*idf) #calculating TFIDF and string in a list\n",
    "            #print(\"tfidf list: \",tfidf_list)\n",
    "        #converting to a sparse matrix\n",
    "        X = csr_matrix((tfidf_list,(row,column)),shape=(len(corpus),len(uniqword_dim)))\n",
    "        #Performing L2 normalization on sparse matrix\n",
    "        l2normalize = normalize(X, norm='l2', axis=1, copy=True, return_norm=False)\n",
    "        return l2normalize                \n",
    "    else:\n",
    "        print(\"Dataset should be a list!\")\n",
    "        \n",
    "myimp = transform(corpus,uniqword,idfvalue)\n"
   ]
  },
  {
   "cell_type": "code",
   "execution_count": 120,
   "metadata": {},
   "outputs": [
    {
     "name": "stdout",
     "output_type": "stream",
     "text": [
      "  (2, 20)\t1.0\n",
      "  (10, 36)\t1.0\n",
      "  (15, 20)\t1.0\n",
      "  (17, 20)\t1.0\n",
      "  (19, 4)\t0.4472135954999579\n",
      "  (19, 23)\t0.4472135954999579\n",
      "  (19, 24)\t0.4472135954999579\n",
      "  (19, 27)\t0.4472135954999579\n",
      "  (19, 32)\t0.4472135954999579\n",
      "  (26, 19)\t1.0\n",
      "  (28, 27)\t1.0\n",
      "  (36, 24)\t1.0\n",
      "  (41, 20)\t1.0\n",
      "  (49, 20)\t1.0\n",
      "  (56, 14)\t1.0\n",
      "  (60, 44)\t1.0\n",
      "  (62, 39)\t1.0\n",
      "  (65, 23)\t1.0\n",
      "  (68, 43)\t1.0\n",
      "  (72, 24)\t1.0\n",
      "  (86, 20)\t1.0\n",
      "  (104, 24)\t1.0\n",
      "  (134, 4)\t0.5773502691896257\n",
      "  (134, 24)\t0.5773502691896257\n",
      "  (134, 47)\t0.5773502691896257\n",
      "  :\t:\n",
      "  (644, 17)\t0.2\n",
      "  (644, 18)\t0.2\n",
      "  (644, 20)\t0.8\n",
      "  (644, 23)\t0.2\n",
      "  (644, 24)\t0.2\n",
      "  (644, 49)\t0.2\n",
      "  (649, 20)\t1.0\n",
      "  (658, 20)\t1.0\n",
      "  (660, 4)\t1.0\n",
      "  (667, 41)\t1.0\n",
      "  (669, 20)\t1.0\n",
      "  (673, 23)\t1.0\n",
      "  (688, 27)\t1.0\n",
      "  (697, 12)\t1.0\n",
      "  (706, 2)\t0.7071067811865476\n",
      "  (706, 20)\t0.7071067811865476\n",
      "  (707, 24)\t1.0\n",
      "  (710, 47)\t1.0\n",
      "  (712, 27)\t1.0\n",
      "  (718, 18)\t1.0\n",
      "  (722, 20)\t0.7071067811865475\n",
      "  (722, 31)\t0.7071067811865475\n",
      "  (725, 19)\t1.0\n",
      "  (726, 26)\t1.0\n",
      "  (738, 25)\t1.0\n"
     ]
    }
   ],
   "source": [
    "print(myimp)"
   ]
  },
  {
   "cell_type": "code",
   "execution_count": 112,
   "metadata": {},
   "outputs": [
    {
     "data": {
      "text/plain": [
       "(746, 50)"
      ]
     },
     "execution_count": 112,
     "metadata": {},
     "output_type": "execute_result"
    }
   ],
   "source": [
    "# shape of  output after applying transform method.\n",
    "myimp.shape"
   ]
  },
  {
   "cell_type": "code",
   "execution_count": 158,
   "metadata": {},
   "outputs": [
    {
     "name": "stdout",
     "output_type": "stream",
     "text": [
      "(1, 50)\n",
      "[[0.        0.        0.        0.        0.4472136 0.        0.\n",
      "  0.        0.        0.        0.        0.        0.        0.\n",
      "  0.        0.        0.        0.        0.        0.        0.\n",
      "  0.        0.        0.4472136 0.4472136 0.        0.        0.4472136\n",
      "  0.        0.        0.        0.        0.4472136 0.        0.\n",
      "  0.        0.        0.        0.        0.        0.        0.\n",
      "  0.        0.        0.        0.        0.        0.        0.\n",
      "  0.       ]]\n"
     ]
    }
   ],
   "source": [
    "# tfidf values for first line of the above corpus.\n",
    "print(myimp[19].shape)\n",
    "print(myimp[19].toarray())"
   ]
  }
 ],
 "metadata": {
  "colab": {
   "collapsed_sections": [],
   "name": "Assignment_3_Instructions.ipynb",
   "provenance": []
  },
  "kernelspec": {
   "display_name": "Python 3",
   "language": "python",
   "name": "python3"
  },
  "language_info": {
   "codemirror_mode": {
    "name": "ipython",
    "version": 3
   },
   "file_extension": ".py",
   "mimetype": "text/x-python",
   "name": "python",
   "nbconvert_exporter": "python",
   "pygments_lexer": "ipython3",
   "version": "3.7.4"
  }
 },
 "nbformat": 4,
 "nbformat_minor": 1
}
