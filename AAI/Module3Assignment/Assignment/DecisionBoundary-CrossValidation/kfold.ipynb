{
 "cells": [
  {
   "cell_type": "code",
   "execution_count": 7,
   "metadata": {
    "colab": {},
    "colab_type": "code",
    "id": "oCdH4fBwGdCY",
    "outputId": "81bc9f40-2d8b-48c8-b739-4e4f25b2e6f3"
   },
   "outputs": [],
   "source": [
    "# ============================== loading libraries ===========================================\n",
    "import numpy as np\n",
    "import pandas as pd\n",
    "import matplotlib.pyplot as plt\n",
    "from sklearn.model_selection import train_test_split\n",
    "from sklearn.model_selection import cross_validate\n",
    "from sklearn.model_selection import cross_val_score\n",
    "from sklearn.neighbors import KNeighborsClassifier\n",
    "from sklearn.metrics import accuracy_score\n",
    "#from sklearn.cross_validation import cross_val_score\n",
    "from collections import Counter\n",
    "#from sklearn.metrics import accuracy_score\n",
    "\n",
    "# ============================================================================================="
   ]
  },
  {
   "cell_type": "code",
   "execution_count": 10,
   "metadata": {
    "colab": {},
    "colab_type": "code",
    "id": "UWsDjpSYGdCi",
    "outputId": "efa553ef-7ba0-45fa-a8ca-f167caa765ed"
   },
   "outputs": [
    {
     "name": "stdout",
     "output_type": "stream",
     "text": [
      "                x           y       class\n",
      "count  500.000000  500.000000  500.000000\n",
      "mean     1.883707    1.869874    0.500000\n",
      "std      1.931275    1.986852    0.500501\n",
      "min     -3.950019   -3.935098    0.000000\n",
      "25%      0.403585    0.426457    0.000000\n",
      "50%      2.191547    2.109658    0.500000\n",
      "75%      3.349001    3.388552    1.000000\n",
      "max      6.712027    7.848278    1.000000\n",
      "          x         y  class\n",
      "0  0.700335 -0.247068    0.0\n",
      "1 -3.950019  2.740080    1.0\n",
      "2  0.150222 -2.157638    1.0\n",
      "3 -1.672050 -0.941519    1.0\n",
      "4  2.560483 -1.846577    1.0\n"
     ]
    }
   ],
   "source": [
    "# Part I\n",
    "# ============================== data preprocessing ===========================================\n",
    "\n",
    "# define column names\n",
    "names = ['x', 'y', 'class']\n",
    "\n",
    "# loading training data\n",
    "df = pd.read_csv('./demo_data/3.concertriccir2.csv', header=None, names=names)\n",
    "print(df.describe())\n",
    "print(df.head())\n",
    "\n",
    "# create design matrix X and target vector y\n",
    "X = np.array(df.iloc[:, 0:2]) # end index is exclusive\n",
    "y = np.array(df['class']) # showing you two ways of indexing a pandas df\n"
   ]
  },
  {
   "cell_type": "markdown",
   "metadata": {
    "colab_type": "text",
    "id": "UVVtNgCFGdCm"
   },
   "source": [
    "### Simple Cross Validation "
   ]
  },
  {
   "cell_type": "code",
   "execution_count": 9,
   "metadata": {
    "colab": {},
    "colab_type": "code",
    "id": "T14J4B9FGdCn",
    "outputId": "47e53c29-b23b-407f-c26d-f4b1493ff29b",
    "scrolled": false
   },
   "outputs": [
    {
     "name": "stdout",
     "output_type": "stream",
     "text": [
      "\n",
      "CV accuracy for k = 1 is 86%\n",
      "\n",
      "CV accuracy for k = 3 is 83%\n",
      "\n",
      "CV accuracy for k = 5 is 82%\n",
      "\n",
      "CV accuracy for k = 7 is 80%\n",
      "\n",
      "CV accuracy for k = 9 is 82%\n",
      "\n",
      "CV accuracy for k = 11 is 79%\n",
      "\n",
      "CV accuracy for k = 13 is 78%\n",
      "\n",
      "CV accuracy for k = 15 is 76%\n",
      "\n",
      "CV accuracy for k = 17 is 76%\n",
      "\n",
      "CV accuracy for k = 19 is 74%\n",
      "\n",
      "CV accuracy for k = 21 is 73%\n",
      "\n",
      "CV accuracy for k = 23 is 73%\n",
      "\n",
      "CV accuracy for k = 25 is 67%\n",
      "\n",
      "CV accuracy for k = 27 is 66%\n",
      "\n",
      "CV accuracy for k = 29 is 65%\n",
      "\n",
      "****Test accuracy for k = 1 is 88%\n"
     ]
    }
   ],
   "source": [
    "# split the data set into train and test\n",
    "#X_1, X_test, y_1, y_test = cross_validation.train_test_split(X, y, test_size=0.3, random_state=0)\n",
    "X_1, X_test, y_1, y_test = train_test_split(X, y, test_size=0.3, random_state=0)\n",
    "\n",
    "# split the train data set into cross validation train and cross validation test\n",
    "#X_tr, X_cv, y_tr, y_cv = cross_validation.train_test_split(X_1, y_1, test_size=0.3)\n",
    "X_tr, X_cv, y_tr, y_cv = train_test_split(X_1, y_1, test_size=0.3)\n",
    "\n",
    "for i in range(1,30,2):\n",
    "    # instantiate learning model (k = 30)\n",
    "    knn = KNeighborsClassifier(n_neighbors=i)\n",
    "\n",
    "    # fitting the model on crossvalidation train\n",
    "    knn.fit(X_tr, y_tr)\n",
    "\n",
    "    # predict the response on the crossvalidation train\n",
    "    pred = knn.predict(X_cv)\n",
    "\n",
    "    # evaluate CV accuracy\n",
    "    acc = accuracy_score(y_cv, pred, normalize=True) * float(100)\n",
    "    print('\\nCV accuracy for k = %d is %d%%' % (i, acc))\n",
    "    \n",
    "knn = KNeighborsClassifier(1)\n",
    "knn.fit(X_tr,y_tr)\n",
    "pred = knn.predict(X_test)\n",
    "acc = accuracy_score(y_test, pred, normalize=True) * float(100)\n",
    "print('\\n****Test accuracy for k = 1 is %d%%' % (acc))"
   ]
  },
  {
   "cell_type": "markdown",
   "metadata": {
    "colab_type": "text",
    "id": "ZRuToE6OGdCs"
   },
   "source": [
    "### 10 fold cross validation "
   ]
  },
  {
   "cell_type": "code",
   "execution_count": 13,
   "metadata": {
    "colab": {},
    "colab_type": "code",
    "id": "_f9Cr5pjGdCu",
    "outputId": "c5c3dfed-525e-4461-deb0-796c03c35ef8"
   },
   "outputs": [
    {
     "name": "stdout",
     "output_type": "stream",
     "text": [
      "cv_scores: [0.8734316972799357, 0.8773461808692161, 0.8570711633042256, 0.8570711633042256, 0.8326307337147446, 0.8202348690153568, 0.8244002810398475, 0.8080397470641373, 0.7753688647997592, 0.7549432901736425, 0.7222222222222222, 0.7017966475961055, 0.6936665662952924, 0.6569306433805079, 0.6446853357422463, 0.628324801766536, 0.6161296798153167, 0.6120144534778681, 0.5998193315266486, 0.5998193315266486, 0.5916390645387936, 0.5957041051892, 0.5753789019371676, 0.5671986349493126, 0.563083408611864]\n",
      "\n",
      "The optimal number of neighbors is 3.\n"
     ]
    },
    {
     "data": {
      "image/png": "[encoded data removed]",
      "text/plain": [
       "<Figure size 432x288 with 1 Axes>"
      ]
     },
     "metadata": {
      "needs_background": "light"
     },
     "output_type": "display_data"
    },
    {
     "name": "stdout",
     "output_type": "stream",
     "text": [
      "the misclassification error for each k value is :  [0.127 0.123 0.143 0.143 0.167 0.18  0.176 0.192 0.225 0.245 0.278 0.298\n",
      " 0.306 0.343 0.355 0.372 0.384 0.388 0.4   0.4   0.408 0.404 0.425 0.433\n",
      " 0.437]\n"
     ]
    }
   ],
   "source": [
    "\n",
    "\n",
    "# creating odd list of K for KNN\n",
    "myList = list(range(0,50))\n",
    "neighbors = list(filter(lambda x: x % 2 != 0, myList))\n",
    "\n",
    "# empty list that will hold cv scores\n",
    "cv_scores = []\n",
    "\n",
    "# perform 10-fold cross validation\n",
    "for k in neighbors:\n",
    "    knn = KNeighborsClassifier(n_neighbors=k)\n",
    "    scores = cross_val_score(knn, X_tr, y_tr, cv=3, scoring='accuracy')\n",
    "    cv_scores.append(scores.mean())\n",
    "    \n",
    "print(f\"cv_scores: {cv_scores}\")\n",
    "      \n",
    "# changing to misclassification error\n",
    "MSE = [1 - x for x in cv_scores]\n",
    "\n",
    "# determining best k\n",
    "optimal_k = neighbors[MSE.index(min(MSE))]\n",
    "print('\\nThe optimal number of neighbors is %d.' % optimal_k)\n",
    "\n",
    "# plot misclassification error vs k \n",
    "plt.plot(neighbors, MSE)\n",
    "\n",
    "for xy in zip(neighbors, np.round(MSE,3)):\n",
    "    plt.annotate('(%s, %s)' % xy, xy=xy, textcoords='data')\n",
    "\n",
    "plt.xlabel('Number of Neighbors K')\n",
    "plt.ylabel('Misclassification Error')\n",
    "plt.show()\n",
    "\n",
    "print(\"the misclassification error for each k value is : \", np.round(MSE,3))"
   ]
  },
  {
   "cell_type": "code",
   "execution_count": 15,
   "metadata": {
    "colab": {},
    "colab_type": "code",
    "id": "SzVqv1-qGdCy",
    "outputId": "0deda05e-91f5-477a-df14-d463d2d27d08"
   },
   "outputs": [
    {
     "name": "stdout",
     "output_type": "stream",
     "text": [
      "\n",
      "The accuracy of the knn classifier for k = 3 is 86.666667%\n"
     ]
    }
   ],
   "source": [
    "# ============================== KNN with k = optimal_k ===============================================\n",
    "# instantiate learning model k = optimal_k\n",
    "knn_optimal = KNeighborsClassifier(n_neighbors=optimal_k)\n",
    "\n",
    "# fitting the model\n",
    "knn_optimal.fit(X_tr, y_tr)\n",
    "\n",
    "# predict the response\n",
    "pred = knn_optimal.predict(X_test)\n",
    "\n",
    "# evaluate accuracy\n",
    "acc = accuracy_score(y_test, pred) * 100\n",
    "print('\\nThe accuracy of the knn classifier for k = %d is %f%%' % (optimal_k, acc))"
   ]
  },
  {
   "cell_type": "code",
   "execution_count": 0,
   "metadata": {
    "colab": {},
    "colab_type": "code",
    "id": "sHLRZhFfGdC4"
   },
   "outputs": [],
   "source": []
  },
  {
   "cell_type": "code",
   "execution_count": 0,
   "metadata": {
    "colab": {},
    "colab_type": "code",
    "id": "Dr9HOKLdGdC8"
   },
   "outputs": [],
   "source": []
  }
 ],
 "metadata": {
  "colab": {
   "collapsed_sections": [],
   "name": "kfold.ipynb",
   "provenance": [],
   "version": "0.3.2"
  },
  "kernelspec": {
   "display_name": "Python 3",
   "language": "python",
   "name": "python3"
  },
  "language_info": {
   "codemirror_mode": {
    "name": "ipython",
    "version": 3
   },
   "file_extension": ".py",
   "mimetype": "text/x-python",
   "name": "python",
   "nbconvert_exporter": "python",
   "pygments_lexer": "ipython3",
   "version": "3.7.4"
  }
 },
 "nbformat": 4,
 "nbformat_minor": 1
}
