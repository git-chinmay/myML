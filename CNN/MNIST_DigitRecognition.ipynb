{
  "nbformat": 4,
  "nbformat_minor": 0,
  "metadata": {
    "kernelspec": {
      "display_name": "Python 3",
      "language": "python",
      "name": "python3"
    },
    "language_info": {
      "codemirror_mode": {
        "name": "ipython",
        "version": 3
      },
      "file_extension": ".py",
      "mimetype": "text/x-python",
      "name": "python",
      "nbconvert_exporter": "python",
      "pygments_lexer": "ipython3",
      "version": "3.7.4"
    },
    "colab": {
      "name": "MNIST_DigitRecognition.ipynb",
      "provenance": [],
      "include_colab_link": true
    }
  },
  "cells": [
    {
      "cell_type": "markdown",
      "metadata": {
        "id": "view-in-github",
        "colab_type": "text"
      },
      "source": [
        "<a href=\"https://colab.research.google.com/github/git-chinmay/myML/blob/master/MNIST_DigitRecognition.ipynb\" target=\"_parent\"><img src=\"https://colab.research.google.com/assets/colab-badge.svg\" alt=\"Open In Colab\"/></a>"
      ]
    },
    {
      "cell_type": "code",
      "metadata": {
        "id": "Fx6bumglSbZO",
        "colab_type": "code",
        "colab": {}
      },
      "source": [
        "import tensorflow as tf\n",
        "import matplotlib.pyplot as plt\n",
        "import numpy as np"
      ],
      "execution_count": 0,
      "outputs": []
    },
    {
      "cell_type": "code",
      "metadata": {
        "id": "pn4TbQBlSbZY",
        "colab_type": "code",
        "colab": {}
      },
      "source": [
        "mnist = tf.keras.datasets.mnist"
      ],
      "execution_count": 0,
      "outputs": []
    },
    {
      "cell_type": "code",
      "metadata": {
        "id": "05mskZ8WSbZe",
        "colab_type": "code",
        "colab": {
          "base_uri": "https://localhost:8080/",
          "height": 52
        },
        "outputId": "1528cf88-8018-4cd6-de50-e2b82643349d"
      },
      "source": [
        "(x_train,y_train),(x_test,y_test) = mnist.load_data()"
      ],
      "execution_count": 3,
      "outputs": [
        {
          "output_type": "stream",
          "text": [
            "Downloading data from https://storage.googleapis.com/tensorflow/tf-keras-datasets/mnist.npz\n",
            "11493376/11490434 [==============================] - 0s 0us/step\n"
          ],
          "name": "stdout"
        }
      ]
    },
    {
      "cell_type": "code",
      "metadata": {
        "id": "so5neCmWSbZk",
        "colab_type": "code",
        "colab": {}
      },
      "source": [
        "#Normalization(Try without Normalization also)\n",
        "x_train = tf.keras.utils.normalize(x_train,axis=1)\n",
        "x_test = tf.keras.utils.normalize(x_test,axis=1)"
      ],
      "execution_count": 0,
      "outputs": []
    },
    {
      "cell_type": "code",
      "metadata": {
        "id": "yAvkHFYuSbZo",
        "colab_type": "code",
        "colab": {
          "base_uri": "https://localhost:8080/",
          "height": 265
        },
        "outputId": "6e383be0-28f3-40e9-bb06-4e7adae2d6aa"
      },
      "source": [
        "plt.imshow(x_train[10],cmap=plt.cm.binary)\n",
        "plt.show()"
      ],
      "execution_count": 5,
      "outputs": [
        {
          "output_type": "display_data",
          "data": {
            "image/png": "[encoded data removed]",
            "text/plain": [
              "<Figure size 432x288 with 1 Axes>"
            ]
          },
          "metadata": {
            "tags": [],
            "needs_background": "light"
          }
        }
      ]
    },
    {
      "cell_type": "code",
      "metadata": {
        "id": "_DruWVmFSbZr",
        "colab_type": "code",
        "colab": {}
      },
      "source": [
        "#Build the model\n",
        "model = tf.keras.models.Sequential()\n",
        "#Input Layer\n",
        "model.add(tf.keras.layers.Flatten())\n",
        "#Hidden Layer\n",
        "model.add(tf.keras.layers.Dense(128,activation=tf.nn.relu))\n",
        "#Output Layer\n",
        "model.add(tf.keras.layers.Dense(10,activation=tf.nn.softmax))"
      ],
      "execution_count": 0,
      "outputs": []
    },
    {
      "cell_type": "code",
      "metadata": {
        "id": "CLNCtc6kSbZu",
        "colab_type": "code",
        "colab": {
          "base_uri": "https://localhost:8080/",
          "height": 139
        },
        "outputId": "a4946a3b-2117-43ba-eb96-854222bce8ff"
      },
      "source": [
        "#Parameters for training of the model\n",
        "model.compile(optimizer='adam',loss='sparse_categorical_crossentropy',metrics=['accuracy'])\n",
        "model.fit(x_train,y_train,epochs=3)"
      ],
      "execution_count": 7,
      "outputs": [
        {
          "output_type": "stream",
          "text": [
            "Epoch 1/3\n",
            "1875/1875 [==============================] - 4s 2ms/step - loss: 0.3202 - accuracy: 0.9120\n",
            "Epoch 2/3\n",
            "1875/1875 [==============================] - 4s 2ms/step - loss: 0.1446 - accuracy: 0.9569\n",
            "Epoch 3/3\n",
            "1875/1875 [==============================] - 4s 2ms/step - loss: 0.0977 - accuracy: 0.9709\n"
          ],
          "name": "stdout"
        },
        {
          "output_type": "execute_result",
          "data": {
            "text/plain": [
              "<tensorflow.python.keras.callbacks.History at 0x7f9dbbe7c5f8>"
            ]
          },
          "metadata": {
            "tags": []
          },
          "execution_count": 7
        }
      ]
    },
    {
      "cell_type": "code",
      "metadata": {
        "id": "iliAZ35lSbZx",
        "colab_type": "code",
        "colab": {},
        "outputId": "04b6550d-594f-4660-db6e-f8e58a42dc49"
      },
      "source": [
        "val_loss,val_acc = model.evaluate(x_test,y_test)\n",
        "print(val_loss,val_acc)"
      ],
      "execution_count": 0,
      "outputs": [
        {
          "output_type": "stream",
          "text": [
            "10000/10000 [==============================] - 1s 67us/sample - loss: 0.1122 - accuracy: 0.9665\n",
            "0.11222249470092356 0.9665\n"
          ],
          "name": "stdout"
        }
      ]
    },
    {
      "cell_type": "code",
      "metadata": {
        "id": "nOQgbfYaTS1T",
        "colab_type": "code",
        "colab": {
          "base_uri": "https://localhost:8080/",
          "height": 243
        },
        "outputId": "38c0aa73-a27b-4abf-d182-8e7ca1ee457f"
      },
      "source": [
        "predictions = model.predict(x_test)\n",
        "print(predictions)"
      ],
      "execution_count": 11,
      "outputs": [
        {
          "output_type": "stream",
          "text": [
            "[[9.42539629e-08 2.90737945e-09 5.69667145e-06 ... 9.99317169e-01\n",
            "  5.45778221e-07 3.16937508e-06]\n",
            " [5.06876177e-07 2.83918320e-03 9.95599747e-01 ... 7.89908763e-12\n",
            "  3.12605880e-06 5.44441124e-11]\n",
            " [5.63170147e-07 9.99429524e-01 1.20628494e-04 ... 1.00026380e-04\n",
            "  8.00365888e-05 3.03959638e-07]\n",
            " ...\n",
            " [8.35105940e-09 1.37005699e-07 9.33508630e-08 ... 5.94722842e-05\n",
            "  5.75344857e-05 1.13214413e-03]\n",
            " [2.03962954e-05 7.57471480e-06 7.80226742e-07 ... 9.96943527e-07\n",
            "  4.11363598e-03 1.75002995e-07]\n",
            " [2.08066967e-06 1.86471780e-08 2.27797645e-05 ... 2.10981144e-09\n",
            "  4.48854962e-08 2.81025052e-08]]\n"
          ],
          "name": "stdout"
        }
      ]
    },
    {
      "cell_type": "code",
      "metadata": {
        "id": "EU84ywFPSbZ0",
        "colab_type": "code",
        "colab": {},
        "outputId": "bc324e4f-1efd-427a-c417-fa0666a3ebf0"
      },
      "source": [
        "#We can save the model\n",
        "model.save('Basic_MNIST_NUM_Reader.model')"
      ],
      "execution_count": 0,
      "outputs": [
        {
          "output_type": "stream",
          "text": [
            "WARNING:tensorflow:From C:\\Anaconda3\\lib\\site-packages\\tensorflow_core\\python\\ops\\resource_variable_ops.py:1786: calling BaseResourceVariable.__init__ (from tensorflow.python.ops.resource_variable_ops) with constraint is deprecated and will be removed in a future version.\n",
            "Instructions for updating:\n",
            "If using Keras pass *_constraint arguments to layers.\n",
            "INFO:tensorflow:Assets written to: Basic_MNIST_NUM_Reader.model\\assets\n"
          ],
          "name": "stdout"
        }
      ]
    },
    {
      "cell_type": "code",
      "metadata": {
        "id": "JHDMGzBuSbZ3",
        "colab_type": "code",
        "colab": {}
      },
      "source": [
        "#Loading the model\n",
        "new_model = tf.keras.models.load_model('Basic_MNIST_NUM_Reader.model')"
      ],
      "execution_count": 0,
      "outputs": []
    },
    {
      "cell_type": "code",
      "metadata": {
        "id": "rdZAyzWDSbZ5",
        "colab_type": "code",
        "colab": {},
        "outputId": "87354fd6-3436-4651-e57b-32decfc717f0"
      },
      "source": [
        "#Predictions\n",
        "predictions = new_model.predict(x_test)\n",
        "print(predictions)"
      ],
      "execution_count": 0,
      "outputs": [
        {
          "output_type": "stream",
          "text": [
            "[[5.1590494e-08 2.5520619e-10 6.0336001e-06 ... 9.9975771e-01\n",
            "  6.5238396e-08 2.7120518e-07]\n",
            " [1.6176847e-06 3.5385793e-04 9.9929082e-01 ... 6.1867048e-12\n",
            "  8.3533706e-08 2.6227718e-11]\n",
            " [8.9944712e-07 9.9940443e-01 2.3192546e-04 ... 5.5422526e-05\n",
            "  1.1806233e-04 4.0190312e-06]\n",
            " ...\n",
            " [1.8583107e-08 4.5446026e-07 2.7264844e-07 ... 3.2091422e-05\n",
            "  3.2802764e-05 2.1450527e-03]\n",
            " [3.3761302e-05 4.1537444e-07 8.2346406e-07 ... 8.2524389e-07\n",
            "  9.9989360e-05 2.0928928e-07]\n",
            " [1.5722409e-05 6.3689811e-08 1.1829563e-04 ... 2.1580771e-08\n",
            "  1.5639477e-08 7.0966166e-09]]\n"
          ],
          "name": "stdout"
        }
      ]
    },
    {
      "cell_type": "code",
      "metadata": {
        "id": "uMkj1ySiSbZ8",
        "colab_type": "code",
        "colab": {
          "base_uri": "https://localhost:8080/",
          "height": 35
        },
        "outputId": "a9db71ee-1342-4b65-e2e0-61c4849507bf"
      },
      "source": [
        "np.argmax(predictions[900])"
      ],
      "execution_count": 12,
      "outputs": [
        {
          "output_type": "execute_result",
          "data": {
            "text/plain": [
              "1"
            ]
          },
          "metadata": {
            "tags": []
          },
          "execution_count": 12
        }
      ]
    },
    {
      "cell_type": "code",
      "metadata": {
        "id": "htiF9BxNSbZ_",
        "colab_type": "code",
        "colab": {
          "base_uri": "https://localhost:8080/",
          "height": 265
        },
        "outputId": "bfad11b7-ec2b-4cca-c9de-23dfcb8d7a1b"
      },
      "source": [
        "#Reconfirming with Image\n",
        "plt.imshow(x_test[9])\n",
        "plt.show()"
      ],
      "execution_count": 16,
      "outputs": [
        {
          "output_type": "display_data",
          "data": {
            "image/png": "[encoded data removed]",
            "text/plain": [
              "<Figure size 432x288 with 1 Axes>"
            ]
          },
          "metadata": {
            "tags": [],
            "needs_background": "light"
          }
        }
      ]
    }
  ]
}