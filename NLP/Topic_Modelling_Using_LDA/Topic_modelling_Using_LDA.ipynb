{
 "cells": [
  {
   "cell_type": "markdown",
   "id": "2c0cac26",
   "metadata": {},
   "source": [
    "## Topic Modelling"
   ]
  },
  {
   "cell_type": "markdown",
   "id": "258c420c",
   "metadata": {},
   "source": [
    "#### Prerequistes"
   ]
  },
  {
   "cell_type": "code",
   "execution_count": 1,
   "id": "e28a2cc0",
   "metadata": {},
   "outputs": [
    {
     "name": "stderr",
     "output_type": "stream",
     "text": [
      "C:\\Users\\Chinmay\\anaconda3\\lib\\site-packages\\numpy\\_distributor_init.py:32: UserWarning: loaded more than 1 DLL from .libs:\n",
      "C:\\Users\\Chinmay\\anaconda3\\lib\\site-packages\\numpy\\.libs\\libopenblas.PYQHXLVVQ7VESDPUVUADXEVJOBGHJPAY.gfortran-win_amd64.dll\n",
      "C:\\Users\\Chinmay\\anaconda3\\lib\\site-packages\\numpy\\.libs\\libopenblas.XWYDX2IKJW2NMTWSFYNGFUWKQU3LYTCZ.gfortran-win_amd64.dll\n",
      "  stacklevel=1)\n"
     ]
    }
   ],
   "source": [
    "import nltk\n",
    "#nltk.download('stopwords') - 1 time"
   ]
  },
  {
   "cell_type": "code",
   "execution_count": 4,
   "id": "1f21d79a",
   "metadata": {
    "collapsed": true
   },
   "outputs": [
    {
     "name": "stdout",
     "output_type": "stream",
     "text": [
      "Collecting spacy\n",
      "  Downloading spacy-3.2.3-cp37-cp37m-win_amd64.whl (11.5 MB)\n",
      "Collecting cymem<2.1.0,>=2.0.2\n",
      "  Downloading cymem-2.0.6-cp37-cp37m-win_amd64.whl (35 kB)\n",
      "Collecting preshed<3.1.0,>=3.0.2\n",
      "  Downloading preshed-3.0.6-cp37-cp37m-win_amd64.whl (108 kB)\n",
      "Collecting pydantic!=1.8,!=1.8.1,<1.9.0,>=1.7.4\n",
      "  Downloading pydantic-1.8.2-cp37-cp37m-win_amd64.whl (1.9 MB)\n",
      "Collecting thinc<8.1.0,>=8.0.12\n",
      "  Downloading thinc-8.0.15-cp37-cp37m-win_amd64.whl (1.0 MB)\n"
     ]
    },
    {
     "name": "stderr",
     "output_type": "stream",
     "text": [
      "ERROR: pip's dependency resolver does not currently take into account all the packages that are installed. This behaviour is the source of the following dependency conflicts.\n",
      "tensorflow 2.5.0 requires numpy~=1.19.2, but you have numpy 1.18.5 which is incompatible.\n",
      "tensorflow 2.5.0 requires six~=1.15.0, but you have six 1.16.0 which is incompatible.\n",
      "tensorflow 2.5.0 requires typing-extensions~=3.7.4, but you have typing-extensions 3.10.0.2 which is incompatible.\n",
      "gensim 3.8.3 requires Cython==0.29.14, but you have cython 0.29.28 which is incompatible.\n"
     ]
    },
    {
     "name": "stdout",
     "output_type": "stream",
     "text": [
      "Collecting langcodes<4.0.0,>=3.2.0\n",
      "  Using cached langcodes-3.3.0-py3-none-any.whl (181 kB)\n",
      "Requirement already satisfied: jinja2 in c:\\users\\chinmay\\anaconda3\\lib\\site-packages (from spacy) (2.11.3)\n",
      "Collecting wasabi<1.1.0,>=0.8.1\n",
      "  Using cached wasabi-0.9.0-py3-none-any.whl (25 kB)\n",
      "Collecting spacy-loggers<2.0.0,>=1.0.0\n",
      "  Using cached spacy_loggers-1.0.1-py3-none-any.whl (7.0 kB)\n",
      "Collecting blis<0.8.0,>=0.4.0\n",
      "  Downloading blis-0.7.7-cp37-cp37m-win_amd64.whl (6.6 MB)\n",
      "Collecting pathy>=0.3.5\n",
      "  Using cached pathy-0.6.1-py3-none-any.whl (42 kB)\n",
      "Requirement already satisfied: tqdm<5.0.0,>=4.38.0 in c:\\users\\chinmay\\anaconda3\\lib\\site-packages (from spacy) (4.63.0)\n",
      "Collecting typer<0.5.0,>=0.3.0\n",
      "  Using cached typer-0.4.0-py3-none-any.whl (27 kB)\n",
      "Collecting murmurhash<1.1.0,>=0.28.0\n",
      "  Downloading murmurhash-1.0.6-cp37-cp37m-win_amd64.whl (20 kB)\n",
      "Collecting typing-extensions<4.0.0.0,>=3.7.4\n",
      "  Using cached typing_extensions-3.10.0.2-py3-none-any.whl (26 kB)\n",
      "Collecting catalogue<2.1.0,>=2.0.6\n",
      "  Using cached catalogue-2.0.7-py3-none-any.whl (17 kB)\n",
      "Requirement already satisfied: requests<3.0.0,>=2.13.0 in c:\\users\\chinmay\\anaconda3\\lib\\site-packages (from spacy) (2.27.1)\n",
      "Collecting spacy-legacy<3.1.0,>=3.0.8\n",
      "  Using cached spacy_legacy-3.0.9-py2.py3-none-any.whl (20 kB)\n",
      "Requirement already satisfied: packaging>=20.0 in c:\\users\\chinmay\\anaconda3\\lib\\site-packages (from spacy) (21.3)\n",
      "Requirement already satisfied: setuptools in c:\\users\\chinmay\\anaconda3\\lib\\site-packages (from spacy) (58.0.4)\n",
      "Requirement already satisfied: numpy>=1.15.0 in c:\\users\\chinmay\\appdata\\roaming\\python\\python37\\site-packages (from spacy) (1.18.5)\n",
      "Collecting srsly<3.0.0,>=2.4.1\n",
      "  Downloading srsly-2.4.2-cp37-cp37m-win_amd64.whl (450 kB)\n",
      "Requirement already satisfied: zipp>=0.5 in c:\\users\\chinmay\\anaconda3\\lib\\site-packages (from catalogue<2.1.0,>=2.0.6->spacy) (3.7.0)\n",
      "Requirement already satisfied: pyparsing!=3.0.5,>=2.0.2 in c:\\users\\chinmay\\anaconda3\\lib\\site-packages (from packaging>=20.0->spacy) (3.0.4)\n",
      "Collecting smart-open<6.0.0,>=5.0.0\n",
      "  Using cached smart_open-5.2.1-py3-none-any.whl (58 kB)\n",
      "Requirement already satisfied: idna<4,>=2.5 in c:\\users\\chinmay\\anaconda3\\lib\\site-packages (from requests<3.0.0,>=2.13.0->spacy) (3.3)\n",
      "Requirement already satisfied: certifi>=2017.4.17 in c:\\users\\chinmay\\anaconda3\\lib\\site-packages (from requests<3.0.0,>=2.13.0->spacy) (2021.10.8)\n",
      "Requirement already satisfied: charset-normalizer~=2.0.0 in c:\\users\\chinmay\\anaconda3\\lib\\site-packages (from requests<3.0.0,>=2.13.0->spacy) (2.0.4)\n",
      "Requirement already satisfied: urllib3<1.27,>=1.21.1 in c:\\users\\chinmay\\anaconda3\\lib\\site-packages (from requests<3.0.0,>=2.13.0->spacy) (1.26.8)\n",
      "Requirement already satisfied: colorama in c:\\users\\chinmay\\anaconda3\\lib\\site-packages (from tqdm<5.0.0,>=4.38.0->spacy) (0.4.4)\n",
      "Requirement already satisfied: click<9.0.0,>=7.1.1 in c:\\users\\chinmay\\anaconda3\\lib\\site-packages (from typer<0.5.0,>=0.3.0->spacy) (8.0.4)\n",
      "Requirement already satisfied: importlib-metadata in c:\\users\\chinmay\\anaconda3\\lib\\site-packages (from click<9.0.0,>=7.1.1->typer<0.5.0,>=0.3.0->spacy) (4.8.2)\n",
      "Requirement already satisfied: MarkupSafe>=0.23 in c:\\users\\chinmay\\anaconda3\\lib\\site-packages (from jinja2->spacy) (1.1.1)\n",
      "Installing collected packages: typing-extensions, murmurhash, cymem, catalogue, wasabi, typer, srsly, smart-open, pydantic, preshed, blis, thinc, spacy-loggers, spacy-legacy, pathy, langcodes, spacy\n",
      "  Attempting uninstall: typing-extensions\n",
      "    Found existing installation: typing-extensions 4.1.1\n",
      "    Uninstalling typing-extensions-4.1.1:\n",
      "      Successfully uninstalled typing-extensions-4.1.1\n",
      "  Attempting uninstall: smart-open\n",
      "    Found existing installation: smart-open 3.0.0\n",
      "    Uninstalling smart-open-3.0.0:\n",
      "      Successfully uninstalled smart-open-3.0.0\n",
      "Successfully installed blis-0.7.7 catalogue-2.0.7 cymem-2.0.6 langcodes-3.3.0 murmurhash-1.0.6 pathy-0.6.1 preshed-3.0.6 pydantic-1.8.2 smart-open-5.2.1 spacy-3.2.3 spacy-legacy-3.0.9 spacy-loggers-1.0.1 srsly-2.4.2 thinc-8.0.15 typer-0.4.0 typing-extensions-3.10.0.2 wasabi-0.9.0\n",
      "Collecting en-core-web-sm==3.2.0\n",
      "  Downloading https://github.com/explosion/spacy-models/releases/download/en_core_web_sm-3.2.0/en_core_web_sm-3.2.0-py3-none-any.whl (13.9 MB)\n",
      "Requirement already satisfied: spacy<3.3.0,>=3.2.0 in c:\\users\\chinmay\\anaconda3\\lib\\site-packages (from en-core-web-sm==3.2.0) (3.2.3)\n"
     ]
    },
    {
     "name": "stderr",
     "output_type": "stream",
     "text": [
      "2022-03-26 16:26:02.200622: W tensorflow/stream_executor/platform/default/dso_loader.cc:64] Could not load dynamic library 'cudart64_110.dll'; dlerror: cudart64_110.dll not found\n",
      "2022-03-26 16:26:02.231488: I tensorflow/stream_executor/cuda/cudart_stub.cc:29] Ignore above cudart dlerror if you do not have a GPU set up on your machine.\n"
     ]
    },
    {
     "name": "stdout",
     "output_type": "stream",
     "text": [
      "Requirement already satisfied: spacy-legacy<3.1.0,>=3.0.8 in c:\\users\\chinmay\\anaconda3\\lib\\site-packages (from spacy<3.3.0,>=3.2.0->en-core-web-sm==3.2.0) (3.0.9)\n",
      "Requirement already satisfied: catalogue<2.1.0,>=2.0.6 in c:\\users\\chinmay\\anaconda3\\lib\\site-packages (from spacy<3.3.0,>=3.2.0->en-core-web-sm==3.2.0) (2.0.7)\n",
      "Requirement already satisfied: preshed<3.1.0,>=3.0.2 in c:\\users\\chinmay\\anaconda3\\lib\\site-packages (from spacy<3.3.0,>=3.2.0->en-core-web-sm==3.2.0) (3.0.6)\n",
      "Requirement already satisfied: pydantic!=1.8,!=1.8.1,<1.9.0,>=1.7.4 in c:\\users\\chinmay\\anaconda3\\lib\\site-packages (from spacy<3.3.0,>=3.2.0->en-core-web-sm==3.2.0) (1.8.2)\n",
      "Requirement already satisfied: tqdm<5.0.0,>=4.38.0 in c:\\users\\chinmay\\anaconda3\\lib\\site-packages (from spacy<3.3.0,>=3.2.0->en-core-web-sm==3.2.0) (4.63.0)\n",
      "Requirement already satisfied: numpy>=1.15.0 in c:\\users\\chinmay\\appdata\\roaming\\python\\python37\\site-packages (from spacy<3.3.0,>=3.2.0->en-core-web-sm==3.2.0) (1.18.5)\n",
      "Requirement already satisfied: srsly<3.0.0,>=2.4.1 in c:\\users\\chinmay\\anaconda3\\lib\\site-packages (from spacy<3.3.0,>=3.2.0->en-core-web-sm==3.2.0) (2.4.2)\n",
      "Requirement already satisfied: langcodes<4.0.0,>=3.2.0 in c:\\users\\chinmay\\anaconda3\\lib\\site-packages (from spacy<3.3.0,>=3.2.0->en-core-web-sm==3.2.0) (3.3.0)\n",
      "Requirement already satisfied: jinja2 in c:\\users\\chinmay\\anaconda3\\lib\\site-packages (from spacy<3.3.0,>=3.2.0->en-core-web-sm==3.2.0) (2.11.3)\n",
      "Requirement already satisfied: thinc<8.1.0,>=8.0.12 in c:\\users\\chinmay\\anaconda3\\lib\\site-packages (from spacy<3.3.0,>=3.2.0->en-core-web-sm==3.2.0) (8.0.15)\n",
      "Requirement already satisfied: requests<3.0.0,>=2.13.0 in c:\\users\\chinmay\\anaconda3\\lib\\site-packages (from spacy<3.3.0,>=3.2.0->en-core-web-sm==3.2.0) (2.27.1)\n",
      "Requirement already satisfied: blis<0.8.0,>=0.4.0 in c:\\users\\chinmay\\anaconda3\\lib\\site-packages (from spacy<3.3.0,>=3.2.0->en-core-web-sm==3.2.0) (0.7.7)\n",
      "Requirement already satisfied: cymem<2.1.0,>=2.0.2 in c:\\users\\chinmay\\anaconda3\\lib\\site-packages (from spacy<3.3.0,>=3.2.0->en-core-web-sm==3.2.0) (2.0.6)\n",
      "Requirement already satisfied: pathy>=0.3.5 in c:\\users\\chinmay\\anaconda3\\lib\\site-packages (from spacy<3.3.0,>=3.2.0->en-core-web-sm==3.2.0) (0.6.1)\n",
      "Requirement already satisfied: wasabi<1.1.0,>=0.8.1 in c:\\users\\chinmay\\anaconda3\\lib\\site-packages (from spacy<3.3.0,>=3.2.0->en-core-web-sm==3.2.0) (0.9.0)\n",
      "Requirement already satisfied: packaging>=20.0 in c:\\users\\chinmay\\anaconda3\\lib\\site-packages (from spacy<3.3.0,>=3.2.0->en-core-web-sm==3.2.0) (21.3)\n",
      "Requirement already satisfied: murmurhash<1.1.0,>=0.28.0 in c:\\users\\chinmay\\anaconda3\\lib\\site-packages (from spacy<3.3.0,>=3.2.0->en-core-web-sm==3.2.0) (1.0.6)\n",
      "Requirement already satisfied: spacy-loggers<2.0.0,>=1.0.0 in c:\\users\\chinmay\\anaconda3\\lib\\site-packages (from spacy<3.3.0,>=3.2.0->en-core-web-sm==3.2.0) (1.0.1)\n",
      "Requirement already satisfied: typer<0.5.0,>=0.3.0 in c:\\users\\chinmay\\anaconda3\\lib\\site-packages (from spacy<3.3.0,>=3.2.0->en-core-web-sm==3.2.0) (0.4.0)\n",
      "Requirement already satisfied: setuptools in c:\\users\\chinmay\\anaconda3\\lib\\site-packages (from spacy<3.3.0,>=3.2.0->en-core-web-sm==3.2.0) (58.0.4)\n",
      "Requirement already satisfied: typing-extensions<4.0.0.0,>=3.7.4 in c:\\users\\chinmay\\anaconda3\\lib\\site-packages (from spacy<3.3.0,>=3.2.0->en-core-web-sm==3.2.0) (3.10.0.2)\n",
      "Requirement already satisfied: zipp>=0.5 in c:\\users\\chinmay\\anaconda3\\lib\\site-packages (from catalogue<2.1.0,>=2.0.6->spacy<3.3.0,>=3.2.0->en-core-web-sm==3.2.0) (3.7.0)\n",
      "Requirement already satisfied: pyparsing!=3.0.5,>=2.0.2 in c:\\users\\chinmay\\anaconda3\\lib\\site-packages (from packaging>=20.0->spacy<3.3.0,>=3.2.0->en-core-web-sm==3.2.0) (3.0.4)\n",
      "Requirement already satisfied: smart-open<6.0.0,>=5.0.0 in c:\\users\\chinmay\\anaconda3\\lib\\site-packages (from pathy>=0.3.5->spacy<3.3.0,>=3.2.0->en-core-web-sm==3.2.0) (5.2.1)\n",
      "Requirement already satisfied: charset-normalizer~=2.0.0 in c:\\users\\chinmay\\anaconda3\\lib\\site-packages (from requests<3.0.0,>=2.13.0->spacy<3.3.0,>=3.2.0->en-core-web-sm==3.2.0) (2.0.4)\n",
      "Requirement already satisfied: idna<4,>=2.5 in c:\\users\\chinmay\\anaconda3\\lib\\site-packages (from requests<3.0.0,>=2.13.0->spacy<3.3.0,>=3.2.0->en-core-web-sm==3.2.0) (3.3)\n",
      "Requirement already satisfied: certifi>=2017.4.17 in c:\\users\\chinmay\\anaconda3\\lib\\site-packages (from requests<3.0.0,>=2.13.0->spacy<3.3.0,>=3.2.0->en-core-web-sm==3.2.0) (2021.10.8)\n",
      "Requirement already satisfied: urllib3<1.27,>=1.21.1 in c:\\users\\chinmay\\anaconda3\\lib\\site-packages (from requests<3.0.0,>=2.13.0->spacy<3.3.0,>=3.2.0->en-core-web-sm==3.2.0) (1.26.8)\n",
      "Requirement already satisfied: colorama in c:\\users\\chinmay\\anaconda3\\lib\\site-packages (from tqdm<5.0.0,>=4.38.0->spacy<3.3.0,>=3.2.0->en-core-web-sm==3.2.0) (0.4.4)\n",
      "Requirement already satisfied: click<9.0.0,>=7.1.1 in c:\\users\\chinmay\\anaconda3\\lib\\site-packages (from typer<0.5.0,>=0.3.0->spacy<3.3.0,>=3.2.0->en-core-web-sm==3.2.0) (8.0.4)\n",
      "Requirement already satisfied: importlib-metadata in c:\\users\\chinmay\\anaconda3\\lib\\site-packages (from click<9.0.0,>=7.1.1->typer<0.5.0,>=0.3.0->spacy<3.3.0,>=3.2.0->en-core-web-sm==3.2.0) (4.8.2)\n",
      "Requirement already satisfied: MarkupSafe>=0.23 in c:\\users\\chinmay\\anaconda3\\lib\\site-packages (from jinja2->spacy<3.3.0,>=3.2.0->en-core-web-sm==3.2.0) (1.1.1)\n",
      "Installing collected packages: en-core-web-sm\n",
      "Successfully installed en-core-web-sm-3.2.0\n",
      "[!] As of spaCy v3.0, shortcuts like 'en' are deprecated. Please use the full\n",
      "pipeline package name 'en_core_web_sm' instead.\n",
      "[+] Download and installation successful\n",
      "You can now load the package via spacy.load('en_core_web_sm')\n"
     ]
    }
   ],
   "source": [
    "#Use below method to install spacy otherwise there is high chances it will not detect on notebook\n",
    "# https://stackoverflow.com/questions/43979042/install-spacy-not-working-in-jupyter-notebook\n",
    "\n",
    "# 1 -Time\n",
    "#import sys\n",
    "#!{sys.executable} -m pip install spacy\n",
    "#!{sys.executable} -m spacy download en"
   ]
  },
  {
   "cell_type": "code",
   "execution_count": 2,
   "id": "55c3e571",
   "metadata": {},
   "outputs": [
    {
     "name": "stdout",
     "output_type": "stream",
     "text": [
      "\n",
      "| Loading compatibility table...\n",
      "/ Loading compatibility table...\n",
      "- Loading compatibility table...\n",
      "\\ Loading compatibility table...\n",
      "| Loading compatibility table...\n",
      "/ Loading compatibility table...\n",
      "- Loading compatibility table...\n",
      "\\ Loading compatibility table...\n",
      "| Loading compatibility table...\n",
      "/ Loading compatibility table...\n",
      "- Loading compatibility table...\n",
      "\u001b[2K[+] Loaded compatibility table\n",
      "\u001b[1m\n",
      "================= Installed pipeline packages (spaCy v3.2.3) =================\u001b[0m\n",
      "[i] spaCy installation:\n",
      "E:\\myWorks\\Python\\passwordManager\\pwdmngr\\topicmodeling\\lib\\site-packages\\spacy\n",
      "\n",
      "NAME             SPACY            VERSION      \n",
      "en_core_web_sm   >=3.2.0,<3.3.0   3.2.0     [+]\n",
      "\n"
     ]
    }
   ],
   "source": [
    "# Install the spacy module - 1 time\n",
    "#!pip install -U spacy\n",
    "!python -m spacy validate"
   ]
  },
  {
   "cell_type": "code",
   "execution_count": 3,
   "id": "4d96d91b",
   "metadata": {},
   "outputs": [],
   "source": [
    "# Download the english language module- 1 time\n",
    "#!python -m spacy download en"
   ]
  },
  {
   "cell_type": "code",
   "execution_count": 5,
   "id": "d742b671",
   "metadata": {
    "collapsed": true
   },
   "outputs": [
    {
     "name": "stdout",
     "output_type": "stream",
     "text": [
      "Collecting pyLDAvis\n",
      "  Using cached pyLDAvis-3.3.1-py2.py3-none-any.whl\n",
      "Requirement already satisfied: future in c:\\users\\chinmay\\anaconda3\\lib\\site-packages (from pyLDAvis) (0.18.2)\n",
      "Requirement already satisfied: pandas>=1.2.0 in c:\\users\\chinmay\\anaconda3\\lib\\site-packages (from pyLDAvis) (1.3.4)\n",
      "Requirement already satisfied: setuptools in c:\\users\\chinmay\\anaconda3\\lib\\site-packages (from pyLDAvis) (58.0.4)\n",
      "Requirement already satisfied: scikit-learn in c:\\users\\chinmay\\anaconda3\\lib\\site-packages (from pyLDAvis) (1.0.2)\n",
      "Requirement already satisfied: scipy in c:\\users\\chinmay\\anaconda3\\lib\\site-packages (from pyLDAvis) (1.7.3)\n",
      "Requirement already satisfied: joblib in c:\\users\\chinmay\\anaconda3\\lib\\site-packages (from pyLDAvis) (1.1.0)\n",
      "Requirement already satisfied: numexpr in c:\\users\\chinmay\\anaconda3\\lib\\site-packages (from pyLDAvis) (2.8.1)\n",
      "Requirement already satisfied: jinja2 in c:\\users\\chinmay\\anaconda3\\lib\\site-packages (from pyLDAvis) (2.11.3)\n",
      "Requirement already satisfied: numpy>=1.20.0 in c:\\users\\chinmay\\anaconda3\\lib\\site-packages (from pyLDAvis) (1.21.5)\n",
      "Collecting sklearn\n",
      "  Using cached sklearn-0.0-py2.py3-none-any.whl\n",
      "Requirement already satisfied: gensim in c:\\users\\chinmay\\anaconda3\\lib\\site-packages (from pyLDAvis) (3.8.3)\n",
      "Collecting funcy\n",
      "  Using cached funcy-1.17-py2.py3-none-any.whl (33 kB)\n",
      "Requirement already satisfied: pytz>=2017.3 in c:\\users\\chinmay\\anaconda3\\lib\\site-packages (from pandas>=1.2.0->pyLDAvis) (2021.3)\n",
      "Requirement already satisfied: python-dateutil>=2.7.3 in c:\\users\\chinmay\\anaconda3\\lib\\site-packages (from pandas>=1.2.0->pyLDAvis) (2.8.2)\n",
      "Requirement already satisfied: six>=1.5 in c:\\users\\chinmay\\anaconda3\\lib\\site-packages (from python-dateutil>=2.7.3->pandas>=1.2.0->pyLDAvis) (1.16.0)\n",
      "Requirement already satisfied: smart-open>=1.8.1 in c:\\users\\chinmay\\anaconda3\\lib\\site-packages (from gensim->pyLDAvis) (5.2.1)\n",
      "Collecting Cython==0.29.14\n",
      "  Using cached Cython-0.29.14-cp37-cp37m-win_amd64.whl (1.7 MB)\n",
      "Requirement already satisfied: MarkupSafe>=0.23 in c:\\users\\chinmay\\anaconda3\\lib\\site-packages (from jinja2->pyLDAvis) (1.1.1)\n",
      "Requirement already satisfied: packaging in c:\\users\\chinmay\\anaconda3\\lib\\site-packages (from numexpr->pyLDAvis) (21.3)\n",
      "Requirement already satisfied: pyparsing!=3.0.5,>=2.0.2 in c:\\users\\chinmay\\anaconda3\\lib\\site-packages (from packaging->numexpr->pyLDAvis) (3.0.4)\n",
      "Requirement already satisfied: threadpoolctl>=2.0.0 in c:\\users\\chinmay\\anaconda3\\lib\\site-packages (from scikit-learn->pyLDAvis) (2.2.0)\n",
      "Installing collected packages: Cython, sklearn, funcy, pyLDAvis\n",
      "  Attempting uninstall: Cython\n",
      "    Found existing installation: Cython 0.29.28\n",
      "    Uninstalling Cython-0.29.28:\n",
      "      Successfully uninstalled Cython-0.29.28\n",
      "Successfully installed Cython-0.29.14 funcy-1.17 pyLDAvis-3.3.1 sklearn-0.0\n"
     ]
    }
   ],
   "source": [
    "#import sys\n",
    "#!{sys.executable} -m pip install pyLDAvis"
   ]
  },
  {
   "cell_type": "markdown",
   "id": "11489681",
   "metadata": {},
   "source": [
    "#### Importing packages\n"
   ]
  },
  {
   "cell_type": "code",
   "execution_count": 7,
   "id": "3ede1323",
   "metadata": {},
   "outputs": [],
   "source": [
    "import re\n",
    "import numpy as np\n",
    "import pandas as pd\n",
    "from pprint import pprint\n",
    "\n",
    "# Gensim\n",
    "import gensim\n",
    "import gensim.corpora as corpora\n",
    "from gensim.utils import simple_preprocess\n",
    "from gensim.models import CoherenceModel\n",
    "from gensim.models.ldamodel import LdaModel\n",
    "\n",
    "# spacy for lemmatization\n",
    "import spacy\n",
    "\n",
    "# Plotting tools\n",
    "import pyLDAvis\n",
    "import pyLDAvis.gensim_models  # don't skip this\n",
    "import matplotlib.pyplot as plt\n",
    "%matplotlib inline\n",
    "\n",
    "# Enable logging for gensim - optional\n",
    "import logging\n",
    "logging.basicConfig(format='%(asctime)s : %(levelname)s : %(message)s', level=logging.ERROR)\n",
    "\n",
    "import warnings\n",
    "warnings.filterwarnings(\"ignore\",category=DeprecationWarning)"
   ]
  },
  {
   "cell_type": "markdown",
   "id": "17a5b209",
   "metadata": {},
   "source": [
    "#### Prepraing stopwords"
   ]
  },
  {
   "cell_type": "code",
   "execution_count": 8,
   "id": "14293a10",
   "metadata": {},
   "outputs": [],
   "source": [
    "# NLTK Stop words\n",
    "from nltk.corpus import stopwords\n",
    "stop_words = stopwords.words('english')\n",
    "stop_words.extend(['from', 'subject', 're', 'edu', 'use'])"
   ]
  },
  {
   "cell_type": "markdown",
   "id": "ad2c6c36",
   "metadata": {},
   "source": [
    "#### Import Newsgroups Data\n",
    "\n",
    "We will be using the 20-Newsgroups dataset for this exercise. This version of the dataset contains about 11k newsgroups posts from 20 different topics.  \n",
    "\n",
    "https://raw.githubusercontent.com/selva86/datasets/master/newsgroups.json"
   ]
  },
  {
   "cell_type": "code",
   "execution_count": 9,
   "id": "5bf8da48",
   "metadata": {},
   "outputs": [
    {
     "name": "stdout",
     "output_type": "stream",
     "text": [
      "['rec.autos' 'comp.sys.mac.hardware' 'comp.graphics' 'sci.space'\n",
      " 'talk.politics.guns' 'sci.med' 'comp.sys.ibm.pc.hardware'\n",
      " 'comp.os.ms-windows.misc' 'rec.motorcycles' 'talk.religion.misc'\n",
      " 'misc.forsale' 'alt.atheism' 'sci.electronics' 'comp.windows.x'\n",
      " 'rec.sport.hockey' 'rec.sport.baseball' 'soc.religion.christian'\n",
      " 'talk.politics.mideast' 'talk.politics.misc' 'sci.crypt']\n"
     ]
    },
    {
     "data": {
      "text/html": [
       "<div>\n",
       "<style scoped>\n",
       "    .dataframe tbody tr th:only-of-type {\n",
       "        vertical-align: middle;\n",
       "    }\n",
       "\n",
       "    .dataframe tbody tr th {\n",
       "        vertical-align: top;\n",
       "    }\n",
       "\n",
       "    .dataframe thead th {\n",
       "        text-align: right;\n",
       "    }\n",
       "</style>\n",
       "<table border=\"1\" class=\"dataframe\">\n",
       "  <thead>\n",
       "    <tr style=\"text-align: right;\">\n",
       "      <th></th>\n",
       "      <th>content</th>\n",
       "      <th>target</th>\n",
       "      <th>target_names</th>\n",
       "    </tr>\n",
       "  </thead>\n",
       "  <tbody>\n",
       "    <tr>\n",
       "      <th>0</th>\n",
       "      <td>From: lerxst@wam.umd.edu (where's my thing)\\nS...</td>\n",
       "      <td>7</td>\n",
       "      <td>rec.autos</td>\n",
       "    </tr>\n",
       "    <tr>\n",
       "      <th>1</th>\n",
       "      <td>From: guykuo@carson.u.washington.edu (Guy Kuo)...</td>\n",
       "      <td>4</td>\n",
       "      <td>comp.sys.mac.hardware</td>\n",
       "    </tr>\n",
       "    <tr>\n",
       "      <th>2</th>\n",
       "      <td>From: twillis@ec.ecn.purdue.edu (Thomas E Will...</td>\n",
       "      <td>4</td>\n",
       "      <td>comp.sys.mac.hardware</td>\n",
       "    </tr>\n",
       "    <tr>\n",
       "      <th>3</th>\n",
       "      <td>From: jgreen@amber (Joe Green)\\nSubject: Re: W...</td>\n",
       "      <td>1</td>\n",
       "      <td>comp.graphics</td>\n",
       "    </tr>\n",
       "    <tr>\n",
       "      <th>4</th>\n",
       "      <td>From: jcm@head-cfa.harvard.edu (Jonathan McDow...</td>\n",
       "      <td>14</td>\n",
       "      <td>sci.space</td>\n",
       "    </tr>\n",
       "  </tbody>\n",
       "</table>\n",
       "</div>"
      ],
      "text/plain": [
       "                                             content  target  \\\n",
       "0  From: lerxst@wam.umd.edu (where's my thing)\\nS...       7   \n",
       "1  From: guykuo@carson.u.washington.edu (Guy Kuo)...       4   \n",
       "2  From: twillis@ec.ecn.purdue.edu (Thomas E Will...       4   \n",
       "3  From: jgreen@amber (Joe Green)\\nSubject: Re: W...       1   \n",
       "4  From: jcm@head-cfa.harvard.edu (Jonathan McDow...      14   \n",
       "\n",
       "            target_names  \n",
       "0              rec.autos  \n",
       "1  comp.sys.mac.hardware  \n",
       "2  comp.sys.mac.hardware  \n",
       "3          comp.graphics  \n",
       "4              sci.space  "
      ]
     },
     "execution_count": 9,
     "metadata": {},
     "output_type": "execute_result"
    }
   ],
   "source": [
    "# Import Dataset\n",
    "df = pd.read_json('https://raw.githubusercontent.com/selva86/datasets/master/newsgroups.json')\n",
    "print(df.target_names.unique())\n",
    "df.head()"
   ]
  },
  {
   "cell_type": "markdown",
   "id": "547607cf",
   "metadata": {},
   "source": [
    "#### Remove emails and newline characters"
   ]
  },
  {
   "cell_type": "code",
   "execution_count": 10,
   "id": "70ed336a",
   "metadata": {},
   "outputs": [
    {
     "data": {
      "text/plain": [
       "\"From: lerxst@wam.umd.edu (where's my thing)\\nSubject: WHAT car is this!?\\nNntp-Posting-Host: rac3.wam.umd.edu\\nOrganization: University of Maryland, College Park\\nLines: 15\\n\\n I was wondering if anyone out there could enlighten me on this car I saw\\nthe other day. It was a 2-door sports car, looked to be from the late 60s/\\nearly 70s. It was called a Bricklin. The doors were really small. In addition,\\nthe front bumper was separate from the rest of the body. This is \\nall I know. If anyone can tellme a model name, engine specs, years\\nof production, where this car is made, history, or whatever info you\\nhave on this funky looking car, please e-mail.\\n\\nThanks,\\n- IL\\n   ---- brought to you by your neighborhood Lerxst ----\\n\\n\\n\\n\\n\""
      ]
     },
     "execution_count": 10,
     "metadata": {},
     "output_type": "execute_result"
    }
   ],
   "source": [
    "df['content'][0]"
   ]
  },
  {
   "cell_type": "code",
   "execution_count": 12,
   "id": "2149966b",
   "metadata": {},
   "outputs": [
    {
     "name": "stdout",
     "output_type": "stream",
     "text": [
      "['From: (wheres my thing) Subject: WHAT car is this!? Nntp-Posting-Host: '\n",
      " 'rac3.wam.umd.edu Organization: University of Maryland, College Park Lines: '\n",
      " '15 I was wondering if anyone out there could enlighten me on this car I saw '\n",
      " 'the other day. It was a 2-door sports car, looked to be from the late 60s/ '\n",
      " 'early 70s. It was called a Bricklin. The doors were really small. In '\n",
      " 'addition, the front bumper was separate from the rest of the body. This is '\n",
      " 'all I know. If anyone can tellme a model name, engine specs, years of '\n",
      " 'production, where this car is made, history, or whatever info you have on '\n",
      " 'this funky looking car, please e-mail. Thanks, - IL ---- brought to you by '\n",
      " 'your neighborhood Lerxst ---- ']\n"
     ]
    }
   ],
   "source": [
    "# We need to remove these emails, \\n and othere sympbols from the content\n",
    "#Convert to list\n",
    "data = df.content.values.tolist()\n",
    "\n",
    "# Remove Emails\n",
    "data = [re.sub('\\S*@\\S*\\s?', '', sent) for sent in data]\n",
    "\n",
    "# Remove new line characters\n",
    "data = [re.sub('\\s+', ' ', sent) for sent in data]\n",
    "\n",
    "# Remove distracting single quotes\n",
    "data = [re.sub(\"\\'\", \"\", sent) for sent in data]\n",
    "\n",
    "pprint(data[:1])"
   ]
  },
  {
   "cell_type": "markdown",
   "id": "c6628cec",
   "metadata": {},
   "source": [
    "#### Word tokenisation and text cleanup\n",
    "\n",
    "Let’s tokenize each sentence into a list of words, removing punctuations and unnecessary characters altogether. gensim's simple_preprocess() is great for this task."
   ]
  },
  {
   "cell_type": "code",
   "execution_count": 13,
   "id": "0b969f9a",
   "metadata": {},
   "outputs": [
    {
     "name": "stdout",
     "output_type": "stream",
     "text": [
      "[['from', 'wheres', 'my', 'thing', 'subject', 'what', 'car', 'is', 'this', 'nntp', 'posting', 'host', 'rac', 'wam', 'umd', 'edu', 'organization', 'university', 'of', 'maryland', 'college', 'park', 'lines', 'was', 'wondering', 'if', 'anyone', 'out', 'there', 'could', 'enlighten', 'me', 'on', 'this', 'car', 'saw', 'the', 'other', 'day', 'it', 'was', 'door', 'sports', 'car', 'looked', 'to', 'be', 'from', 'the', 'late', 'early', 'it', 'was', 'called', 'bricklin', 'the', 'doors', 'were', 'really', 'small', 'in', 'addition', 'the', 'front', 'bumper', 'was', 'separate', 'from', 'the', 'rest', 'of', 'the', 'body', 'this', 'is', 'all', 'know', 'if', 'anyone', 'can', 'tellme', 'model', 'name', 'engine', 'specs', 'years', 'of', 'production', 'where', 'this', 'car', 'is', 'made', 'history', 'or', 'whatever', 'info', 'you', 'have', 'on', 'this', 'funky', 'looking', 'car', 'please', 'mail', 'thanks', 'il', 'brought', 'to', 'you', 'by', 'your', 'neighborhood', 'lerxst']]\n"
     ]
    }
   ],
   "source": [
    "# deacc=True removes punctuations\n",
    "def word_tokenisation(sentences):\n",
    "    for sentence in sentences:\n",
    "        yield(simple_preprocess(str(sentence), deacc=True))  \n",
    "\n",
    "data_words = list(word_tokenisation(data))\n",
    "\n",
    "print(data_words[:1])"
   ]
  },
  {
   "cell_type": "markdown",
   "id": "ea561337",
   "metadata": {},
   "source": [
    "#### Creating bigram and trigram models\n",
    "\n",
    "genesim's phrases is best for this. It has two important parameters.\n",
    "\n",
    "min_count = Higher the value, harder it will be words to get combined\n",
    "\n",
    "Threshold = Higher threshold fewer phrases"
   ]
  },
  {
   "cell_type": "code",
   "execution_count": 14,
   "id": "dc077adc",
   "metadata": {},
   "outputs": [
    {
     "name": "stdout",
     "output_type": "stream",
     "text": [
      "['from', 'wheres', 'my', 'thing', 'subject', 'what', 'car', 'is', 'this', 'nntp_posting_host', 'rac_wam_umd_edu', 'organization', 'university', 'of', 'maryland_college_park', 'lines', 'was', 'wondering', 'if', 'anyone', 'out', 'there', 'could', 'enlighten', 'me', 'on', 'this', 'car', 'saw', 'the', 'other', 'day', 'it', 'was', 'door', 'sports', 'car', 'looked', 'to', 'be', 'from', 'the', 'late', 'early', 'it', 'was', 'called', 'bricklin', 'the', 'doors', 'were', 'really', 'small', 'in', 'addition', 'the', 'front_bumper', 'was', 'separate', 'from', 'the', 'rest', 'of', 'the', 'body', 'this', 'is', 'all', 'know', 'if', 'anyone', 'can', 'tellme', 'model', 'name', 'engine', 'specs', 'years', 'of', 'production', 'where', 'this', 'car', 'is', 'made', 'history', 'or', 'whatever', 'info', 'you', 'have', 'on', 'this', 'funky', 'looking', 'car', 'please', 'mail', 'thanks', 'il', 'brought', 'to', 'you', 'by', 'your', 'neighborhood', 'lerxst']\n"
     ]
    }
   ],
   "source": [
    "# Build the bigram and trigram models\n",
    "bigram = gensim.models.Phrases(data_words, min_count=5, threshold=100)\n",
    "trigram = gensim.models.Phrases(bigram[data_words], threshold=100)  \n",
    "\n",
    "# Faster way to get a sentence clubbed as a trigram/bigram\n",
    "bigram_mod = gensim.models.phrases.Phraser(bigram)\n",
    "trigram_mod = gensim.models.phrases.Phraser(trigram)\n",
    "\n",
    "# See trigram example\n",
    "print(trigram_mod[bigram_mod[data_words[0]]])"
   ]
  },
  {
   "cell_type": "code",
   "execution_count": 15,
   "id": "e16b9ba0",
   "metadata": {},
   "outputs": [
    {
     "name": "stdout",
     "output_type": "stream",
     "text": [
      "['from', 'wheres', 'my', 'thing', 'subject', 'what', 'car', 'is', 'this', 'nntp_posting', 'host', 'rac_wam', 'umd_edu', 'organization', 'university', 'of', 'maryland_college', 'park', 'lines', 'was', 'wondering', 'if', 'anyone', 'out', 'there', 'could', 'enlighten', 'me', 'on', 'this', 'car', 'saw', 'the', 'other', 'day', 'it', 'was', 'door', 'sports', 'car', 'looked', 'to', 'be', 'from', 'the', 'late', 'early', 'it', 'was', 'called', 'bricklin', 'the', 'doors', 'were', 'really', 'small', 'in', 'addition', 'the', 'front_bumper', 'was', 'separate', 'from', 'the', 'rest', 'of', 'the', 'body', 'this', 'is', 'all', 'know', 'if', 'anyone', 'can', 'tellme', 'model', 'name', 'engine', 'specs', 'years', 'of', 'production', 'where', 'this', 'car', 'is', 'made', 'history', 'or', 'whatever', 'info', 'you', 'have', 'on', 'this', 'funky', 'looking', 'car', 'please', 'mail', 'thanks', 'il', 'brought', 'to', 'you', 'by', 'your', 'neighborhood', 'lerxst']\n"
     ]
    }
   ],
   "source": [
    "print(bigram_mod[data_words[0]])"
   ]
  },
  {
   "cell_type": "markdown",
   "id": "64c8d4bc",
   "metadata": {},
   "source": [
    "#### stopwords removal, Bigram generation & word lemmetization"
   ]
  },
  {
   "cell_type": "code",
   "execution_count": 16,
   "id": "640778e8",
   "metadata": {},
   "outputs": [],
   "source": [
    "def remove_stopwords(texts):\n",
    "    return [[word for word in simple_preprocess(str(doc)) if word not in stop_words] for doc in texts]\n",
    "\n",
    "def make_bigrams(texts):\n",
    "    return [bigram_mod[doc] for doc in texts]\n",
    "\n",
    "def make_trigrams(texts):\n",
    "    return [trigram_mod[bigram_mod[doc]] for doc in texts]\n",
    "\n",
    "def lemmatization(texts, allowed_postags=['NOUN', 'ADJ', 'VERB', 'ADV']):\n",
    "    \"\"\"https://spacy.io/api/annotation\"\"\"\n",
    "    texts_out = []\n",
    "    for sent in texts:\n",
    "        doc = nlp(\" \".join(sent)) \n",
    "        texts_out.append([token.lemma_ for token in doc if token.pos_ in allowed_postags])\n",
    "    return texts_out"
   ]
  },
  {
   "cell_type": "code",
   "execution_count": 19,
   "id": "514c5f44",
   "metadata": {},
   "outputs": [],
   "source": [
    "# Remove Stop Words\n",
    "data_words_nostops = remove_stopwords(data_words)"
   ]
  },
  {
   "cell_type": "code",
   "execution_count": 20,
   "id": "ebc9eece",
   "metadata": {
    "collapsed": true
   },
   "outputs": [
    {
     "data": {
      "text/plain": [
       "['wheres',\n",
       " 'thing',\n",
       " 'car',\n",
       " 'nntp',\n",
       " 'posting',\n",
       " 'host',\n",
       " 'rac',\n",
       " 'wam',\n",
       " 'umd',\n",
       " 'organization',\n",
       " 'university',\n",
       " 'maryland',\n",
       " 'college',\n",
       " 'park',\n",
       " 'lines',\n",
       " 'wondering',\n",
       " 'anyone',\n",
       " 'could',\n",
       " 'enlighten',\n",
       " 'car',\n",
       " 'saw',\n",
       " 'day',\n",
       " 'door',\n",
       " 'sports',\n",
       " 'car',\n",
       " 'looked',\n",
       " 'late',\n",
       " 'early',\n",
       " 'called',\n",
       " 'bricklin',\n",
       " 'doors',\n",
       " 'really',\n",
       " 'small',\n",
       " 'addition',\n",
       " 'front',\n",
       " 'bumper',\n",
       " 'separate',\n",
       " 'rest',\n",
       " 'body',\n",
       " 'know',\n",
       " 'anyone',\n",
       " 'tellme',\n",
       " 'model',\n",
       " 'name',\n",
       " 'engine',\n",
       " 'specs',\n",
       " 'years',\n",
       " 'production',\n",
       " 'car',\n",
       " 'made',\n",
       " 'history',\n",
       " 'whatever',\n",
       " 'info',\n",
       " 'funky',\n",
       " 'looking',\n",
       " 'car',\n",
       " 'please',\n",
       " 'mail',\n",
       " 'thanks',\n",
       " 'il',\n",
       " 'brought',\n",
       " 'neighborhood',\n",
       " 'lerxst']"
      ]
     },
     "execution_count": 20,
     "metadata": {},
     "output_type": "execute_result"
    }
   ],
   "source": [
    "data_words_nostops[0] #List contaings words belongs to senetnce1 of the content after removing stopwords"
   ]
  },
  {
   "cell_type": "code",
   "execution_count": 21,
   "id": "4929f9c2",
   "metadata": {},
   "outputs": [],
   "source": [
    "# Form Bigrams\n",
    "data_words_bigrams = make_bigrams(data_words_nostops)"
   ]
  },
  {
   "cell_type": "code",
   "execution_count": 22,
   "id": "673bfa90",
   "metadata": {
    "collapsed": true
   },
   "outputs": [
    {
     "data": {
      "text/plain": [
       "['wheres',\n",
       " 'thing',\n",
       " 'car',\n",
       " 'nntp_posting',\n",
       " 'host',\n",
       " 'rac_wam',\n",
       " 'umd',\n",
       " 'organization',\n",
       " 'university',\n",
       " 'maryland_college',\n",
       " 'park',\n",
       " 'lines',\n",
       " 'wondering',\n",
       " 'anyone',\n",
       " 'could',\n",
       " 'enlighten',\n",
       " 'car',\n",
       " 'saw',\n",
       " 'day',\n",
       " 'door',\n",
       " 'sports',\n",
       " 'car',\n",
       " 'looked',\n",
       " 'late',\n",
       " 'early',\n",
       " 'called',\n",
       " 'bricklin',\n",
       " 'doors',\n",
       " 'really',\n",
       " 'small',\n",
       " 'addition',\n",
       " 'front_bumper',\n",
       " 'separate',\n",
       " 'rest',\n",
       " 'body',\n",
       " 'know',\n",
       " 'anyone',\n",
       " 'tellme',\n",
       " 'model',\n",
       " 'name',\n",
       " 'engine',\n",
       " 'specs',\n",
       " 'years',\n",
       " 'production',\n",
       " 'car',\n",
       " 'made',\n",
       " 'history',\n",
       " 'whatever',\n",
       " 'info',\n",
       " 'funky',\n",
       " 'looking',\n",
       " 'car',\n",
       " 'please',\n",
       " 'mail',\n",
       " 'thanks',\n",
       " 'il',\n",
       " 'brought',\n",
       " 'neighborhood',\n",
       " 'lerxst']"
      ]
     },
     "execution_count": 22,
     "metadata": {},
     "output_type": "execute_result"
    }
   ],
   "source": [
    "data_words_bigrams[0] ##List contaings bigram words belongs to senetnce1 of the content"
   ]
  },
  {
   "cell_type": "code",
   "execution_count": 24,
   "id": "b2295a64",
   "metadata": {},
   "outputs": [],
   "source": [
    "# Initialize spacy 'en' model, keeping only tagger component (for efficiency)\n",
    "# python -m spacy download en\n",
    "nlp = spacy.load('en_core_web_sm', disable=['parser', 'ner'])"
   ]
  },
  {
   "cell_type": "code",
   "execution_count": 25,
   "id": "aa6074d5",
   "metadata": {},
   "outputs": [],
   "source": [
    "# Do lemmatization keeping only noun, adj, vb, adv\n",
    "data_lemmatized = lemmatization(data_words_bigrams, allowed_postags=['NOUN', 'ADJ', 'VERB', 'ADV'])"
   ]
  },
  {
   "cell_type": "code",
   "execution_count": 26,
   "id": "bf7caf46",
   "metadata": {
    "collapsed": true
   },
   "outputs": [
    {
     "data": {
      "text/plain": [
       "['thing',\n",
       " 'car',\n",
       " 'nntp_poste',\n",
       " 'host',\n",
       " 'rac_wam',\n",
       " 'park',\n",
       " 'line',\n",
       " 'wonder',\n",
       " 'enlighten',\n",
       " 'car',\n",
       " 'see',\n",
       " 'day',\n",
       " 'door',\n",
       " 'sport',\n",
       " 'car',\n",
       " 'look',\n",
       " 'late',\n",
       " 'early',\n",
       " 'call',\n",
       " 'door',\n",
       " 'really',\n",
       " 'small',\n",
       " 'addition',\n",
       " 'front_bumper',\n",
       " 'separate',\n",
       " 'rest',\n",
       " 'body',\n",
       " 'know',\n",
       " 'tellme',\n",
       " 'model',\n",
       " 'name',\n",
       " 'engine',\n",
       " 'spec',\n",
       " 'year',\n",
       " 'production',\n",
       " 'car',\n",
       " 'make',\n",
       " 'history',\n",
       " 'info',\n",
       " 'funky',\n",
       " 'look',\n",
       " 'car',\n",
       " 'mail',\n",
       " 'thank',\n",
       " 'bring',\n",
       " 'neighborhood',\n",
       " 'lerxst']"
      ]
     },
     "execution_count": 26,
     "metadata": {},
     "output_type": "execute_result"
    }
   ],
   "source": [
    "data_lemmatized[0] #List contains leematised words belongs to the 1st document of content"
   ]
  },
  {
   "cell_type": "markdown",
   "id": "665f75e3",
   "metadata": {},
   "source": [
    "#### Preparing a Dictionary and a text corpus which needed for Topic modeling"
   ]
  },
  {
   "cell_type": "code",
   "execution_count": 27,
   "id": "e5a80dd6",
   "metadata": {},
   "outputs": [],
   "source": [
    "# Create Dictionary\n",
    "id2word = corpora.Dictionary(data_lemmatized)"
   ]
  },
  {
   "cell_type": "code",
   "execution_count": 36,
   "id": "507f5598",
   "metadata": {},
   "outputs": [
    {
     "name": "stdout",
     "output_type": "stream",
     "text": [
      "51882\n",
      "front_bumper\n",
      "<class 'gensim.corpora.dictionary.Dictionary'>\n"
     ]
    }
   ],
   "source": [
    "print(len(id2word))\n",
    "print(id2word[10])\n",
    "print(type(id2word))"
   ]
  },
  {
   "cell_type": "code",
   "execution_count": 37,
   "id": "23a71f7f",
   "metadata": {},
   "outputs": [],
   "source": [
    "# Create a text Corpus. We already have lemmtised data which can be used as corpus\n",
    "texts = data_lemmatized"
   ]
  },
  {
   "cell_type": "code",
   "execution_count": 38,
   "id": "93a1ecca",
   "metadata": {},
   "outputs": [],
   "source": [
    "# Term Document Frequency\n",
    "corpus = [id2word.doc2bow(text) for text in texts]"
   ]
  },
  {
   "cell_type": "code",
   "execution_count": 43,
   "id": "50b3e39f",
   "metadata": {},
   "outputs": [
    {
     "name": "stdout",
     "output_type": "stream",
     "text": [
      "11314\n",
      "<class 'list'>\n",
      "[(0, 1), (1, 1), (2, 1), (3, 1), (4, 5), (5, 1), (6, 2), (7, 1), (8, 1), (9, 1), (10, 1), (11, 1), (12, 1), (13, 1), (14, 1), (15, 1), (16, 1), (17, 1), (18, 1), (19, 2), (20, 1), (21, 1), (22, 1), (23, 1), (24, 1), (25, 1), (26, 1), (27, 1), (28, 1), (29, 1), (30, 1), (31, 1), (32, 1), (33, 1), (34, 1), (35, 1), (36, 1), (37, 1), (38, 1), (39, 1), (40, 1)]\n"
     ]
    }
   ],
   "source": [
    "print(len(corpus))\n",
    "print(type(corpus))\n",
    "print(corpus[0])"
   ]
  },
  {
   "cell_type": "code",
   "execution_count": 44,
   "id": "25a58414",
   "metadata": {},
   "outputs": [],
   "source": [
    "#Term document frequency showing the no of times a word occured on a document. It creates an unique id for each word \n",
    "# (2, 1) = It represent unique id 2 for a word which occured 1 time on the document"
   ]
  },
  {
   "cell_type": "code",
   "execution_count": 46,
   "id": "b4a05dfa",
   "metadata": {},
   "outputs": [
    {
     "data": {
      "text/plain": [
       "'bring'"
      ]
     },
     "execution_count": 46,
     "metadata": {},
     "output_type": "execute_result"
    }
   ],
   "source": [
    "#To see the word from its id\n",
    "id2word[2] # bring word appears one time on the first document i.e in corpus[0]"
   ]
  },
  {
   "cell_type": "code",
   "execution_count": 48,
   "id": "dfe425b0",
   "metadata": {},
   "outputs": [
    {
     "name": "stdout",
     "output_type": "stream",
     "text": [
      "(3, 2)\n",
      "call\n"
     ]
    }
   ],
   "source": [
    "# Similarly to see in the second document\n",
    "print(corpus[1][0])\n",
    "print(id2word[3]) # Call word appears 2 times on 2nd document"
   ]
  },
  {
   "cell_type": "markdown",
   "id": "05598d54",
   "metadata": {},
   "source": [
    "#### Building the LDA model"
   ]
  },
  {
   "cell_type": "code",
   "execution_count": 50,
   "id": "8a168285",
   "metadata": {},
   "outputs": [],
   "source": [
    "# Build LDA model\n",
    "lda_model = LdaModel(corpus=corpus,\n",
    "                     id2word=id2word,\n",
    "                     num_topics=20, \n",
    "                     random_state=100,\n",
    "                     update_every=1,\n",
    "                     chunksize=100,\n",
    "                     passes=10,\n",
    "                     alpha='auto',\n",
    "                     per_word_topics=True)"
   ]
  },
  {
   "cell_type": "markdown",
   "id": "d1e25cea",
   "metadata": {},
   "source": [
    "#### Viewing LDA model's Topics\n",
    "\n",
    "we build this model with 20 different topics where each topic is combination of keywords with different propertions."
   ]
  },
  {
   "cell_type": "code",
   "execution_count": 52,
   "id": "893160b9",
   "metadata": {},
   "outputs": [
    {
     "name": "stdout",
     "output_type": "stream",
     "text": [
      "[(0,\n",
      "  '0.705*\"ax\" + 0.026*\"graphic\" + 0.013*\"peace\" + 0.013*\"bomb\" + '\n",
      "  '0.012*\"convert\" + 0.009*\"homosexual\" + 0.007*\"violence\" + 0.006*\"capture\" + '\n",
      "  '0.006*\"birth\" + 0.005*\"gif\"'),\n",
      " (1,\n",
      "  '0.028*\"people\" + 0.019*\"say\" + 0.013*\"believe\" + 0.013*\"reason\" + '\n",
      "  '0.012*\"point\" + 0.011*\"evidence\" + 0.011*\"mean\" + 0.011*\"many\" + '\n",
      "  '0.011*\"make\" + 0.010*\"state\"'),\n",
      " (2,\n",
      "  '0.057*\"trust\" + 0.049*\"stupid\" + 0.043*\"session\" + 0.032*\"registration\" + '\n",
      "  '0.028*\"conference\" + 0.026*\"implementation\" + 0.021*\"speaker\" + '\n",
      "  '0.021*\"beautiful\" + 0.018*\"fish\" + 0.018*\"custom\"'),\n",
      " (3,\n",
      "  '0.092*\"mail\" + 0.055*\"price\" + 0.049*\"sale\" + 0.040*\"cpu\" + 0.036*\"pin\" + '\n",
      "  '0.033*\"disk\" + 0.030*\"offer\" + 0.029*\"tape\" + 0.022*\"board\" + 0.021*\"bus\"'),\n",
      " (4,\n",
      "  '0.208*\"window\" + 0.068*\"server\" + 0.062*\"package\" + 0.044*\"motif\" + '\n",
      "  '0.033*\"mit\" + 0.028*\"crash\" + 0.022*\"application\" + 0.014*\"event\" + '\n",
      "  '0.013*\"programmer\" + 0.013*\"honor\"'),\n",
      " (5,\n",
      "  '0.058*\"system\" + 0.046*\"use\" + 0.027*\"bit\" + 0.025*\"computer\" + '\n",
      "  '0.023*\"problem\" + 0.017*\"machine\" + 0.016*\"software\" + 0.016*\"run\" + '\n",
      "  '0.015*\"datum\" + 0.015*\"chip\"'),\n",
      " (6,\n",
      "  '0.032*\"get\" + 0.025*\"know\" + 0.025*\"go\" + 0.022*\"good\" + 0.019*\"think\" + '\n",
      "  '0.018*\"m\" + 0.017*\"time\" + 0.016*\"make\" + 0.016*\"well\" + 0.015*\"see\"'),\n",
      " (7,\n",
      "  '0.079*\"car\" + 0.031*\"bike\" + 0.026*\"wire\" + 0.021*\"engine\" + 0.020*\"ride\" + '\n",
      "  '0.019*\"internal\" + 0.018*\"light\" + 0.017*\"direct\" + 0.017*\"road\" + '\n",
      "  '0.016*\"ground\"'),\n",
      " (8,\n",
      "  '0.076*\"monitor\" + 0.062*\"controller\" + 0.046*\"trial\" + 0.041*\"cop\" + '\n",
      "  '0.041*\"signal\" + 0.039*\"step\" + 0.031*\"circuit\" + 0.026*\"dream\" + '\n",
      "  '0.026*\"ethnic\" + 0.023*\"insert\"'),\n",
      " (9,\n",
      "  '0.065*\"science\" + 0.053*\"patient\" + 0.049*\"study\" + 0.025*\"health\" + '\n",
      "  '0.025*\"disease\" + 0.024*\"scientific\" + 0.023*\"treatment\" + 0.020*\"risk\" + '\n",
      "  '0.019*\"insist\" + 0.018*\"waste\"'),\n",
      " (10,\n",
      "  '0.083*\"team\" + 0.079*\"game\" + 0.055*\"play\" + 0.050*\"win\" + 0.041*\"year\" + '\n",
      "  '0.025*\"fan\" + 0.023*\"run\" + 0.020*\"score\" + 0.019*\"notice\" + '\n",
      "  '0.017*\"division\"'),\n",
      " (11,\n",
      "  '0.180*\"line\" + 0.132*\"write\" + 0.116*\"organization\" + 0.099*\"article\" + '\n",
      "  '0.076*\"nntp_poste\" + 0.069*\"host\" + 0.037*\"reply\" + 0.032*\"thank\" + '\n",
      "  '0.024*\"university\" + 0.016*\"com\"'),\n",
      " (12,\n",
      "  '0.021*\"power\" + 0.018*\"high\" + 0.017*\"large\" + 0.015*\"number\" + '\n",
      "  '0.014*\"small\" + 0.013*\"player\" + 0.013*\"area\" + 0.012*\"low\" + '\n",
      "  '0.011*\"report\" + 0.010*\"local\"'),\n",
      " (13,\n",
      "  '0.093*\"space\" + 0.028*\"community\" + 0.028*\"earth\" + 0.025*\"launch\" + '\n",
      "  '0.022*\"mission\" + 0.021*\"orbit\" + 0.021*\"moon\" + 0.018*\"satellite\" + '\n",
      "  '0.018*\"announcement\" + 0.016*\"plane\"'),\n",
      " (14,\n",
      "  '0.144*\"color\" + 0.052*\"distribution_usa\" + 0.043*\"past\" + 0.025*\"stream\" + '\n",
      "  '0.020*\"usa\" + 0.016*\"unique\" + 0.015*\"ins_cwru\" + 0.014*\"turbo\" + '\n",
      "  '0.014*\"jim_frost\" + 0.014*\"porsche\"'),\n",
      " (15,\n",
      "  '0.142*\"key\" + 0.038*\"security\" + 0.037*\"public\" + 0.031*\"clipper\" + '\n",
      "  '0.031*\"master\" + 0.024*\"secure\" + 0.022*\"secret\" + 0.022*\"air\" + '\n",
      "  '0.021*\"government\" + 0.020*\"chip\"'),\n",
      " (16,\n",
      "  '0.192*\"drive\" + 0.095*\"card\" + 0.076*\"driver\" + 0.060*\"test\" + '\n",
      "  '0.031*\"replace\" + 0.028*\"family\" + 0.025*\"period\" + 0.022*\"bill\" + '\n",
      "  '0.022*\"printer\" + 0.018*\"warranty\"'),\n",
      " (17,\n",
      "  '0.018*\"program\" + 0.017*\"file\" + 0.016*\"include\" + 0.015*\"information\" + '\n",
      "  '0.015*\"do\" + 0.015*\"send\" + 0.014*\"also\" + 0.013*\"set\" + 0.012*\"message\" + '\n",
      "  '0.012*\"source\"'),\n",
      " (18,\n",
      "  '0.052*\"physical\" + 0.033*\"israeli\" + 0.030*\"soldier\" + 0.029*\"war\" + '\n",
      "  '0.026*\"village\" + 0.024*\"attack\" + 0.024*\"armenian\" + 0.023*\"kill\" + '\n",
      "  '0.018*\"turkish\" + 0.016*\"withdraw\"'),\n",
      " (19,\n",
      "  '0.052*\"man\" + 0.039*\"gun\" + 0.036*\"child\" + 0.027*\"death\" + 0.026*\"accept\" '\n",
      "  '+ 0.025*\"speak\" + 0.023*\"belief\" + 0.023*\"truth\" + 0.023*\"god\" + '\n",
      "  '0.021*\"kill\"')]\n"
     ]
    }
   ],
   "source": [
    "pprint(lda_model.print_topics())\n",
    "doc_lda = lda_model[corpus]"
   ]
  },
  {
   "cell_type": "markdown",
   "id": "39b4787a",
   "metadata": {},
   "source": [
    "(0, '0.705*\"ax\" + 0.026*\"graphic\" + 0.013*\"peace\" + 0.013*\"bomb\" + 0.012*\"convert\" + 0.009*\"homosexual\" + 0.007*\"violence\" + 0.006*\"capture\" + 0.006*\"birth\" + 0.005*\"gif\"')\n",
    "\n",
    "O = Topic Number 0\n",
    "\n",
    "It consists of 10 keywords with different weitage.\n",
    "\n",
    "ax = keyword with highest weitage 0.705"
   ]
  },
  {
   "cell_type": "markdown",
   "id": "8b763e86",
   "metadata": {},
   "source": [
    "#### Model Validation\n",
    "\n",
    "Computing the model perplexity and coherence score"
   ]
  },
  {
   "cell_type": "code",
   "execution_count": 53,
   "id": "29d44e98",
   "metadata": {},
   "outputs": [
    {
     "name": "stdout",
     "output_type": "stream",
     "text": [
      "\n",
      "Perplexity: -13.488085387428182\n",
      "\n",
      "Coherence Score: 0.4898337323593457\n"
     ]
    }
   ],
   "source": [
    "# Compute Perplexity = a measure of how good the model is. lower the better.\n",
    "print(f'\\nPerplexity: {lda_model.log_perplexity(corpus)}')\n",
    "\n",
    "# Compute Coherence Score\n",
    "coherence_model_lda = CoherenceModel(model=lda_model, texts=data_lemmatized, dictionary=id2word, coherence='c_v')\n",
    "coherence_lda = coherence_model_lda.get_coherence()\n",
    "print(f'\\nCoherence Score: {coherence_lda}')"
   ]
  },
  {
   "cell_type": "markdown",
   "id": "37f8b36d",
   "metadata": {},
   "source": [
    "#### Visualising Topics & keywords"
   ]
  },
  {
   "cell_type": "code",
   "execution_count": 55,
   "id": "83002ee6",
   "metadata": {},
   "outputs": [
    {
     "name": "stderr",
     "output_type": "stream",
     "text": [
      "C:\\Users\\Chinmay\\anaconda3\\lib\\site-packages\\pyLDAvis\\_prepare.py:247: FutureWarning: In a future version of pandas all arguments of DataFrame.drop except for the argument 'labels' will be keyword-only\n",
      "  by='saliency', ascending=False).head(R).drop('saliency', 1)\n"
     ]
    },
    {
     "data": {
      "text/html": [
       "\n",
       "<link rel=\"stylesheet\" type=\"text/css\" href=\"https://cdn.jsdelivr.net/gh/bmabey/pyLDAvis@3.3.1/pyLDAvis/js/ldavis.v1.0.0.css\">\n",
       "\n",
       "\n",
       "<div id=\"ldavis_el1856016313721221845280131887\"></div>\n",
       "<script type=\"text/javascript\">\n",
       "\n",
       "var ldavis_el1856016313721221845280131887_data = {\"mdsDat\": {\"x\": [-0.32651457501537684, -0.3329451282594512, -0.2866679694099959, -0.13649501783051576, -0.16386613084286847, -0.08931646357026636, 0.0618455926745065, 0.017177038782075413, 0.007713070956169328, 0.056953105165092326, 0.0649689133691559, 0.03796644301284191, 0.06775842110859501, 0.06752746324538153, 0.10087417376673198, 0.11670772962950433, 0.16114895997193684, 0.17874492322101893, 0.1965491521768994, 0.19987029784856453], \"y\": [0.13288193042848123, 0.12459082121883258, 0.06287479574570962, -0.08037662564741896, -0.05100414291788061, -0.38304126066699024, -0.0623725417864044, -0.12624567789743374, 0.036617123098494, 0.006775980992082463, 0.02713762644561839, 0.014534427769128735, 0.0014285661555659933, 0.009205854915296642, -0.0017059897508295968, 0.02742360101129502, 0.04970442755401892, 0.06665400868028916, 0.07209635480620245, 0.07282071984594253], \"topics\": [1, 2, 3, 4, 5, 6, 7, 8, 9, 10, 11, 12, 13, 14, 15, 16, 17, 18, 19, 20], \"cluster\": [1, 1, 1, 1, 1, 1, 1, 1, 1, 1, 1, 1, 1, 1, 1, 1, 1, 1, 1, 1], \"Freq\": [24.1937759996524, 21.295185340894555, 12.340399751712287, 6.991034894105165, 6.5795367125020086, 6.538842877201244, 4.526621783638958, 3.108497815092751, 2.0839651703576925, 2.043399420484016, 1.7353063734060974, 1.5627084085265368, 1.3860489141881027, 1.3820408871152314, 1.2032293875895157, 1.1872262555711721, 0.7293417642541423, 0.49033686035842083, 0.33473040170975404, 0.28777098163994247]}, \"tinfo\": {\"Term\": [\"ax\", \"line\", \"write\", \"organization\", \"article\", \"nntp_poste\", \"host\", \"system\", \"drive\", \"get\", \"people\", \"use\", \"year\", \"key\", \"go\", \"window\", \"good\", \"know\", \"team\", \"mail\", \"game\", \"reply\", \"car\", \"m\", \"thank\", \"say\", \"problem\", \"space\", \"man\", \"run\", \"go\", \"m\", \"s\", \"ve\", \"back\", \"re\", \"bad\", \"hear\", \"d\", \"maybe\", \"money\", \"pay\", \"ill\", \"remember\", \"guess\", \"pretty\", \"friend\", \"couple\", \"wonder\", \"month\", \"season\", \"guy\", \"soon\", \"nice\", \"job\", \"trade\", \"sign\", \"wing\", \"anyway\", \"worth\", \"good\", \"really\", \"get\", \"hard\", \"big\", \"put\", \"want\", \"week\", \"much\", \"know\", \"start\", \"little\", \"well\", \"still\", \"probably\", \"happen\", \"time\", \"look\", \"think\", \"see\", \"come\", \"take\", \"let\", \"try\", \"tell\", \"make\", \"thing\", \"sure\", \"year\", \"work\", \"say\", \"day\", \"way\", \"need\", \"even\", \"believe\", \"reason\", \"evidence\", \"state\", \"fact\", \"claim\", \"law\", \"sense\", \"talk\", \"true\", \"person\", \"faith\", \"agree\", \"christian\", \"rule\", \"religion\", \"argument\", \"matter\", \"explain\", \"understand\", \"prove\", \"die\", \"discussion\", \"mind\", \"situation\", \"country\", \"clear\", \"act\", \"church\", \"certainly\", \"people\", \"mean\", \"world\", \"life\", \"word\", \"point\", \"exist\", \"many\", \"case\", \"cause\", \"say\", \"question\", \"issue\", \"right\", \"however\", \"make\", \"group\", \"even\", \"think\", \"way\", \"give\", \"program\", \"file\", \"send\", \"message\", \"list\", \"address\", \"info\", \"code\", \"copy\", \"image\", \"entry\", \"internet\", \"advance\", \"contain\", \"network\", \"error\", \"display\", \"section\", \"faq\", \"function\", \"input\", \"distribution\", \"request\", \"option\", \"sun\", \"originator\", \"format\", \"available\", \"date\", \"object\", \"information\", \"source\", \"include\", \"email\", \"do\", \"set\", \"page\", \"version\", \"reference\", \"service\", \"user\", \"number\", \"post\", \"also\", \"receive\", \"help\", \"new\", \"follow\", \"book\", \"use\", \"need\", \"find\", \"work\", \"read\", \"large\", \"small\", \"player\", \"local\", \"black\", \"field\", \"size\", \"goal\", \"white\", \"publish\", \"office\", \"character\", \"brain\", \"picture\", \"box\", \"dept\", \"society\", \"amount\", \"various\", \"forget\", \"normal\", \"unit\", \"reduce\", \"paper\", \"visit\", \"convince\", \"mount\", \"proof\", \"addition\", \"straight\", \"power\", \"increase\", \"cover\", \"area\", \"compare\", \"low\", \"department\", \"high\", \"head\", \"report\", \"number\", \"lead\", \"less\", \"lot\", \"difference\", \"control\", \"age\", \"single\", \"system\", \"bit\", \"machine\", \"fast\", \"memory\", \"screen\", \"solution\", \"hardware\", \"encryption\", \"mode\", \"slow\", \"video\", \"device\", \"instal\", \"product\", \"scsi\", \"review\", \"computer\", \"miss\", \"ide\", \"choice\", \"digital\", \"headache\", \"port\", \"limit\", \"feature\", \"atheism\", \"transfer\", \"tool\", \"weight\", \"design\", \"datum\", \"software\", \"standard\", \"use\", \"speed\", \"chip\", \"problem\", \"run\", \"rate\", \"support\", \"need\", \"nntp_poste\", \"host\", \"appreciate\", \"firearm\", \"computer_science\", \"blind\", \"definitely\", \"consult\", \"cs_dept\", \"university\", \"chief\", \"finland\", \"tail\", \"ave\", \"powerbook\", \"amanda_walker\", \"digital_equipment\", \"organization\", \"atf\", \"reply\", \"convincing\", \"distribution_world\", \"com\", \"cubic\", \"mario\", \"article\", \"louisiana_tech\", \"line\", \"keyword\", \"thank\", \"write\", \"phone\", \"corporation\", \"boy\", \"joke\", \"fax\", \"student\", \"company\", \"net\", \"news\", \"center\", \"research\", \"lab\", \"technology\", \"lot\", \"cheap\", \"opinion\", \"sorry\", \"school\", \"ax\", \"graphic\", \"peace\", \"bomb\", \"convert\", \"homosexual\", \"violence\", \"capture\", \"birth\", \"gif\", \"enable\", \"teaching\", \"translate\", \"resurrection\", \"mystery\", \"intention\", \"roman\", \"met\", \"criticism\", \"row\", \"shareware\", \"rebel\", \"enemy\", \"reproduce\", \"hatred\", \"throat\", \"silver\", \"suspension\", \"desert\", \"joy\", \"gun\", \"accept\", \"speak\", \"belief\", \"truth\", \"god\", \"human\", \"atheist\", \"fire\", \"reality\", \"weapon\", \"police\", \"nature\", \"moral\", \"respect\", \"criminal\", \"universe\", \"mother\", \"animal\", \"arm\", \"false\", \"parent\", \"disagree\", \"blank\", \"benefit\", \"dangerous\", \"topic\", \"militia\", \"specifically\", \"morality\", \"crime\", \"man\", \"child\", \"death\", \"bear\", \"woman\", \"lie\", \"kill\", \"self\", \"safety\", \"carry\", \"team\", \"game\", \"play\", \"win\", \"fan\", \"score\", \"notice\", \"average\", \"door\", \"sc\", \"sport\", \"father\", \"german\", \"pitch\", \"yesterday\", \"rock\", \"stat\", \"production\", \"san_jose\", \"offense\", \"park\", \"soul\", \"hr\", \"brave\", \"staff\", \"north\", \"hitler\", \"hitter\", \"era\", \"luxury\", \"division\", \"star\", \"final\", \"year\", \"hit\", \"run\", \"lose\", \"pick\", \"first\", \"point\", \"last\", \"total\", \"car\", \"bike\", \"wire\", \"engine\", \"ride\", \"internal\", \"direct\", \"route\", \"external\", \"mile\", \"cable\", \"pack\", \"rider\", \"screw\", \"dog\", \"cycle\", \"nhl\", \"wave\", \"oil\", \"cool\", \"co\", \"predict\", \"gas\", \"connector\", \"probe\", \"cambridge\", \"widget\", \"heat\", \"cylinder\", \"noise\", \"dealer\", \"concept\", \"road\", \"ground\", \"expensive\", \"vehicle\", \"light\", \"model\", \"buy\", \"mail\", \"price\", \"sale\", \"cpu\", \"pin\", \"disk\", \"tape\", \"board\", \"recommend\", \"purchase\", \"upgrade\", \"gateway\", \"baseball\", \"processor\", \"motherboard\", \"version_pl\", \"usenet\", \"quick\", \"clock\", \"band\", \"super\", \"floppy\", \"ns\", \"trace\", \"pub\", \"amp\", \"up\", \"please_respond\", \"giant\", \"bounce\", \"bus\", \"offer\", \"interested\", \"manual\", \"sound\", \"old\", \"physical\", \"israeli\", \"soldier\", \"village\", \"armenian\", \"turkish\", \"withdraw\", \"occupy\", \"turk\", \"arab\", \"civilian\", \"girl\", \"decent\", \"inhabitant\", \"origin\", \"daughter\", \"invasion\", \"escape\", \"troop\", \"proceed\", \"human_being\", \"informed\", \"army\", \"genocide\", \"moslem\", \"slaughter\", \"holocaust\", \"massacre\", \"occupation\", \"soviet\", \"war\", \"attack\", \"terrorism\", \"kill\", \"jewish\", \"murder\", \"force\", \"military\", \"land\", \"government\", \"key\", \"security\", \"clipper\", \"master\", \"secure\", \"secret\", \"air\", \"communication\", \"proposal\", \"dual\", \"channel\", \"nuclear\", \"export\", \"crypto\", \"panel\", \"register\", \"compression\", \"advanced\", \"hence\", \"assure\", \"algorithm\", \"thermal\", \"volt\", \"instrument\", \"jet_propulsion\", \"garage\", \"okay\", \"flag\", \"access_digex\", \"online_communication\", \"usa\", \"public\", \"private\", \"block\", \"technology\", \"chip\", \"government\", \"industry\", \"protect\", \"phone\", \"provide\", \"space\", \"community\", \"launch\", \"mission\", \"orbit\", \"moon\", \"satellite\", \"announcement\", \"plane\", \"flight\", \"planet\", \"rocket\", \"map\", \"zone\", \"percent\", \"shuttle\", \"mar\", \"sky\", \"astronomy\", \"lunar\", \"spacecraft\", \"camp\", \"french\", \"solar\", \"radius\", \"ozone\", \"pat\", \"vol\", \"distant\", \"planetary\", \"earth\", \"international\", \"fuel\", \"project\", \"year\", \"datum\", \"research\", \"science\", \"patient\", \"study\", \"health\", \"disease\", \"scientific\", \"treatment\", \"insist\", \"waste\", \"medical\", \"mass\", \"rise\", \"element\", \"electrical\", \"consequence\", \"medicine\", \"aged\", \"radiation\", \"experiment\", \"physician\", \"probability\", \"environmental\", \"automatically\", \"hire\", \"pt\", \"qualified\", \"recover\", \"conservative\", \"bias\", \"severe\", \"objective\", \"risk\", \"analysis\", \"conduct\", \"effect\", \"research\", \"combine\", \"factor\", \"result\", \"drive\", \"card\", \"driver\", \"test\", \"replace\", \"family\", \"period\", \"bill\", \"printer\", \"warranty\", \"procedure\", \"saturn\", \"auto\", \"specify\", \"ring\", \"serial\", \"acquire\", \"icon\", \"gear\", \"customer\", \"ftp_site\", \"finger\", \"stereo\", \"replacement\", \"backup\", \"positively\", \"km\", \"ratio\", \"testing\", \"timing\", \"minor\", \"automatic\", \"window\", \"server\", \"package\", \"motif\", \"mit\", \"crash\", \"programmer\", \"honor\", \"extension\", \"correction\", \"stable\", \"au\", \"fi\", \"quit\", \"diagnostic\", \"opinions_expressed\", \"sharp\", \"tar\", \"macintosh\", \"reboot\", \"oracle\", \"oracle_corporation\", \"turning\", \"verification\", \"automate\", \"ie\", \"parity\", \"eric_bosco\", \"focus\", \"button\", \"application\", \"event\", \"default\", \"com\", \"user\", \"monitor\", \"controller\", \"trial\", \"cop\", \"step\", \"circuit\", \"dream\", \"ethnic\", \"insert\", \"factory\", \"receiver\", \"constitution\", \"tip\", \"voltage\", \"sensor\", \"revolver\", \"political_atheist\", \"handy\", \"colt\", \"amplifier\", \"radar\", \"partly\", \"refresh\", \"reload\", \"black_hole\", \"mathew\", \"cosmic\", \"signal\", \"chamber\", \"dram\", \"switch\", \"pull\", \"trust\", \"stupid\", \"session\", \"registration\", \"implementation\", \"speaker\", \"beautiful\", \"fish\", \"custom\", \"summarize\", \"organisation\", \"login\", \"kinda\", \"mozumder\", \"delaware\", \"comprise\", \"atom\", \"affiliate\", \"explode\", \"extended\", \"abstract\", \"bogus\", \"recognition\", \"enclose\", \"loaded\", \"australian\", \"contemporary\", \"interactive\", \"inability\", \"robotic\", \"conference\", \"color\", \"distribution_usa\", \"past\", \"stream\", \"unique\", \"ins_cwru\", \"turbo\", \"jim_frost\", \"porsche\", \"generic\", \"television\", \"observer\", \"host_slc\", \"ms_do\", \"brick\", \"western_digital\", \"pov\", \"soviet_union\", \"infinity\", \"viola\", \"signing\", \"floppy_burn\", \"rayshade\", \"bearing\", \"tga\", \"volvos\", \"usa\", \"vram\", \"vram_simms\", \"protocol\", \"encrypt\"], \"Freq\": [41584.0, 16919.0, 13232.0, 10186.0, 9135.0, 6437.0, 5902.0, 5003.0, 2964.0, 10605.0, 7854.0, 6311.0, 4879.0, 2571.0, 7735.0, 1975.0, 6897.0, 8906.0, 2268.0, 2074.0, 2144.0, 3275.0, 2108.0, 5681.0, 3107.0, 9023.0, 4188.0, 1673.0, 2186.0, 3259.0, 7734.400039071289, 5680.299196898566, 4032.5047772487364, 2957.355610082175, 2825.1097486857702, 2284.3944862753483, 2228.362861702999, 2110.0818201060442, 2048.7264263616717, 1496.5183405419193, 1413.2642208929806, 1332.450388434075, 1296.3278842626808, 1326.6427603570194, 993.333412066016, 933.2518179936588, 929.5934424345409, 919.1622166197916, 853.9858642649286, 801.8637932209052, 791.0601311069852, 777.4477091538726, 766.503190662714, 736.8998631462549, 666.9616991098002, 616.2360072844252, 606.300678126593, 580.3378530437398, 568.7874099073993, 557.8298994523161, 6815.948343416411, 3114.1197296347823, 10064.044434681979, 1240.7839354435223, 1512.8001339755087, 1944.125996178202, 4563.182316209378, 1254.7982274671826, 3564.1346420443406, 7873.68270045368, 2085.2538100415845, 1969.7957680634916, 5055.776518658057, 2550.68511896569, 1898.4914659899528, 1796.0020464419085, 5481.352152307926, 3595.5038490415736, 5864.996479294528, 4820.195365440915, 3873.476973134359, 3812.019552102669, 2015.0606511877631, 3320.972347573052, 2734.600241092838, 5191.777865038846, 3346.091318908681, 2339.3650270595995, 3311.8923594073826, 3121.792475244736, 3811.5113240901624, 2326.7914484139683, 2655.0800265560024, 2501.4207661785863, 2354.4624231491966, 3598.1259805044074, 3556.420637048753, 3143.6733856116725, 2901.1024182328697, 2310.015922514599, 2189.689335330314, 1888.7112207548728, 1847.2730916871153, 1756.2915027372967, 1713.84796015299, 1677.1982405565448, 1500.0246350535056, 1359.2022649902187, 1190.9892572422411, 1171.7675236208124, 1132.905532488981, 1097.0154615320155, 1085.228309262815, 1065.7430438502279, 1061.9693512977515, 1025.600090516069, 1015.2207239123104, 979.9202560752541, 943.7876505892353, 943.165420954363, 926.9539840422318, 926.4457210853694, 833.6424096753184, 827.1138763346621, 795.2638724275853, 7708.227492239205, 3051.034757343485, 1611.8135416450043, 1604.545129394727, 1328.946050187354, 3341.2042566707805, 1694.7235246138077, 3012.45380648906, 2355.7713470989916, 1371.0447208174558, 5210.443844081695, 2596.7183539231114, 1679.3627029412914, 2551.6319990198253, 1606.1622416116159, 2922.131466962379, 1663.499626759223, 1780.9403502397927, 1926.5869220304105, 1703.6867066472826, 1649.4492926699018, 2912.8303726362897, 2773.807963227028, 2341.3961844829314, 1994.140723239685, 1816.3260117995196, 1516.6880320365988, 1365.8827426157882, 1331.9160600893604, 1324.7748979979688, 1286.6349374176286, 1198.2960592334362, 1109.605476757084, 1023.4824778826382, 933.0151784711436, 908.5454852534647, 889.4248871005097, 887.0843350961823, 849.0893392826339, 790.6622484719372, 786.9192971301904, 760.0538664571892, 758.544840142543, 671.9095226036399, 657.7732114865819, 647.5874149000862, 646.4014144139213, 644.6467117563805, 1703.4203229893171, 611.1006966162316, 586.000002319134, 2430.9649419515017, 1955.6450898069372, 2507.3438524828944, 1419.3410462391034, 2396.210687412101, 2016.3426463504134, 772.8521737427376, 1124.7816255375913, 1014.225024880174, 1094.5572953249482, 966.5655365640165, 1780.253446472858, 1671.77981579613, 2222.5068053608147, 1077.343103660898, 1519.2096402424256, 1727.8825283574718, 1376.0156001061466, 1250.433056929681, 1860.2423990169398, 1628.865752116042, 1491.3070675318038, 1368.9753742263435, 1244.895043421457, 1536.542770176938, 1296.0103054317055, 1217.1761979573112, 929.3377711120817, 802.8001425009742, 746.1067476537307, 713.8204743339442, 705.1140502055027, 686.6107143091768, 673.0416154584951, 660.6411840706311, 652.9617450338346, 626.621507537301, 624.9656054291867, 624.2672895027654, 612.6483594095471, 611.7326840610033, 590.1401634346506, 576.1407998262425, 574.6161023810137, 555.2189373700223, 550.8428609950046, 539.0670622165777, 532.5637989598736, 491.63672505302407, 476.37341895016533, 469.20891473482595, 465.0880787272773, 428.185632559168, 395.75067758939315, 1917.8166485029678, 903.6338741095492, 868.70840605776, 1157.1743924835675, 806.4339135427126, 1138.6856066032035, 658.6227617397493, 1659.635565854452, 757.3405477326143, 970.4060607715163, 1357.7746565707876, 853.9536717956171, 840.8393988083232, 866.6779364833415, 690.8835407166993, 712.7895866141113, 648.5719246204156, 646.9274758776355, 5002.73290168062, 2333.1449717846317, 1448.5232605440133, 1081.747763390239, 1049.1947069564592, 922.1082127682522, 910.7104351319804, 883.1446399992378, 870.9103956174821, 831.2713256485065, 811.5219753021706, 809.1934262664179, 804.4485774357212, 711.4394797574714, 706.8548818582549, 625.2927070321844, 601.8259662439344, 2117.529619089218, 560.2380149916665, 539.565245600703, 517.5005607323961, 505.880172434955, 498.2432214671668, 490.96821243879043, 479.78506086321545, 469.0094432957494, 435.502426720535, 431.52505768724103, 430.88193804219526, 423.75464412255747, 915.0737797521078, 1256.5610890578787, 1399.6257269433238, 1013.7454762393468, 3946.0237275276186, 840.755194551555, 1252.6045598318176, 1985.4261608862166, 1377.4671830964644, 716.3384313772846, 782.6586825926705, 855.8485646704514, 6435.943633417739, 5900.773591802105, 688.2689336318638, 496.2678810472169, 348.9160695417653, 273.034431511677, 199.40822005194224, 178.25124677428423, 143.3547933866635, 2076.8694408233164, 130.12322664334718, 97.32582646699746, 74.32914268955413, 71.29861409580784, 50.10922049945897, 46.737051080664806, 46.668188280447204, 9902.877787571064, 40.06182053905286, 3175.0311864347564, 32.62925293986592, 1209.0179889921187, 1384.5476747439895, 21.17216177788606, 20.23671506755523, 8413.349421111428, 14.122113767217908, 15342.27758106766, 951.4056308045655, 2711.0533675004353, 11243.88429486033, 836.7349288784523, 482.15823300908414, 292.93456569454605, 161.35427460744447, 544.6907936593162, 259.6237570141613, 674.0179990649158, 700.9279050754809, 612.6742528664921, 603.9133771496472, 603.5843830758096, 342.7979383099872, 618.7648488972037, 735.9887860668765, 416.9271036260899, 464.3041943867318, 309.51089560285726, 309.5280951845033, 41582.93950099263, 1529.6208639466286, 776.9830558248901, 745.2906500923034, 724.8656298737692, 510.3277694484646, 414.25231260816105, 368.8391381458354, 343.8624374000338, 279.5284413220765, 271.7657712600529, 267.11169591142834, 212.28690474003716, 202.55203571000817, 184.1651750720032, 162.77910474636485, 157.67573366604526, 156.56282171149385, 149.5389160030221, 148.76010560613906, 143.347215415875, 142.8692722059945, 142.4072457876849, 139.12241277727995, 137.61918923235976, 125.9454929371014, 122.43878616947477, 116.96783196302272, 116.16377992428687, 108.59310701891329, 1584.3650394800327, 1052.862833463492, 1014.6790405891498, 951.6290998955293, 941.8055278403301, 936.9915957745725, 817.4400079602771, 814.8840353162665, 725.8059215756963, 606.6962609637828, 525.6186328220133, 520.3253898699164, 492.74622775545254, 467.6598896604335, 455.17611577981694, 400.3218027607906, 387.617499095699, 375.48058997188144, 360.2921763448567, 354.4419881758614, 346.7885559498233, 338.8555948659406, 330.80588050067746, 301.0648776594446, 286.66186090425856, 281.7600715227222, 278.1692196720073, 277.03180882756715, 247.32349313280156, 223.62889564734928, 573.1765636338273, 2109.312086302558, 1478.1837582977987, 1099.3491238173237, 446.5905057391772, 620.0694722816814, 489.20801862013866, 863.553215938389, 454.2099870917929, 434.28965161992204, 436.90805614783716, 2267.0688728527252, 2143.6356054575044, 1492.21643056135, 1351.7174907165124, 678.8582876619896, 551.0512715173224, 518.2552876683028, 397.0512806392484, 331.107352414414, 300.8942585964433, 298.66024371572405, 297.54267989600174, 250.29145440686344, 228.53527632067554, 226.30980945016367, 211.37195929291985, 204.71262941182812, 204.56698446867853, 199.90849593542896, 198.69436236133672, 196.60729485727498, 192.576933334445, 164.69289410831638, 155.8252566020552, 137.33995691875887, 129.51860344887785, 127.66899612778244, 125.6444327871161, 125.26719493427865, 111.86352293448493, 460.00343058145495, 291.8963145144609, 310.06169606425453, 1117.2938239915593, 340.5542693520544, 632.4864956253749, 390.9225849302637, 267.86001793036996, 298.18876278585117, 298.24556406077977, 254.5555458419331, 204.22726428786092, 2107.585612626548, 836.2683057693064, 692.3816719494693, 572.3495681154092, 527.9824425751374, 505.1315740978171, 461.9806262276734, 429.118882662961, 418.250553218712, 379.81280217286013, 351.29075269882355, 336.2449308224158, 288.51266021756794, 278.23751619961234, 276.6013153385408, 274.679990693701, 264.865810844859, 256.59697313872664, 236.85166755791082, 227.26974282811344, 215.4231199073082, 211.97827508268423, 211.76057620481836, 209.36869068671467, 203.37403628615712, 199.8648414685884, 194.01142228375988, 193.02716496392688, 184.70512382432125, 184.33018282496684, 370.5063301296255, 359.4753526685269, 460.2957723083523, 437.4203045273707, 273.7881915429217, 278.92056843686214, 471.8557587865956, 412.23513075684764, 221.22523268157693, 2073.5786360555744, 1232.9070784481512, 1115.8578595576723, 897.3972805101639, 821.9020838337983, 753.6613137888172, 654.0350255882091, 500.0602183487763, 371.7679480382705, 370.442042598351, 365.2312481182887, 337.81965569477717, 332.94651833843506, 324.8103378448024, 319.82916874063164, 314.3867693555753, 262.465532055196, 224.20173991530254, 222.16787905657148, 211.34246615953424, 185.21849424074676, 177.78456222564077, 169.98478585592406, 156.15072037008946, 155.0556617176354, 150.93687236109247, 143.5943250964158, 138.28032133835973, 127.32482810870309, 118.47434296195668, 476.26686818353494, 686.0090956518897, 467.9423586605004, 241.61237225415337, 365.0956714335868, 236.1362998155341, 1059.8873481814555, 662.0508479613759, 614.6271588841884, 532.6109588624898, 480.38149957469295, 372.87062524509463, 330.7497216172567, 328.5505505570737, 322.21243047922184, 287.1544228905519, 276.03332763860504, 220.2344918178892, 201.49031534907468, 182.4955072641433, 176.66995311549903, 175.93982923380258, 169.98949027628655, 168.98459327973558, 159.7989710990109, 158.84981953493389, 154.079777983886, 150.07843361259611, 145.8591709679407, 144.19253519923606, 133.09445307275507, 128.3777010829427, 118.91158806397829, 108.25478522589196, 94.66024835170917, 93.19290795632266, 582.6413608756437, 498.6536367307982, 172.85096903632328, 472.85329653393256, 271.8112582839628, 253.3411342882495, 306.23530973649684, 207.0149636371767, 185.44632663734032, 230.01344869696803, 2570.528645818218, 678.6932918455077, 566.8306054181683, 558.4766170187013, 432.1766411023564, 400.94935852265127, 394.1319813450813, 349.35505565640807, 230.8377294638928, 220.5251563578021, 217.7320104673699, 199.55102039550664, 191.70830500762952, 177.31289832553477, 161.9958007649337, 161.65755925321963, 142.28898135038224, 141.62031981499166, 111.93059039982882, 110.93871638403934, 108.61645771427622, 107.59733464338821, 101.5929380708048, 92.91229741824286, 84.39535294112478, 82.17330183046639, 79.0465484497273, 76.08841121271378, 73.6774837812519, 67.25136182490635, 193.03101114700286, 669.2183580572273, 328.84549926313855, 308.29005680671537, 356.76181980351714, 362.82143776368605, 378.9239472864919, 153.08255074017552, 173.7151315710937, 188.64371143128346, 120.67090143693528, 1672.193670398491, 511.72714425334294, 443.2078763703937, 387.30614143101997, 383.1396660394132, 376.2747813855204, 325.6035226059766, 315.65689323017443, 286.2760483093609, 259.5780652247277, 229.61871181560522, 227.39725800487548, 223.7679822445138, 205.80255401471598, 203.67458602179954, 194.36826908813515, 192.68188489450225, 184.10091325125583, 180.36743451527983, 152.35488049411876, 149.63030727851577, 147.54421838267143, 145.3248442707951, 135.82857871322605, 123.51339876222845, 119.78324083571191, 117.53434841752926, 112.11890484798384, 108.05555903903475, 107.36053709964055, 505.50803963696063, 183.94686459021975, 138.5349210203319, 180.97217404396557, 185.0039889348147, 157.4615307133467, 150.58935034170204, 1025.8010032034636, 833.9084508840577, 763.628950641238, 399.7083350529407, 392.4468614097552, 380.26709368998223, 357.65553936812347, 304.5962887588773, 284.9049186134781, 258.0496732359754, 206.84648624573703, 200.04977319894996, 165.61873589625242, 157.0894904329939, 153.5348873809076, 144.32461410603, 142.4649438431656, 142.42969510523147, 140.33261422510475, 129.6959498094505, 129.2185294550616, 122.50738293863662, 117.50814380043454, 105.24238609818684, 104.58113642059087, 99.17601843235298, 98.50954131143455, 97.36308122075546, 96.51937478886947, 95.0643641259922, 208.73287779709335, 306.60745266551413, 203.27256501623282, 116.28170966764057, 277.9321517003812, 254.31535126653475, 110.65049015390922, 126.71690578932368, 138.2280426231221, 2963.2396475154874, 1465.1823762005627, 1172.6084653105809, 933.6472748214784, 486.05615760089825, 434.5169776811435, 381.5650182137364, 347.401277648572, 339.5121707344004, 271.6779767010195, 247.66150240083684, 229.90995288602033, 204.2637207193572, 201.93408531013353, 183.1966243506021, 176.2045772681167, 167.9434807647139, 165.11782081627288, 145.36762147778632, 135.43659874449713, 131.0356128079642, 127.0440906045717, 114.83517012095074, 111.10684578796669, 101.9086867767671, 93.44921215437732, 84.00994931340159, 73.44453153797173, 67.83727005403628, 64.27147055010538, 220.19416515306136, 95.6101346742599, 1974.0789541276824, 646.4593312505018, 589.7403698852219, 421.0249484244036, 309.14309018443583, 265.17166459936016, 125.16930966673289, 119.74107789253823, 116.01422519533972, 113.39061450395901, 111.60665624002473, 109.49673588642717, 98.58580370819678, 86.19216355613146, 76.72950037891967, 64.34681325406078, 61.60997260142608, 59.6594575165055, 57.3370440096377, 44.89790122091119, 42.3417877299153, 32.81632055852168, 27.247706379264937, 20.622118436389645, 18.625149239717192, 9.077051897112066, 6.610135876766346, 6.3014690596085705, 52.52097360691113, 73.45566046151345, 210.331986025702, 131.95938995092104, 53.46474838753444, 66.06176965932734, 34.2657357551146, 488.40030163088926, 394.67320133443235, 296.48825895606166, 260.07447579480294, 247.15361489894266, 198.26685200118362, 167.68416401687358, 163.69981398486945, 147.1718995547249, 138.91923041106816, 125.34103125841646, 110.4998653131103, 91.15558599051377, 86.82381089911662, 76.91706738772368, 65.52381518653968, 53.38650234964475, 45.445602954931886, 41.96134661925965, 34.652484016046216, 34.07511136163639, 32.25722607244589, 25.85107000479054, 24.369473440963397, 24.166502372969447, 21.367841663163286, 20.73018315027754, 259.03042737187866, 16.706720575619496, 15.845398180639856, 129.5892258273556, 18.412959876441878, 248.7859377915646, 214.66946936794054, 186.85947888601964, 138.50848770622304, 114.34868003407516, 92.77113124607936, 92.17630649930867, 80.38936701229674, 77.20424037848794, 65.13719316066363, 46.23518584180709, 43.93489107852745, 40.8226673602719, 39.48714704166128, 39.009352049004875, 38.230297852794905, 36.40722938499792, 33.68238390195507, 33.33994696089868, 30.92213701984572, 30.045486264373345, 28.739042619832503, 27.801076153722217, 26.705576508357982, 26.616100132312322, 24.81130715440635, 20.809543565447434, 20.605330503534535, 19.74990637007272, 13.592739871339983, 121.97951558129262, 540.4026067840487, 195.64136858069236, 162.15283526923955, 94.28282220460407, 59.82830561097016, 57.73877936741515, 54.14402509616137, 51.500743823447365, 51.05720059728161, 45.14832324208167, 40.65641087998336, 35.58636062461443, 30.20845139105009, 29.882390824806876, 27.710936481558544, 26.96419118772343, 20.995226241589002, 16.733143851057893, 12.066420985791492, 10.319647373036773, 9.556340100821624, 6.381618816682117, 6.145905283053602, 5.515729426716909, 5.26090195567806, 4.677568909410584, 73.7270969140148, 0.040029867123564, 0.04002897359959203, 0.04002852342720921, 0.04002894631641731], \"Total\": [41584.0, 16919.0, 13232.0, 10186.0, 9135.0, 6437.0, 5902.0, 5003.0, 2964.0, 10605.0, 7854.0, 6311.0, 4879.0, 2571.0, 7735.0, 1975.0, 6897.0, 8906.0, 2268.0, 2074.0, 2144.0, 3275.0, 2108.0, 5681.0, 3107.0, 9023.0, 4188.0, 1673.0, 2186.0, 3259.0, 7735.655908345256, 5681.555066199356, 4033.7606465227013, 2958.61147935614, 2826.3656179730237, 2285.650355549313, 2229.618730976964, 2111.337689380009, 2049.9822956356365, 1497.774209815885, 1414.520090174606, 1333.7062577080405, 1297.5837535366463, 1328.0730516254168, 994.5892813399817, 934.5076872676245, 930.8493117085065, 920.4180859025004, 855.2417335388943, 803.1196624948709, 792.3160004097022, 778.7035784278382, 767.7590599456295, 738.1557324202206, 668.2175683837659, 617.4918765635323, 607.55654740823, 581.5937223279744, 570.0432791813649, 559.0857687262818, 6897.272888186196, 3132.8627276820257, 10605.609366058014, 1257.2103802791364, 1540.631406478841, 1995.3890651835795, 4811.616263355323, 1278.1326032433815, 3808.1634639914705, 8906.598035865487, 2207.1036411214013, 2078.2063342842157, 5681.196556467554, 2747.2359327086797, 2005.699754236282, 1906.2594907307296, 6620.212692373222, 4190.11862184937, 7792.770277605172, 6257.736362322433, 4855.320301802729, 4793.294856375877, 2214.6864816579246, 4353.774810875395, 3409.0972117136703, 8376.322921084917, 4694.095564313022, 2746.6901979635527, 4879.638586818757, 4925.8515598832055, 9023.142044452088, 2828.221264233382, 4458.218610990956, 4987.237927290735, 4136.589649669222, 3599.3860828146017, 3557.6807393589474, 3144.9334879392713, 2902.362520543064, 2311.2760248247932, 2190.949437640508, 1889.9713230650677, 1848.53319401115, 1757.5516050474916, 1715.108062463185, 1678.4583428667397, 1501.2847373729103, 1360.4623673050437, 1192.249359552436, 1173.0276259310074, 1134.165634799176, 1098.2755638422104, 1086.48841157301, 1067.0031461604228, 1063.2294536079464, 1026.860192830894, 1016.4808262271354, 981.180358389014, 945.0477528994304, 944.4255232753623, 928.2140863524269, 927.7058234001944, 834.9025119901434, 828.3739786448572, 796.5239747377803, 7854.460545852838, 3088.250345079509, 1638.6238602731446, 1654.103576304823, 1384.6325198856644, 3890.320656407032, 1849.2588040489982, 4043.7997925562167, 3031.1898505958347, 1509.247386705854, 9023.142044452088, 3586.002814184868, 1980.2230199923167, 3946.2243288274053, 2030.8990440029197, 8376.322921084917, 2690.4753756533396, 4136.589649669222, 7792.770277605172, 4458.218610990956, 4225.0110919350145, 2914.0797896804143, 2775.0573802711524, 2342.645601527056, 1995.3902130857896, 1817.5754288436449, 1517.937449080724, 1367.1321596599134, 1333.1654771334856, 1326.024315042094, 1287.884354461754, 1199.5454762775614, 1110.8548938063504, 1024.7318949313938, 934.2645955193757, 909.7949022975903, 890.6743041446354, 888.3337521403079, 850.3387563359692, 791.9116655160628, 788.1687142025324, 761.3032857287327, 759.7942571866686, 673.158939651872, 659.0249116726857, 648.8368319483064, 647.6508314822585, 645.8961288005061, 1706.828094351965, 612.3501136603572, 587.2494193632596, 2494.5828721530106, 2016.1892838756385, 2614.053561270622, 1472.275004724245, 2625.30928484696, 2234.9339331670917, 787.9992477976418, 1217.0579892410988, 1085.8667205081995, 1193.8736125955706, 1027.0094970089347, 3285.685259274094, 3161.890501944086, 6144.854985378446, 1364.553174538477, 3084.090681916295, 4201.113322130733, 2472.3144961195435, 2053.5714097806613, 6311.785519090908, 4987.237927290735, 4175.3999462846905, 4925.8515598832055, 2731.2370128930866, 1537.7973891455217, 1297.2648537107902, 1218.4307462151487, 930.5923193637452, 804.0546907526377, 747.3612960082962, 715.0750225856077, 706.3685984633406, 687.8652625608404, 674.2961637188832, 661.8957323222946, 654.2162932854982, 627.8760558146273, 626.2201536808502, 625.5218377544289, 613.9029076844596, 612.9872323126668, 591.394711689879, 577.3953480866425, 575.8706644840622, 556.4734856216859, 552.0974092507746, 540.3216104682413, 533.8183472115371, 492.8912733181053, 477.6279672237132, 470.4634630425815, 466.3426269963452, 429.4401808108313, 397.0052258410564, 1947.6415023195532, 913.8426488631364, 893.0470193367926, 1218.2448744972846, 841.1729055080906, 1241.041829537048, 693.3262041060293, 2261.496817983312, 854.9726143863704, 1487.8793405956087, 3285.685259274094, 1282.7150228108221, 1612.9557786567925, 1989.1898395756139, 980.0844060662037, 1158.696476531333, 783.3803296152355, 1072.369825623947, 5003.9886445546035, 2334.400714658613, 1449.7790618254155, 1083.0035062642214, 1050.4504498355827, 923.3639556422347, 911.9661780547409, 884.4003828732203, 872.1661384955711, 832.5270685260065, 812.7777181761531, 810.4491691404004, 805.7043203097037, 712.6952226365953, 708.1106247368673, 626.5484499061669, 603.081709127082, 2122.049505171047, 561.4937578763034, 540.8209884782029, 518.7563036262427, 507.1359153181732, 499.49896445841404, 492.22395531277266, 481.0408037371977, 470.26518616973163, 436.75816962104193, 432.78080056478814, 432.1376809161775, 425.01038704436746, 978.2421885761134, 1415.2181478384832, 1629.9686430263923, 1132.8854120094484, 6311.785519090908, 969.4518205371186, 1616.6192033979269, 4188.737340482997, 3259.217268362593, 990.5134716519293, 1966.4643021606057, 4987.237927290735, 6437.204785387535, 5902.034743771901, 689.5301865943945, 497.5290330440903, 350.1772215115597, 274.2955835686054, 200.6693720217368, 179.51239881833845, 144.61594536263237, 2095.294290090878, 131.3843786469087, 98.58697844296631, 75.59029467310161, 72.55976606969706, 51.37037247439485, 47.998203050459374, 47.92934025375925, 10186.632359325306, 41.32297250884743, 3275.3045007388387, 33.89040509468014, 1258.003573724943, 1451.8084826046143, 22.433313787884767, 21.49786706035276, 9135.422834877561, 15.383265737012474, 16919.293569696652, 1060.2985937872586, 3107.482513363445, 13232.650790542422, 1026.57725520283, 582.2797418806265, 355.8799906242049, 187.94347208949102, 741.7224606693527, 350.25352741759394, 1101.2655939359097, 1166.7292872237851, 1093.3795573524517, 1082.3461295853506, 1130.1190630526924, 526.4369458422003, 1363.619325057646, 1989.1898395756139, 811.1238451026804, 1540.5942570732793, 686.4258677339433, 703.9341745407253, 41584.136313649346, 1530.8176766563606, 778.1798685958506, 746.4874629729554, 726.062442719891, 511.52458216007597, 415.4491254189372, 370.03595103458343, 345.0592504504704, 280.72525403587514, 272.96258416508346, 268.30850868368213, 213.4837175988322, 203.7488483939938, 185.3619878319494, 163.97591759902696, 158.87254647510733, 157.75963448050223, 150.7357289595557, 149.95691841850783, 144.54402813896988, 144.06608516816164, 143.6040585597121, 140.31922564497694, 138.81600205212612, 127.14230570259718, 123.63559901720932, 118.16464470113571, 117.3605928742107, 109.78991978460382, 1585.6266545311685, 1054.1244485146278, 1015.9406556402859, 952.8907149466653, 943.0671428914661, 938.2532108257085, 818.7016230114131, 816.1456503674025, 727.0675366268323, 607.9578760195487, 526.8802478731493, 521.5870049210524, 494.00784280658837, 468.92150471156936, 456.4377308309528, 401.583417816033, 388.8791141468348, 376.7422050230173, 361.55379139599256, 355.7036032316272, 348.05017100095915, 340.1172099170764, 332.0674956080446, 302.3264928014357, 287.9234759665714, 283.02168657385806, 279.4308347375573, 278.29342388333293, 248.58510818393748, 224.8905106984852, 578.7989139944959, 2186.3561978193866, 1540.049281461214, 1242.7690720900844, 467.22332751504365, 706.7101611104047, 568.2148450561854, 1337.60563931156, 574.7170115126739, 568.9246363865445, 801.3867660077923, 2268.3303531901847, 2144.897085794964, 1493.4779109034403, 1352.9789710539726, 680.1197680045912, 552.3127518547826, 519.5167680231337, 398.3127610033521, 332.3688327606105, 302.1557389339033, 299.92172405318405, 298.80416026052455, 251.5529347489535, 229.79675665813565, 227.57128978762378, 212.63343963447463, 205.97410974928823, 205.82846482102678, 201.16997627288907, 199.95584269879683, 197.86877522080164, 193.83841368111487, 165.9543744655079, 157.0867369395153, 138.601437256219, 130.78008384173543, 128.93047647908227, 126.90591312457622, 126.52867527173876, 113.1250033374053, 629.6362001993091, 400.79088571486494, 503.46159293540734, 4879.638586818757, 687.395779098333, 3259.217268362593, 1320.4954418242305, 716.8288971714572, 3843.030745329503, 3890.320656407032, 2285.493419615118, 515.1309012127153, 2108.8463899930944, 837.5290831358534, 693.6424493160163, 573.6103454819562, 529.2432199416844, 506.39235148388207, 463.24140363050645, 430.37966012267725, 419.51133062513316, 381.07357954403693, 352.5515300653704, 337.5057082086055, 289.7734375841148, 279.4982935735447, 277.86209270508766, 275.9407680899148, 266.1265882282345, 257.8577505052735, 238.11244492445772, 228.53052021125566, 216.68389731067114, 213.23905249454512, 213.02135357136527, 210.62946808446944, 204.63481366498803, 201.12561897154896, 195.27219965462854, 194.28794233867498, 185.96590122911095, 185.59096019151374, 378.37544713125266, 402.0595572604451, 547.7486116536913, 535.2703764946679, 330.03043658265165, 351.1436099373058, 893.2267649534092, 870.7211448677483, 1751.4257820085118, 2074.8460027080996, 1234.1744451006768, 1117.125226210198, 898.6646471626898, 823.1694504898417, 754.9286804413431, 655.302392240735, 501.32758500130194, 373.0353146988411, 371.70940926008643, 366.49861477081436, 339.087022364132, 334.21388499713504, 326.07770449732806, 321.0965353965677, 315.654136008101, 263.73289870772163, 225.46910656782828, 223.43524571884404, 212.60983281205998, 186.48586090712587, 179.05192889143083, 171.2521525084498, 157.41808703015067, 156.32302837016113, 152.2042390136182, 144.86169177623324, 139.54768800547558, 128.59219477968713, 119.74170961448242, 507.8451208292868, 778.4116615499532, 960.4092969198342, 392.64833847036317, 1029.5170624692378, 2107.166221865437, 1061.1539553346793, 663.3174550534072, 615.8937659762197, 533.8775659545212, 481.6481066667241, 374.1372323371258, 332.0163287225923, 329.81715764910484, 323.479037571253, 288.4210299825831, 277.29993473474275, 221.50109890992042, 202.7569224904682, 183.76211435617452, 177.93656026072873, 177.20643632992847, 171.25609736831777, 170.2512003717668, 161.0655782002519, 160.11642667622007, 155.34638511084162, 151.34504091496106, 147.12577805997194, 145.45914229126728, 134.36106017796297, 129.64430817497393, 120.17819515600952, 109.5213923179232, 95.92685544374041, 94.4595150606379, 685.9862779933517, 877.674124154805, 240.95409357899473, 1337.60563931156, 565.0555915487055, 566.0724005406245, 1004.5418965078795, 540.4969697272402, 483.5233588741669, 2059.0617442487182, 2571.795204045446, 679.9598500727361, 568.0971636453967, 559.7431752846959, 433.44319932958484, 402.2159167498797, 395.3985395820565, 350.6216138836365, 232.10428769112124, 221.79171461213187, 218.99856869459833, 200.81757863960442, 192.97486323485796, 178.57945655276322, 163.26235899216215, 162.92411748044807, 143.55553958735752, 142.88687804631476, 113.19714865518517, 112.20527463476574, 109.88301594559935, 108.86389295277421, 102.85949630093877, 94.17885564547132, 85.66191118063725, 83.4398600711345, 80.31310670476171, 77.35496947233055, 74.94404200848035, 68.51792005213481, 267.9846415997251, 1610.1507792665448, 615.1814906096425, 606.7385067382424, 1363.619325057646, 1616.6192033979269, 2059.0617442487182, 319.39014739786757, 712.0355828479578, 1026.57725520283, 1996.574531996502, 1673.4625508774143, 512.9960247680657, 444.47675684931704, 388.5750219099433, 384.40854651833655, 377.5436618644437, 326.87240308489993, 316.9257737316876, 287.5449287882842, 260.84694570365104, 230.8875922945286, 228.66613848379885, 225.03686273186545, 207.07143462209316, 204.94346652841497, 195.63714956705851, 193.9507653734256, 185.3697937301792, 181.6363149942032, 153.62376097304212, 150.89918775743914, 148.81309892849487, 146.59372476808832, 137.09745919214942, 124.78227925574191, 121.05212131463527, 118.80322889645262, 113.38778534971888, 109.32443956401352, 108.62941757856392, 933.9629622311203, 315.65331427873974, 203.80756884923414, 463.07819720592903, 4879.638586818757, 1415.2181478384832, 1130.1190630526924, 1027.0716083465743, 835.1790560271685, 764.8995557843488, 400.9789401960514, 393.71746655286586, 381.5376988330929, 358.92614451123416, 305.86689392030775, 286.1755237565888, 259.32027837908606, 208.11709139808374, 201.32037834669063, 166.8893410485729, 158.36009557901014, 154.8054925332281, 145.5952192491407, 143.73554910146734, 143.7003740418864, 141.60321936821546, 130.9665549525612, 130.4891346472473, 123.77798809920957, 118.77874896502264, 106.51299125812622, 105.8517415698759, 100.44662385951901, 99.78014650003344, 98.63368636386619, 97.7899799319802, 96.33496926910293, 315.67726721830564, 602.0900864994653, 330.84107137288623, 132.71031024788977, 761.6313802939301, 1130.1190630526924, 133.57092324618597, 345.83045348679417, 1252.1345935531526, 2964.5121345365383, 1466.4548632262436, 1173.8809523316318, 934.9197618425293, 487.3286446219491, 435.78946471603405, 382.83750523941717, 348.67376467579714, 340.78465775545124, 272.95046372563525, 248.93398947109276, 231.18243992292014, 205.53620774040812, 203.2065723355062, 184.4691113798542, 177.477064303021, 169.21596780525545, 166.39030784781986, 146.64010849883724, 136.7090857900439, 132.30809983312167, 128.31657762972915, 116.10765714200164, 112.3793328090176, 103.181173797818, 94.72169937543872, 85.28243661496327, 74.71701855902263, 69.10975707865207, 65.54395757563631, 268.7968193728833, 112.96666235415259, 1975.345935663114, 647.7263127859335, 591.0073514206535, 422.2919299598352, 310.41007171986746, 266.43864615114705, 126.43629120216454, 121.00805945764215, 117.28120673487793, 114.65759605269511, 112.87363778419949, 110.76371742648878, 99.85278528891553, 87.45914509565779, 77.99648199309541, 65.61379478949243, 62.87695416653, 60.92643905193716, 58.60402555021067, 46.16488275634285, 43.608769265346965, 34.08330209395334, 28.51468801601565, 21.889099980557795, 19.892130797203436, 10.34403344389624, 7.877117412198005, 7.568450637785865, 142.9829344818221, 211.22088057441061, 963.790741882995, 747.9392521970309, 197.0544448229306, 1451.8084826046143, 1027.0094970089347, 489.6816288534822, 395.95452855346036, 297.76958617508967, 261.35580301383095, 248.43494214566383, 199.5481792202117, 168.9654912467059, 164.9811412131574, 148.45322680136834, 140.20055766130406, 126.62235847744452, 111.78119254134812, 92.4369132347993, 88.10513811814468, 78.19839461189305, 66.80514241477749, 54.66782957788257, 46.726930173959936, 43.24267387452546, 35.933811235074266, 35.35643858066444, 33.5385533433857, 27.132397223818597, 25.65080068326979, 25.447829596092173, 22.649168882191343, 22.011510388173605, 275.9019256427573, 17.988047807374794, 17.126725404809225, 427.20870189227384, 405.8772127254771, 250.07134753688237, 215.95487910915176, 188.14488865040755, 139.79389744743426, 115.63408977939292, 94.05654098729059, 93.46171624972965, 81.67477675868616, 78.48965011969916, 66.42260293567661, 47.52059558764825, 45.22030081973867, 42.10807710438863, 40.7725567828725, 40.29476179021609, 39.5157076511297, 37.69263912620914, 34.96779366014486, 34.625356758987984, 32.20754676105694, 31.330896037330632, 30.02445236515027, 29.086485981395807, 27.99098626788895, 27.901509913702682, 26.096716895617572, 22.094953314853495, 21.89074025174594, 21.035316128538632, 14.878149616645874, 137.51672525247017, 541.6916773125764, 196.93043910922012, 163.4419057977673, 95.57189275109175, 61.117376153351294, 59.027849895942914, 55.43309562468914, 52.78981435197513, 52.34627112580937, 46.4373937933368, 41.94548144227806, 36.875431208082375, 31.497521919577856, 31.171461353334642, 29.00000701008631, 28.253261738978555, 22.284296770116768, 18.022214407713555, 13.355491514319256, 11.608717907738846, 10.845410644110279, 7.670689345209881, 7.434975811581367, 6.804799955244674, 6.549972484205824, 5.966639446385303, 267.9846415997251, 1.3291242902016882, 1.3291105402863963, 1.3291373202942363, 1.329187029282096], \"Category\": [\"Default\", \"Default\", \"Default\", \"Default\", \"Default\", \"Default\", \"Default\", \"Default\", \"Default\", \"Default\", \"Default\", \"Default\", \"Default\", \"Default\", \"Default\", \"Default\", \"Default\", \"Default\", \"Default\", \"Default\", \"Default\", \"Default\", \"Default\", \"Default\", \"Default\", \"Default\", \"Default\", \"Default\", \"Default\", \"Default\", \"Topic1\", \"Topic1\", \"Topic1\", \"Topic1\", \"Topic1\", \"Topic1\", \"Topic1\", \"Topic1\", \"Topic1\", \"Topic1\", \"Topic1\", \"Topic1\", \"Topic1\", \"Topic1\", \"Topic1\", \"Topic1\", \"Topic1\", \"Topic1\", \"Topic1\", \"Topic1\", \"Topic1\", \"Topic1\", \"Topic1\", \"Topic1\", \"Topic1\", \"Topic1\", \"Topic1\", \"Topic1\", \"Topic1\", \"Topic1\", \"Topic1\", \"Topic1\", \"Topic1\", \"Topic1\", \"Topic1\", \"Topic1\", \"Topic1\", \"Topic1\", \"Topic1\", \"Topic1\", \"Topic1\", \"Topic1\", \"Topic1\", \"Topic1\", \"Topic1\", \"Topic1\", \"Topic1\", \"Topic1\", \"Topic1\", \"Topic1\", \"Topic1\", \"Topic1\", \"Topic1\", \"Topic1\", \"Topic1\", \"Topic1\", \"Topic1\", \"Topic1\", \"Topic1\", \"Topic1\", \"Topic1\", \"Topic1\", \"Topic1\", \"Topic1\", \"Topic1\", \"Topic2\", \"Topic2\", \"Topic2\", \"Topic2\", \"Topic2\", \"Topic2\", \"Topic2\", \"Topic2\", \"Topic2\", \"Topic2\", \"Topic2\", \"Topic2\", \"Topic2\", \"Topic2\", \"Topic2\", \"Topic2\", \"Topic2\", \"Topic2\", \"Topic2\", \"Topic2\", \"Topic2\", \"Topic2\", \"Topic2\", \"Topic2\", \"Topic2\", \"Topic2\", \"Topic2\", \"Topic2\", \"Topic2\", \"Topic2\", \"Topic2\", \"Topic2\", \"Topic2\", \"Topic2\", \"Topic2\", \"Topic2\", \"Topic2\", \"Topic2\", \"Topic2\", \"Topic2\", \"Topic2\", \"Topic2\", \"Topic2\", \"Topic2\", \"Topic2\", \"Topic2\", \"Topic2\", \"Topic2\", \"Topic2\", \"Topic2\", \"Topic2\", \"Topic3\", \"Topic3\", \"Topic3\", \"Topic3\", \"Topic3\", \"Topic3\", \"Topic3\", \"Topic3\", \"Topic3\", \"Topic3\", \"Topic3\", \"Topic3\", \"Topic3\", \"Topic3\", \"Topic3\", \"Topic3\", \"Topic3\", \"Topic3\", \"Topic3\", \"Topic3\", \"Topic3\", \"Topic3\", \"Topic3\", \"Topic3\", \"Topic3\", \"Topic3\", \"Topic3\", \"Topic3\", \"Topic3\", \"Topic3\", \"Topic3\", \"Topic3\", \"Topic3\", \"Topic3\", \"Topic3\", \"Topic3\", \"Topic3\", \"Topic3\", \"Topic3\", \"Topic3\", \"Topic3\", \"Topic3\", \"Topic3\", \"Topic3\", \"Topic3\", \"Topic3\", \"Topic3\", \"Topic3\", \"Topic3\", \"Topic3\", \"Topic3\", \"Topic3\", \"Topic3\", \"Topic3\", \"Topic4\", \"Topic4\", \"Topic4\", \"Topic4\", \"Topic4\", \"Topic4\", \"Topic4\", \"Topic4\", \"Topic4\", \"Topic4\", \"Topic4\", \"Topic4\", \"Topic4\", \"Topic4\", \"Topic4\", \"Topic4\", \"Topic4\", \"Topic4\", \"Topic4\", \"Topic4\", \"Topic4\", \"Topic4\", \"Topic4\", \"Topic4\", \"Topic4\", \"Topic4\", \"Topic4\", \"Topic4\", \"Topic4\", \"Topic4\", \"Topic4\", \"Topic4\", \"Topic4\", \"Topic4\", \"Topic4\", \"Topic4\", \"Topic4\", \"Topic4\", \"Topic4\", \"Topic4\", \"Topic4\", \"Topic4\", \"Topic4\", \"Topic4\", \"Topic4\", \"Topic4\", \"Topic4\", \"Topic4\", \"Topic5\", \"Topic5\", \"Topic5\", \"Topic5\", \"Topic5\", \"Topic5\", \"Topic5\", \"Topic5\", \"Topic5\", \"Topic5\", \"Topic5\", \"Topic5\", \"Topic5\", \"Topic5\", \"Topic5\", \"Topic5\", \"Topic5\", \"Topic5\", \"Topic5\", \"Topic5\", \"Topic5\", \"Topic5\", \"Topic5\", \"Topic5\", \"Topic5\", \"Topic5\", \"Topic5\", \"Topic5\", \"Topic5\", \"Topic5\", \"Topic5\", \"Topic5\", \"Topic5\", \"Topic5\", \"Topic5\", \"Topic5\", \"Topic5\", \"Topic5\", \"Topic5\", \"Topic5\", \"Topic5\", \"Topic5\", \"Topic6\", \"Topic6\", \"Topic6\", \"Topic6\", \"Topic6\", \"Topic6\", \"Topic6\", \"Topic6\", \"Topic6\", \"Topic6\", \"Topic6\", \"Topic6\", \"Topic6\", \"Topic6\", \"Topic6\", \"Topic6\", \"Topic6\", \"Topic6\", \"Topic6\", \"Topic6\", \"Topic6\", \"Topic6\", \"Topic6\", \"Topic6\", \"Topic6\", \"Topic6\", \"Topic6\", \"Topic6\", \"Topic6\", \"Topic6\", \"Topic6\", \"Topic6\", \"Topic6\", \"Topic6\", \"Topic6\", \"Topic6\", \"Topic6\", \"Topic6\", \"Topic6\", \"Topic6\", \"Topic6\", \"Topic6\", \"Topic6\", \"Topic6\", \"Topic6\", \"Topic6\", \"Topic6\", \"Topic6\", \"Topic6\", \"Topic7\", \"Topic7\", \"Topic7\", \"Topic7\", \"Topic7\", \"Topic7\", \"Topic7\", \"Topic7\", \"Topic7\", \"Topic7\", \"Topic7\", \"Topic7\", \"Topic7\", \"Topic7\", \"Topic7\", \"Topic7\", \"Topic7\", \"Topic7\", \"Topic7\", \"Topic7\", \"Topic7\", \"Topic7\", \"Topic7\", \"Topic7\", \"Topic7\", \"Topic7\", \"Topic7\", \"Topic7\", \"Topic7\", \"Topic7\", \"Topic8\", \"Topic8\", \"Topic8\", \"Topic8\", \"Topic8\", \"Topic8\", \"Topic8\", \"Topic8\", \"Topic8\", \"Topic8\", \"Topic8\", \"Topic8\", \"Topic8\", \"Topic8\", \"Topic8\", \"Topic8\", \"Topic8\", \"Topic8\", \"Topic8\", \"Topic8\", \"Topic8\", \"Topic8\", \"Topic8\", \"Topic8\", \"Topic8\", \"Topic8\", \"Topic8\", \"Topic8\", \"Topic8\", \"Topic8\", \"Topic8\", \"Topic8\", \"Topic8\", \"Topic8\", \"Topic8\", \"Topic8\", \"Topic8\", \"Topic8\", \"Topic8\", \"Topic8\", \"Topic8\", \"Topic9\", \"Topic9\", \"Topic9\", \"Topic9\", \"Topic9\", \"Topic9\", \"Topic9\", \"Topic9\", \"Topic9\", \"Topic9\", \"Topic9\", \"Topic9\", \"Topic9\", \"Topic9\", \"Topic9\", \"Topic9\", \"Topic9\", \"Topic9\", \"Topic9\", \"Topic9\", \"Topic9\", \"Topic9\", \"Topic9\", \"Topic9\", \"Topic9\", \"Topic9\", \"Topic9\", \"Topic9\", \"Topic9\", \"Topic9\", \"Topic9\", \"Topic9\", \"Topic9\", \"Topic9\", \"Topic9\", \"Topic9\", \"Topic9\", \"Topic9\", \"Topic9\", \"Topic9\", \"Topic9\", \"Topic9\", \"Topic10\", \"Topic10\", \"Topic10\", \"Topic10\", \"Topic10\", \"Topic10\", \"Topic10\", \"Topic10\", \"Topic10\", \"Topic10\", \"Topic10\", \"Topic10\", \"Topic10\", \"Topic10\", \"Topic10\", \"Topic10\", \"Topic10\", \"Topic10\", \"Topic10\", \"Topic10\", \"Topic10\", \"Topic10\", \"Topic10\", \"Topic10\", \"Topic10\", \"Topic10\", \"Topic10\", \"Topic10\", \"Topic10\", \"Topic10\", \"Topic10\", \"Topic10\", \"Topic10\", \"Topic10\", \"Topic10\", \"Topic10\", \"Topic10\", \"Topic10\", \"Topic10\", \"Topic11\", \"Topic11\", \"Topic11\", \"Topic11\", \"Topic11\", \"Topic11\", \"Topic11\", \"Topic11\", \"Topic11\", \"Topic11\", \"Topic11\", \"Topic11\", \"Topic11\", \"Topic11\", \"Topic11\", \"Topic11\", \"Topic11\", \"Topic11\", \"Topic11\", \"Topic11\", \"Topic11\", \"Topic11\", \"Topic11\", \"Topic11\", \"Topic11\", \"Topic11\", \"Topic11\", \"Topic11\", \"Topic11\", \"Topic11\", \"Topic11\", \"Topic11\", \"Topic11\", \"Topic11\", \"Topic11\", \"Topic11\", \"Topic12\", \"Topic12\", \"Topic12\", \"Topic12\", \"Topic12\", \"Topic12\", \"Topic12\", \"Topic12\", \"Topic12\", \"Topic12\", \"Topic12\", \"Topic12\", \"Topic12\", \"Topic12\", \"Topic12\", \"Topic12\", \"Topic12\", \"Topic12\", \"Topic12\", \"Topic12\", \"Topic12\", \"Topic12\", \"Topic12\", \"Topic12\", \"Topic12\", \"Topic12\", \"Topic12\", \"Topic12\", \"Topic12\", \"Topic12\", \"Topic12\", \"Topic12\", \"Topic12\", \"Topic12\", \"Topic12\", \"Topic12\", \"Topic12\", \"Topic12\", \"Topic12\", \"Topic12\", \"Topic13\", \"Topic13\", \"Topic13\", \"Topic13\", \"Topic13\", \"Topic13\", \"Topic13\", \"Topic13\", \"Topic13\", \"Topic13\", \"Topic13\", \"Topic13\", \"Topic13\", \"Topic13\", \"Topic13\", \"Topic13\", \"Topic13\", \"Topic13\", \"Topic13\", \"Topic13\", \"Topic13\", \"Topic13\", \"Topic13\", \"Topic13\", \"Topic13\", \"Topic13\", \"Topic13\", \"Topic13\", \"Topic13\", \"Topic13\", \"Topic13\", \"Topic13\", \"Topic13\", \"Topic13\", \"Topic13\", \"Topic13\", \"Topic13\", \"Topic13\", \"Topic13\", \"Topic13\", \"Topic13\", \"Topic14\", \"Topic14\", \"Topic14\", \"Topic14\", \"Topic14\", \"Topic14\", \"Topic14\", \"Topic14\", \"Topic14\", \"Topic14\", \"Topic14\", \"Topic14\", \"Topic14\", \"Topic14\", \"Topic14\", \"Topic14\", \"Topic14\", \"Topic14\", \"Topic14\", \"Topic14\", \"Topic14\", \"Topic14\", \"Topic14\", \"Topic14\", \"Topic14\", \"Topic14\", \"Topic14\", \"Topic14\", \"Topic14\", \"Topic14\", \"Topic14\", \"Topic14\", \"Topic14\", \"Topic14\", \"Topic14\", \"Topic14\", \"Topic14\", \"Topic15\", \"Topic15\", \"Topic15\", \"Topic15\", \"Topic15\", \"Topic15\", \"Topic15\", \"Topic15\", \"Topic15\", \"Topic15\", \"Topic15\", \"Topic15\", \"Topic15\", \"Topic15\", \"Topic15\", \"Topic15\", \"Topic15\", \"Topic15\", \"Topic15\", \"Topic15\", \"Topic15\", \"Topic15\", \"Topic15\", \"Topic15\", \"Topic15\", \"Topic15\", \"Topic15\", \"Topic15\", \"Topic15\", \"Topic15\", \"Topic15\", \"Topic15\", \"Topic15\", \"Topic15\", \"Topic15\", \"Topic15\", \"Topic15\", \"Topic15\", \"Topic15\", \"Topic16\", \"Topic16\", \"Topic16\", \"Topic16\", \"Topic16\", \"Topic16\", \"Topic16\", \"Topic16\", \"Topic16\", \"Topic16\", \"Topic16\", \"Topic16\", \"Topic16\", \"Topic16\", \"Topic16\", \"Topic16\", \"Topic16\", \"Topic16\", \"Topic16\", \"Topic16\", \"Topic16\", \"Topic16\", \"Topic16\", \"Topic16\", \"Topic16\", \"Topic16\", \"Topic16\", \"Topic16\", \"Topic16\", \"Topic16\", \"Topic16\", \"Topic16\", \"Topic17\", \"Topic17\", \"Topic17\", \"Topic17\", \"Topic17\", \"Topic17\", \"Topic17\", \"Topic17\", \"Topic17\", \"Topic17\", \"Topic17\", \"Topic17\", \"Topic17\", \"Topic17\", \"Topic17\", \"Topic17\", \"Topic17\", \"Topic17\", \"Topic17\", \"Topic17\", \"Topic17\", \"Topic17\", \"Topic17\", \"Topic17\", \"Topic17\", \"Topic17\", \"Topic17\", \"Topic17\", \"Topic17\", \"Topic17\", \"Topic17\", \"Topic17\", \"Topic17\", \"Topic17\", \"Topic17\", \"Topic18\", \"Topic18\", \"Topic18\", \"Topic18\", \"Topic18\", \"Topic18\", \"Topic18\", \"Topic18\", \"Topic18\", \"Topic18\", \"Topic18\", \"Topic18\", \"Topic18\", \"Topic18\", \"Topic18\", \"Topic18\", \"Topic18\", \"Topic18\", \"Topic18\", \"Topic18\", \"Topic18\", \"Topic18\", \"Topic18\", \"Topic18\", \"Topic18\", \"Topic18\", \"Topic18\", \"Topic18\", \"Topic18\", \"Topic18\", \"Topic18\", \"Topic18\", \"Topic19\", \"Topic19\", \"Topic19\", \"Topic19\", \"Topic19\", \"Topic19\", \"Topic19\", \"Topic19\", \"Topic19\", \"Topic19\", \"Topic19\", \"Topic19\", \"Topic19\", \"Topic19\", \"Topic19\", \"Topic19\", \"Topic19\", \"Topic19\", \"Topic19\", \"Topic19\", \"Topic19\", \"Topic19\", \"Topic19\", \"Topic19\", \"Topic19\", \"Topic19\", \"Topic19\", \"Topic19\", \"Topic19\", \"Topic19\", \"Topic19\", \"Topic20\", \"Topic20\", \"Topic20\", \"Topic20\", \"Topic20\", \"Topic20\", \"Topic20\", \"Topic20\", \"Topic20\", \"Topic20\", \"Topic20\", \"Topic20\", \"Topic20\", \"Topic20\", \"Topic20\", \"Topic20\", \"Topic20\", \"Topic20\", \"Topic20\", \"Topic20\", \"Topic20\", \"Topic20\", \"Topic20\", \"Topic20\", \"Topic20\", \"Topic20\", \"Topic20\", \"Topic20\", \"Topic20\", \"Topic20\", \"Topic20\"], \"logprob\": [30.0, 29.0, 28.0, 27.0, 26.0, 25.0, 24.0, 23.0, 22.0, 21.0, 20.0, 19.0, 18.0, 17.0, 16.0, 15.0, 14.0, 13.0, 12.0, 11.0, 10.0, 9.0, 8.0, 7.0, 6.0, 5.0, 4.0, 3.0, 2.0, 1.0, -3.7077, -4.0164, -4.359, -4.6691, -4.7148, -4.9273, -4.9521, -5.0067, -5.0362, -5.3502, -5.4075, -5.4664, -5.4938, -5.4707, -5.7601, -5.8225, -5.8264, -5.8377, -5.9112, -5.9742, -5.9878, -6.0051, -6.0193, -6.0587, -6.1584, -6.2375, -6.2538, -6.2975, -6.3176, -6.3371, -3.8341, -4.6174, -3.4444, -5.5376, -5.3394, -5.0886, -4.2354, -5.5264, -4.4825, -3.6899, -5.0185, -5.0755, -4.1328, -4.817, -5.1123, -5.1678, -4.052, -4.4737, -3.9844, -4.1806, -4.3992, -4.4152, -5.0527, -4.5531, -4.7474, -4.1063, -4.5456, -4.9035, -4.5559, -4.615, -4.4154, -4.9089, -4.7769, -4.8365, -4.8971, -4.3454, -4.357, -4.4804, -4.5607, -4.7885, -4.842, -4.9899, -5.0121, -5.0626, -5.087, -5.1086, -5.2203, -5.3189, -5.451, -5.4673, -5.501, -5.5332, -5.544, -5.5621, -5.5656, -5.6005, -5.6107, -5.6461, -5.6836, -5.6843, -5.7016, -5.7022, -5.8077, -5.8156, -5.8548, -3.5835, -4.5103, -5.1484, -5.1529, -5.3414, -4.4194, -5.0982, -4.523, -4.7689, -5.3102, -3.9751, -4.6715, -5.1074, -4.689, -5.1519, -4.5535, -5.1168, -5.0486, -4.97, -5.093, -5.1253, -4.011, -4.0599, -4.2294, -4.39, -4.4833, -4.6636, -4.7684, -4.7935, -4.7989, -4.8281, -4.8993, -4.9762, -5.057, -5.1495, -5.1761, -5.1973, -5.2, -5.2438, -5.315, -5.3198, -5.3545, -5.3565, -5.4778, -5.4991, -5.5147, -5.5165, -5.5192, -4.5475, -5.5727, -5.6146, -4.1919, -4.4094, -4.1609, -4.73, -4.2063, -4.3789, -5.3378, -4.9626, -5.066, -4.9898, -5.1142, -4.5034, -4.5663, -4.2815, -5.0057, -4.662, -4.5333, -4.761, -4.8567, -4.4595, -4.5923, -4.6805, -4.7661, -4.8611, -4.0824, -4.2526, -4.3154, -4.5852, -4.7316, -4.8048, -4.849, -4.8613, -4.8879, -4.9079, -4.9265, -4.9382, -4.9793, -4.982, -4.9831, -5.0019, -5.0034, -5.0393, -5.0633, -5.066, -5.1003, -5.1082, -5.1298, -5.142, -5.2219, -5.2535, -5.2686, -5.2774, -5.3601, -5.4389, -3.8607, -4.6132, -4.6527, -4.3659, -4.727, -4.382, -4.9295, -4.0053, -4.7899, -4.542, -4.2061, -4.6698, -4.6853, -4.655, -4.8817, -4.8505, -4.9449, -4.9474, -2.8413, -3.604, -4.0807, -4.3727, -4.4032, -4.5323, -4.5448, -4.5755, -4.5895, -4.636, -4.6601, -4.663, -4.6688, -4.7917, -4.7982, -4.9208, -4.959, -3.701, -5.0306, -5.0682, -5.11, -5.1327, -5.1479, -5.1626, -5.1857, -5.2084, -5.2825, -5.2917, -5.2932, -5.3099, -4.54, -4.2229, -4.115, -4.4376, -3.0785, -4.6247, -4.226, -3.7654, -4.131, -4.7849, -4.6963, -4.6069, -2.5831, -2.67, -4.8186, -5.1457, -5.498, -5.7432, -6.0574, -6.1696, -6.3875, -3.7142, -6.4843, -6.7747, -7.0443, -7.0859, -7.4386, -7.5083, -7.5097, -2.1522, -7.6624, -3.2897, -7.8676, -4.2552, -4.1197, -8.3001, -8.3453, -2.3152, -8.7051, -1.7144, -4.4949, -3.4477, -2.0252, -4.6233, -5.1745, -5.6729, -6.2692, -5.0526, -5.7936, -4.8395, -4.8004, -4.935, -4.9494, -4.9499, -5.5157, -4.9251, -4.7516, -5.3199, -5.2123, -5.6178, -5.6178, -0.3496, -3.6522, -4.3296, -4.3712, -4.399, -4.75, -4.9585, -5.0747, -5.1448, -5.3519, -5.3801, -5.3973, -5.6271, -5.674, -5.7692, -5.8926, -5.9245, -5.9316, -5.9775, -5.9827, -6.0197, -6.0231, -6.0263, -6.0497, -6.0605, -6.1492, -6.1774, -6.2231, -6.23, -6.2974, -3.2412, -3.6499, -3.6869, -3.751, -3.7614, -3.7665, -3.903, -3.9061, -4.0219, -4.2012, -4.3446, -4.3547, -4.4092, -4.4614, -4.4885, -4.6169, -4.6492, -4.681, -4.7223, -4.7386, -4.7605, -4.7836, -4.8076, -4.9019, -4.9509, -4.9681, -4.981, -4.985, -5.0985, -5.1992, -4.258, -2.9551, -3.3106, -3.6067, -4.5075, -4.1793, -4.4164, -3.8481, -4.4906, -4.5355, -4.5295, -2.4831, -2.5391, -2.9013, -3.0002, -3.6889, -3.8975, -3.9588, -4.2252, -4.4069, -4.5026, -4.51, -4.5138, -4.6867, -4.7776, -4.7874, -4.8557, -4.8877, -4.8884, -4.9115, -4.9175, -4.9281, -4.9488, -5.1052, -5.1606, -5.2869, -5.3455, -5.3599, -5.3759, -5.3789, -5.492, -4.0781, -4.5329, -4.4725, -3.1906, -4.3787, -3.7597, -4.2408, -4.6188, -4.5116, -4.5114, -4.6698, -4.8901, -2.5364, -3.4607, -3.6495, -3.8399, -3.9206, -3.9648, -4.0541, -4.1279, -4.1536, -4.25, -4.328, -4.3718, -4.5249, -4.5612, -4.5671, -4.574, -4.6104, -4.6421, -4.7222, -4.7635, -4.8171, -4.8332, -4.8342, -4.8456, -4.8746, -4.892, -4.9217, -4.9268, -4.9709, -4.9729, -4.2748, -4.305, -4.0578, -4.1088, -4.5773, -4.5587, -4.033, -4.1681, -4.7905, -2.3892, -2.9091, -3.0088, -3.2267, -3.3146, -3.4013, -3.5431, -3.8115, -4.108, -4.1115, -4.1257, -4.2037, -4.2182, -4.243, -4.2584, -4.2756, -4.4561, -4.6137, -4.6228, -4.6727, -4.8047, -4.8457, -4.8905, -4.9754, -4.9824, -5.0094, -5.0592, -5.0969, -5.1795, -5.2515, -3.8602, -3.4953, -3.8779, -4.5389, -4.1261, -4.5618, -2.9555, -3.4261, -3.5004, -3.6437, -3.7469, -4.0002, -4.1201, -4.1268, -4.1462, -4.2614, -4.3009, -4.5268, -4.6157, -4.7147, -4.7472, -4.7513, -4.7857, -4.7917, -4.8475, -4.8535, -4.884, -4.9103, -4.9388, -4.9503, -5.0304, -5.0665, -5.1431, -5.237, -5.3712, -5.3868, -3.5539, -3.7095, -4.769, -3.7627, -4.3164, -4.3867, -4.1971, -4.5887, -4.6987, -4.4833, -1.9496, -3.2813, -3.4614, -3.4763, -3.7327, -3.8077, -3.8248, -3.9454, -4.3598, -4.4055, -4.4182, -4.5054, -4.5455, -4.6236, -4.7139, -4.716, -4.8436, -4.8483, -5.0836, -5.0925, -5.1137, -5.1231, -5.1805, -5.2698, -5.366, -5.3927, -5.4315, -5.4696, -5.5018, -5.5931, -4.5386, -3.2954, -4.0059, -4.0705, -3.9244, -3.9076, -3.8642, -4.7705, -4.6441, -4.5616, -5.0084, -2.3767, -3.5608, -3.7046, -3.8394, -3.8502, -3.8683, -4.0129, -4.0439, -4.1416, -4.2395, -4.3622, -4.3719, -4.388, -4.4717, -4.4821, -4.5288, -4.5376, -4.5831, -4.6036, -4.7724, -4.7904, -4.8045, -4.8196, -4.8872, -4.9823, -5.0129, -5.0319, -5.079, -5.116, -5.1224, -3.573, -4.584, -4.8675, -4.6003, -4.5782, -4.7394, -4.784, -2.7268, -2.9339, -3.022, -3.6693, -3.6876, -3.7192, -3.7805, -3.9411, -4.0079, -4.1069, -4.3281, -4.3615, -4.5504, -4.6032, -4.6261, -4.688, -4.701, -4.7012, -4.716, -4.7949, -4.7985, -4.8519, -4.8935, -5.0038, -5.0101, -5.0632, -5.0699, -5.0816, -5.0903, -5.1055, -4.319, -3.9345, -4.3455, -4.904, -4.0327, -4.1215, -4.9537, -4.8181, -4.7311, -1.6526, -2.3569, -2.5797, -2.8076, -3.4603, -3.5724, -3.7024, -3.7962, -3.8192, -4.042, -4.1346, -4.209, -4.3272, -4.3387, -4.4361, -4.475, -4.523, -4.54, -4.6674, -4.7382, -4.7712, -4.8021, -4.9032, -4.9362, -5.0226, -5.1092, -5.2157, -5.3501, -5.4295, -5.4835, -4.2522, -5.0864, -1.5716, -2.6879, -2.7797, -3.1167, -3.4256, -3.5791, -4.3298, -4.3741, -4.4057, -4.4286, -4.4444, -4.4635, -4.5685, -4.7028, -4.8191, -4.9951, -5.0386, -5.0708, -5.1105, -5.355, -5.4137, -5.6685, -5.8545, -6.1331, -6.2349, -6.9537, -7.2708, -7.3186, -5.1982, -4.8627, -3.8107, -4.2769, -5.1804, -4.9688, -5.6253, -2.5712, -2.7843, -3.0704, -3.2014, -3.2524, -3.4728, -3.6403, -3.6643, -3.7708, -3.8285, -3.9313, -4.0574, -4.2498, -4.2985, -4.4196, -4.58, -4.7848, -4.9459, -5.0256, -5.217, -5.2338, -5.2886, -5.51, -5.569, -5.5774, -5.7005, -5.7308, -3.2054, -5.9466, -5.9995, -3.898, -5.8493, -2.864, -3.0115, -3.1503, -3.4497, -3.6414, -3.8505, -3.8569, -3.9937, -4.0342, -4.2041, -4.5469, -4.5979, -4.6714, -4.7046, -4.7168, -4.737, -4.7858, -4.8636, -4.8739, -4.9491, -4.9779, -5.0224, -5.0555, -5.0957, -5.0991, -5.1693, -5.3452, -5.3551, -5.3975, -5.7711, -3.5768, -1.9371, -2.9532, -3.1409, -3.6832, -4.138, -4.1735, -4.2378, -4.2879, -4.2965, -4.4195, -4.5243, -4.6575, -4.8213, -4.8322, -4.9076, -4.9349, -5.1852, -5.4121, -5.739, -5.8954, -5.9722, -6.376, -6.4137, -6.5218, -6.5691, -6.6867, -3.9291, -11.4476, -11.4476, -11.4476, -11.4476], \"loglift\": [30.0, 29.0, 28.0, 27.0, 26.0, 25.0, 24.0, 23.0, 22.0, 21.0, 20.0, 19.0, 18.0, 17.0, 16.0, 15.0, 14.0, 13.0, 12.0, 11.0, 10.0, 9.0, 8.0, 7.0, 6.0, 5.0, 4.0, 3.0, 2.0, 1.0, 1.4189, 1.4189, 1.4188, 1.4187, 1.4186, 1.4185, 1.4185, 1.4185, 1.4185, 1.4182, 1.4182, 1.4181, 1.4181, 1.418, 1.4178, 1.4177, 1.4177, 1.4177, 1.4176, 1.4175, 1.4175, 1.4175, 1.4174, 1.4174, 1.4172, 1.417, 1.417, 1.4169, 1.4169, 1.4168, 1.4072, 1.4131, 1.3667, 1.4059, 1.4008, 1.393, 1.3661, 1.4006, 1.3528, 1.2958, 1.3623, 1.3655, 1.3024, 1.3448, 1.3641, 1.3595, 1.2303, 1.266, 1.1349, 1.1581, 1.1932, 1.19, 1.3246, 1.1483, 1.1986, 0.9407, 1.0806, 1.2586, 1.0315, 0.963, 0.5573, 1.2239, 0.9008, 0.7291, 0.8555, 1.5463, 1.5463, 1.5463, 1.5463, 1.5461, 1.5461, 1.546, 1.546, 1.546, 1.546, 1.5459, 1.5458, 1.5458, 1.5456, 1.5456, 1.5456, 1.5455, 1.5455, 1.5455, 1.5455, 1.5455, 1.5454, 1.5454, 1.5454, 1.5454, 1.5453, 1.5453, 1.5452, 1.5452, 1.5451, 1.5279, 1.5346, 1.5302, 1.5163, 1.5056, 1.3945, 1.4594, 1.2523, 1.2946, 1.4507, 0.9976, 1.2239, 1.3819, 1.1107, 1.3121, 0.4936, 1.0659, 0.704, 0.1492, 0.5847, 0.6061, 2.0919, 2.0918, 2.0918, 2.0917, 2.0916, 2.0915, 2.0914, 2.0914, 2.0913, 2.0913, 2.0912, 2.0912, 2.0911, 2.091, 2.0909, 2.0909, 2.0909, 2.0908, 2.0907, 2.0907, 2.0906, 2.0906, 2.0904, 2.0904, 2.0904, 2.0904, 2.0904, 2.0903, 2.0902, 2.0902, 2.0665, 2.0618, 2.0506, 2.0557, 2.001, 1.9894, 2.0729, 2.0134, 2.024, 2.0054, 2.0316, 1.4795, 1.455, 1.0753, 1.856, 1.3842, 1.2038, 1.5063, 1.5962, 0.8706, 0.9733, 1.0627, 0.8119, 1.3066, 2.6597, 2.6596, 2.6595, 2.6592, 2.659, 2.6589, 2.6588, 2.6588, 2.6587, 2.6587, 2.6586, 2.6586, 2.6585, 2.6585, 2.6585, 2.6585, 2.6585, 2.6584, 2.6584, 2.6584, 2.6583, 2.6583, 2.6582, 2.6582, 2.658, 2.6579, 2.6579, 2.6578, 2.6576, 2.6574, 2.6451, 2.6493, 2.6329, 2.6091, 2.6184, 2.5745, 2.6092, 2.3511, 2.5393, 2.2331, 1.7768, 2.2537, 2.0091, 1.8297, 2.3109, 2.1747, 2.4717, 2.1551, 2.721, 2.7207, 2.7203, 2.72, 2.72, 2.7198, 2.7198, 2.7198, 2.7198, 2.7197, 2.7197, 2.7197, 2.7196, 2.7194, 2.7194, 2.7192, 2.7191, 2.7191, 2.719, 2.7189, 2.7188, 2.7187, 2.7187, 2.7187, 2.7186, 2.7185, 2.7183, 2.7183, 2.7183, 2.7182, 2.6545, 2.6023, 2.5689, 2.6101, 2.2515, 2.5788, 2.4661, 1.9746, 1.86, 2.3971, 1.7999, 0.9587, 2.7272, 2.7272, 2.7256, 2.7249, 2.7238, 2.7228, 2.7211, 2.7204, 2.7187, 2.7186, 2.7178, 2.7145, 2.7106, 2.7099, 2.7026, 2.7008, 2.7007, 2.6992, 2.6964, 2.6963, 2.6895, 2.6877, 2.68, 2.6696, 2.667, 2.6451, 2.6419, 2.6296, 2.619, 2.5909, 2.5645, 2.5229, 2.5387, 2.5328, 2.5749, 2.4187, 2.428, 2.2365, 2.2179, 2.1482, 2.144, 2.1002, 2.2984, 1.9372, 1.7331, 2.0619, 1.528, 1.9309, 1.9058, 3.0952, 3.0944, 3.0937, 3.0936, 3.0935, 3.0929, 3.0923, 3.092, 3.0917, 3.0909, 3.0908, 3.0907, 3.0896, 3.0893, 3.0887, 3.0879, 3.0876, 3.0876, 3.0872, 3.0872, 3.0869, 3.0869, 3.0868, 3.0866, 3.0865, 3.0857, 3.0855, 3.085, 3.0849, 3.0842, 3.4702, 3.4698, 3.4698, 3.4697, 3.4697, 3.4697, 3.4695, 3.4695, 3.4693, 3.469, 3.4686, 3.4686, 3.4685, 3.4683, 3.4683, 3.4679, 3.4678, 3.4677, 3.4675, 3.4675, 3.4674, 3.4673, 3.4672, 3.4668, 3.4666, 3.4666, 3.4665, 3.4665, 3.4659, 3.4654, 3.4613, 3.4352, 3.43, 3.3484, 3.4259, 3.3402, 3.3213, 3.0334, 3.2357, 3.201, 2.8644, 3.8703, 3.8703, 3.8701, 3.87, 3.869, 3.8686, 3.8685, 3.8677, 3.8671, 3.8667, 3.8667, 3.8667, 3.8659, 3.8654, 3.8653, 3.8649, 3.8648, 3.8648, 3.8646, 3.8646, 3.8645, 3.8644, 3.8633, 3.8628, 3.8618, 3.8612, 3.8611, 3.8609, 3.8609, 3.8597, 3.557, 3.5539, 3.3862, 2.3967, 3.1686, 2.2313, 2.6536, 2.8865, 1.3146, 1.3026, 1.6761, 2.9457, 3.89, 3.889, 3.8887, 3.8884, 3.8882, 3.8881, 3.8878, 3.8876, 3.8875, 3.8872, 3.887, 3.8868, 3.8862, 3.886, 3.886, 3.886, 3.8858, 3.8857, 3.8852, 3.885, 3.8847, 3.8846, 3.8846, 3.8846, 3.8844, 3.8843, 3.8841, 3.884, 3.8838, 3.8837, 3.8695, 3.7786, 3.7166, 3.6887, 3.7037, 3.6603, 3.2524, 3.1428, 1.8216, 4.0534, 4.053, 4.0529, 4.0526, 4.0524, 4.0523, 4.0521, 4.0515, 4.0506, 4.0506, 4.0505, 4.0502, 4.0502, 4.0501, 4.05, 4.05, 4.0492, 4.0483, 4.0483, 4.048, 4.0472, 4.0469, 4.0466, 4.0459, 4.0458, 4.0456, 4.0452, 4.0449, 4.0441, 4.0433, 3.9898, 3.9276, 3.335, 3.5684, 3.0173, 1.8653, 4.1576, 4.1568, 4.1567, 4.1564, 4.1561, 4.1554, 4.1549, 4.1549, 4.1548, 4.1543, 4.1542, 4.153, 4.1525, 4.1518, 4.1516, 4.1516, 4.1513, 4.1513, 4.1509, 4.1508, 4.1506, 4.1503, 4.1501, 4.15, 4.1493, 4.1489, 4.1482, 4.1471, 4.1455, 4.1453, 3.9955, 3.5934, 3.8266, 3.1189, 3.4269, 3.3548, 2.9708, 3.1991, 3.2004, 1.9669, 4.2782, 4.2768, 4.2765, 4.2764, 4.2758, 4.2756, 4.2755, 4.2751, 4.2732, 4.273, 4.2729, 4.2724, 4.2721, 4.2716, 4.2709, 4.2709, 4.2699, 4.2698, 4.2675, 4.2674, 4.2671, 4.267, 4.2663, 4.2652, 4.2638, 4.2634, 4.2628, 4.2622, 4.2617, 4.2601, 3.9506, 3.4007, 3.6524, 3.6017, 2.9379, 2.7845, 2.586, 3.5433, 2.868, 2.5846, 1.4726, 4.2809, 4.2791, 4.2788, 4.2783, 4.2783, 4.2782, 4.2777, 4.2776, 4.2772, 4.2767, 4.2761, 4.276, 4.276, 4.2755, 4.2754, 4.2751, 4.275, 4.2747, 4.2746, 4.2733, 4.2732, 4.273, 4.2729, 4.2723, 4.2714, 4.2711, 4.2709, 4.2704, 4.2699, 4.2699, 3.6677, 3.7416, 3.8956, 3.3421, 1.0092, 2.0858, 2.2661, 4.4189, 4.4186, 4.4185, 4.417, 4.4169, 4.4168, 4.4166, 4.416, 4.4157, 4.4152, 4.414, 4.4138, 4.4125, 4.4121, 4.4119, 4.4114, 4.4113, 4.4113, 4.4111, 4.4104, 4.4104, 4.4098, 4.4094, 4.4082, 4.4081, 4.4074, 4.4073, 4.4072, 4.4071, 4.4069, 4.0065, 3.7453, 3.9331, 4.288, 3.4121, 2.9287, 4.2319, 3.4162, 2.2165, 4.4331, 4.4327, 4.4325, 4.4322, 4.4309, 4.4306, 4.4302, 4.4299, 4.4298, 4.4289, 4.4284, 4.428, 4.4273, 4.4273, 4.4266, 4.4264, 4.426, 4.4259, 4.4248, 4.4242, 4.4239, 4.4236, 4.4225, 4.4222, 4.4211, 4.42, 4.4185, 4.4164, 4.415, 4.4139, 4.2341, 4.2667, 4.9201, 4.9188, 4.9186, 4.9178, 4.9167, 4.916, 4.9107, 4.9103, 4.9099, 4.9097, 4.9095, 4.9093, 4.908, 4.9062, 4.9044, 4.9013, 4.9004, 4.8998, 4.8989, 4.893, 4.8913, 4.8829, 4.8753, 4.8612, 4.855, 4.7901, 4.7454, 4.7376, 3.9193, 3.8646, 3.3986, 3.186, 3.6163, 1.8308, 1.5205, 5.3152, 5.3146, 5.3135, 5.3129, 5.3127, 5.3114, 5.3102, 5.31, 5.3092, 5.3087, 5.3077, 5.3063, 5.3039, 5.3032, 5.3013, 5.2985, 5.2941, 5.29, 5.2878, 5.2815, 5.2809, 5.2789, 5.2695, 5.2666, 5.2662, 5.2596, 5.2579, 5.2547, 5.2439, 5.2401, 4.1249, 2.2248, 5.6944, 5.6936, 5.6927, 5.6904, 5.6884, 5.6858, 5.6858, 5.6837, 5.6831, 5.6801, 5.6722, 5.6708, 5.6686, 5.6676, 5.6672, 5.6665, 5.6649, 5.6621, 5.6618, 5.6589, 5.6577, 5.6558, 5.6544, 5.6526, 5.6524, 5.6491, 5.6397, 5.6391, 5.6365, 5.6092, 5.5797, 5.8484, 5.8442, 5.8428, 5.8372, 5.8294, 5.8287, 5.8272, 5.826, 5.8258, 5.8226, 5.8195, 5.8152, 5.809, 5.8085, 5.8053, 5.8041, 5.7912, 5.7765, 5.7493, 5.7331, 5.7242, 5.6668, 5.6604, 5.6407, 5.6316, 5.6074, 4.5602, 2.3481, 2.3481, 2.3481, 2.348]}, \"token.table\": {\"Topic\": [19, 8, 13, 16, 2, 4, 3, 3, 13, 19, 2, 4, 8, 15, 2, 13, 13, 1, 2, 3, 4, 5, 6, 4, 11, 18, 5, 15, 8, 14, 1, 3, 5, 17, 6, 12, 4, 12, 2, 8, 12, 12, 1, 2, 6, 13, 14, 6, 5, 8, 19, 2, 12, 13, 17, 19, 16, 17, 3, 16, 15, 3, 5, 6, 9, 7, 1, 16, 1, 11, 11, 8, 9, 20, 19, 8, 2, 8, 15, 1, 4, 10, 16, 7, 5, 4, 18, 8, 6, 2, 5, 13, 11, 19, 7, 2, 3, 11, 4, 6, 9, 4, 9, 20, 10, 11, 5, 10, 17, 1, 5, 10, 11, 10, 10, 14, 7, 10, 16, 1, 2, 8, 12, 14, 2, 3, 5, 2, 3, 5, 15, 1, 6, 12, 14, 15, 2, 18, 13, 4, 5, 6, 6, 8, 12, 5, 13, 5, 2, 2, 18, 12, 2, 2, 13, 11, 10, 3, 20, 18, 6, 17, 10, 15, 1, 2, 13, 14, 1, 5, 6, 13, 4, 5, 13, 19, 3, 5, 6, 10, 12, 12, 15, 14, 19, 10, 15, 15, 18, 6, 3, 19, 2, 3, 4, 5, 18, 7, 4, 6, 10, 18, 3, 3, 6, 17, 18, 2, 1, 4, 12, 11, 17, 8, 12, 8, 7, 13, 6, 6, 19, 16, 10, 10, 1, 8, 3, 5, 14, 12, 1, 2, 10, 13, 8, 12, 12, 5, 17, 6, 19, 2, 4, 4, 7, 5, 14, 5, 17, 2, 2, 4, 5, 5, 6, 10, 8, 2, 15, 11, 3, 14, 3, 20, 6, 12, 6, 9, 2, 3, 10, 9, 18, 18, 16, 16, 13, 2, 14, 5, 8, 15, 15, 15, 3, 11, 7, 19, 5, 7, 10, 3, 15, 9, 17, 3, 12, 18, 1, 2, 2, 17, 2, 2, 3, 10, 15, 16, 15, 2, 19, 13, 19, 17, 10, 2, 5, 15, 18, 2, 8, 16, 9, 3, 5, 9, 5, 6, 17, 5, 17, 4, 3, 2, 3, 9, 1, 2, 3, 16, 6, 8, 6, 1, 2, 3, 4, 9, 12, 14, 19, 13, 14, 11, 20, 15, 17, 2, 3, 2, 12, 4, 3, 14, 1, 16, 10, 14, 3, 9, 13, 10, 11, 16, 20, 12, 9, 1, 3, 11, 7, 12, 1, 2, 3, 1, 4, 8, 1, 2, 3, 2, 12, 13, 7, 2, 10, 2, 3, 1, 8, 1, 18, 1, 2, 12, 1, 2, 5, 7, 2, 4, 10, 12, 5, 15, 1, 10, 1, 3, 13, 4, 5, 15, 1, 9, 9, 9, 12, 7, 17, 6, 20, 2, 3, 5, 9, 8, 12, 16, 5, 17, 1, 3, 19, 19, 3, 4, 11, 4, 5, 4, 13, 20, 3, 3, 13, 12, 12, 3, 20, 18, 15, 5, 13, 7, 19, 1, 4, 11, 10, 12, 14, 3, 12, 12, 2, 3, 13, 2, 12, 20, 1, 2, 6, 7, 13, 3, 6, 8, 12, 19, 16, 1, 2, 3, 3, 6, 1, 2, 12, 4, 1, 9, 12, 14, 2, 2, 4, 9, 1, 2, 4, 5, 1, 2, 8, 12, 2, 8, 1, 10, 5, 1, 3, 6, 3, 1, 2, 19, 4, 19, 1, 3, 1, 9, 2, 4, 5, 6, 6, 4, 10, 14, 9, 1, 5, 17, 11, 1, 2, 3, 4, 8, 9, 12, 3, 11, 16, 1, 2, 3, 4, 14, 14, 6, 15, 12, 13, 18, 2, 1, 2, 5, 15, 15, 5, 3, 7, 10, 2, 12, 14, 8, 2, 15, 16, 5, 14, 17, 5, 3, 10, 11, 1, 18, 1, 14, 8, 8, 12, 8, 11, 17, 4, 19, 20, 1, 2, 5, 8, 12, 7, 8, 1, 3, 5, 2, 3, 6, 9, 3, 1, 2, 3, 4, 11, 13, 1, 3, 6, 10, 1, 6, 10, 4, 9, 9, 11, 13, 2, 3, 4, 8, 9, 3, 2, 15, 20, 12, 12, 9, 2, 11, 4, 10, 13, 1, 3, 4, 11, 13, 1, 2, 6, 17, 3, 17, 17, 14, 19, 1, 6, 12, 3, 14, 10, 17, 3, 12, 13, 4, 8, 17, 9, 18, 20, 14, 15, 1, 7, 2, 12, 14, 16, 2, 6, 13, 12, 15, 1, 9, 4, 11, 9, 14, 14, 14, 9, 4, 11, 2, 3, 4, 9, 8, 18, 20, 5, 16, 1, 2, 3, 20, 4, 10, 6, 10, 1, 11, 16, 2, 13, 15, 1, 2, 3, 10, 1, 3, 5, 16, 12, 11, 5, 9, 3, 17, 3, 14, 4, 13, 2, 13, 2, 2, 3, 5, 13, 15, 11, 2, 13, 4, 2, 9, 18, 11, 1, 2, 15, 2, 3, 11, 17, 18, 15, 14, 5, 8, 16, 20, 1, 2, 3, 8, 1, 2, 2, 7, 17, 2, 3, 18, 19, 11, 15, 4, 2, 3, 18, 13, 19, 2, 18, 1, 16, 16, 3, 6, 7, 12, 3, 4, 8, 15, 7, 3, 3, 6, 14, 15, 8, 2, 3, 4, 5, 15, 7, 5, 18, 10, 10, 1, 2, 16, 15, 2, 15, 10, 12, 19, 9, 14, 7, 10, 7, 2, 1, 3, 5, 9, 17, 1, 8, 10, 11, 9, 14, 16, 1, 2, 9, 2, 6, 15, 15, 9, 5, 10, 5, 1, 13, 3, 13, 13, 1, 2, 3, 8, 10, 3, 2, 18, 16, 17, 1, 3, 15, 19, 2, 3, 15, 7, 17, 14, 1, 10, 18, 20, 7, 2, 3, 4, 5, 9, 2, 4, 14, 12, 5, 4, 4, 3, 5, 14, 12, 5, 1, 1, 6, 9, 2, 10, 11, 3, 12, 12, 20, 14, 14, 8, 19, 8, 16, 5, 10, 9, 17, 9, 2, 5, 9, 14, 1, 3, 9, 2, 18, 16, 1, 2, 4, 20, 3, 6, 15, 19, 19, 3, 11, 2, 3, 5, 1, 2, 3, 7, 5, 16, 18, 5, 6, 1, 2, 2, 11, 17, 7, 9, 5, 6, 13, 14, 20, 1, 2, 2, 12, 16, 16, 20, 3, 6, 13, 1, 2, 1, 2, 7, 1, 2, 3, 5, 16, 18, 5, 8, 1, 2, 5, 9, 14, 11, 1, 5, 7, 15, 18, 12, 2, 19, 8, 1, 2, 3, 20, 12, 12, 17, 2, 20, 4, 8, 3, 6, 11, 11, 13, 20, 1, 2, 3, 4, 5, 11, 3, 13, 17, 4, 1, 10, 14, 17, 3, 5, 11, 5, 12, 20, 7, 4, 14, 13, 18, 20, 1, 2, 3, 2, 12, 16, 15, 10, 1, 2, 3, 12, 8, 1, 15, 5, 1, 2, 20, 4, 10, 9, 17, 1, 10, 12, 8, 12, 1, 2, 3, 1, 3, 5, 12, 2, 4, 12, 1, 1, 2, 6, 1, 2, 4, 9, 12, 14, 15, 9, 14], \"Freq\": [0.957521290302554, 0.9989332867516617, 0.9874033747956438, 0.9928141071966987, 0.99891902111063, 0.9966463762004941, 0.9993824191627318, 0.9983099043369683, 0.9937931456097229, 0.9723232849761432, 0.16339445242755635, 0.8284609345740942, 0.00638259579795142, 0.9879254011111603, 0.9989250953644969, 0.9964629621962316, 0.9919640361342419, 0.3446785977927448, 0.2322267984184357, 0.3617660636889857, 0.001139164393082726, 0.06021297506294408, 0.9792033245617552, 0.9976416568117531, 0.9920880060803664, 0.9740130199670334, 0.38084751532552985, 0.6135876635800203, 0.9957024613405567, 0.9970788941499236, 0.9981698246089961, 0.7304490169977854, 0.049803342068030824, 0.21788962154763483, 0.9977808272586989, 0.9950730708413706, 0.9497269590216354, 0.04925118197173563, 0.9988385757780607, 0.9952106101367834, 0.9965781934073613, 0.9923481929895858, 0.002189280163764642, 0.0767342697399507, 0.9209207008875968, 0.9892583068069751, 0.9909912563781345, 0.9679845754425296, 0.998264097448481, 0.9985962672632186, 0.9550936425400847, 0.30877063883018246, 0.5685481504659079, 0.12191313046062555, 0.9840767584596525, 0.9579749092575801, 0.9925258534382013, 0.9551515719307025, 0.14163470590854232, 0.8498082354512538, 0.9934437012360522, 0.9977571881054498, 0.0011717641668883732, 0.9785037059215594, 0.9967041954667853, 0.9999726743477182, 0.9995168289748716, 0.9885524291463044, 0.9992739875412445, 0.9924282297259365, 0.996367939658924, 0.9567159293552343, 0.04066577775782875, 0.8817305489451767, 0.9843602674080589, 0.9990652496317848, 0.9996149113257898, 0.9967926340029368, 0.9919216679200703, 0.9820648817344355, 0.017525282093079814, 0.998174292491279, 0.9951996254224821, 0.9969302360418172, 0.9993999682017669, 0.998688284808524, 0.9431059693863045, 0.9956123831916149, 0.9952766881925338, 0.24392715866285009, 0.24557531514030176, 0.5076321950551205, 0.9973518612559521, 0.9658793988083072, 0.998007383852059, 0.3905391340083276, 0.6086956577436529, 0.9854544450710618, 0.9975670909270056, 0.8233112501944408, 0.17421603246435266, 0.9986047312896958, 0.9930819306538035, 0.9655170079876704, 0.05907312834080484, 0.93729363634077, 0.4166254764239497, 0.2272502598676089, 0.3456097702153219, 0.7131332728056928, 0.08050583784275636, 0.12618290895921389, 0.07936391106484493, 0.9955991396063926, 0.9944034033192549, 0.994536106469461, 0.9972004043615572, 0.9995986478687539, 0.9990079045303564, 0.3381638074085253, 0.04367429246973574, 0.5453047374078434, 0.007487021566240412, 0.06488752024075024, 0.7772525365037383, 0.13493051249152332, 0.08742441518399433, 0.9083997839429104, 0.018552293180453313, 0.05035622434694471, 0.021202620777660927, 0.18570769045665972, 0.5580469902279726, 0.07391350863946655, 0.08500053493538653, 0.09701148008929986, 0.9980867183084075, 0.9450719823543213, 0.9954402957948512, 0.9981408392025978, 0.48451294136254863, 0.5141015179343074, 0.9894631411955819, 0.9597095481241088, 0.0396091220809003, 0.7750743015834244, 0.22454267476040146, 0.9985420830147876, 0.9989520987850183, 0.9983413546534805, 0.9922415768148743, 0.9953121707872516, 0.9995666547003793, 0.9981612453461354, 0.9980687042365142, 0.9935764578492238, 0.9922287842725256, 0.999125782092714, 0.9968770476205779, 0.9712627882787441, 0.9539825786905746, 0.04546054165601294, 0.16470650546789714, 0.8310191866789356, 0.7976816686145292, 0.2020464025073207, 0.995375031602659, 0.9980584162060203, 0.031781615799791246, 0.30419546551228765, 0.6120231156874086, 0.05175863144537432, 0.9581858791720768, 0.0404197517268618, 0.989164196715579, 0.9616429075619409, 0.0014137276216645974, 0.9980917008952058, 0.9966382121987314, 0.8929025402260191, 0.10197494191996317, 0.11302814357061995, 0.8740843102794609, 0.10180579834414376, 0.8871648141418242, 0.9922638171226071, 0.9947967444820784, 0.9834368315319838, 0.9840653646570352, 0.9915749617948733, 0.9986464267987457, 0.9504432845251859, 0.12168846877147393, 0.02934331871085187, 0.615346654142276, 0.23302047211558838, 0.9975892975464947, 0.9985367061324492, 0.9965915580003072, 0.9737269267749205, 0.9933027754461818, 0.994812424295935, 0.9992275292161128, 0.17002137096553163, 0.8277808162160227, 0.9855430768674646, 0.9540462980351829, 0.9986920190392737, 0.9984593024363381, 0.9730730646694832, 0.025754523000458128, 0.9981476436533411, 0.9946004599110185, 0.9899811249567219, 0.006910863001443085, 0.9960570637486871, 0.9951190804951552, 0.9911554409266748, 0.9888259530539298, 0.9361077992561743, 0.9810210630646538, 0.9874983745215831, 0.99659068829725, 0.9948060304457592, 0.9995208272589827, 0.9963900767244158, 0.9977951932558862, 0.8882022901697976, 0.11093696066559923, 0.9931919158529756, 0.8227786239457318, 0.17678956251519806, 0.9805075958623335, 0.018500143318157237, 0.884315537521147, 0.11426097027115821, 0.9913348335095646, 0.7206130271641348, 0.26896120027957143, 0.9916809824791999, 0.967867739311702, 0.0490389657835584, 0.9504905426872055, 0.9985292337384991, 0.988406731417342, 0.9353511949140468, 0.06337898807067859, 0.9978846826723623, 0.9872240136012336, 0.9985431833154869, 0.22038918144506162, 0.7050413165673036, 0.0734630604816872, 0.9977601363187607, 0.9806102014165247, 0.9973201798872524, 0.9967853053305024, 0.9987970016124741, 0.9956378197596798, 0.9987698434760749, 0.9984985911690348, 0.9878852380190981, 0.9989546417610348, 0.9952752905369592, 0.9610465544387576, 0.03815569446903256, 0.26682074497435215, 0.7305806112392976, 0.08684691031109923, 0.9126543732692709, 0.9968974080030317, 0.9958815850775142, 0.9342124441083852, 0.9942858672526439, 0.9994899212862306, 0.9992495386096163, 0.996430368855228, 0.4571915774689294, 0.5417773728320334, 0.3164260378911815, 0.3177390090027632, 0.36500596901970317, 0.9914113743488394, 0.9946710734011823, 0.9638145016703429, 0.03531948843330362, 0.9964735673644514, 0.9645962361452836, 0.9986629399559325, 0.9888299914654216, 0.9971926142988179, 0.9987116151007819, 0.9937146490167056, 0.9879183491927367, 0.7927646340249221, 0.9981201836217299, 0.9926508572683503, 0.9940530099019635, 0.5690678069042296, 0.430547903184551, 0.8222592920393881, 0.17648492121821013, 0.9997031772077689, 0.9165834421276001, 0.08273585052833204, 0.8302264567994789, 0.027270212084654417, 0.13938108398823368, 0.9886780867315837, 0.999059847045407, 0.9530587722084314, 0.9949482372029381, 0.9625073350039495, 0.9890757712122269, 0.9963974021324262, 0.9994479132690827, 0.6303666950149737, 0.3672319737013837, 0.9914368553069214, 0.9991442413681242, 0.9969827022410621, 0.9981884263389698, 0.9983535723305376, 0.9988487787770259, 0.9990734044179755, 0.9973087380717075, 0.23458909393545552, 0.7347761850277199, 0.029660690037816215, 0.9973096325074869, 0.9914595743478956, 0.998178530229533, 0.9996189699432272, 0.09931244150815463, 0.28204733388315917, 0.6157371373505587, 0.39038176485354154, 0.2521914100556928, 0.3570915407341291, 0.9897396138983049, 0.9839027580718036, 0.9985317228826017, 0.9969267460941224, 0.5334331510335685, 0.20894966842924656, 0.11163064477726872, 0.026541551905084868, 0.07754296536975776, 0.0197760582822201, 0.022117959920904057, 0.9794945658237376, 0.9824837436874018, 0.9967530932694406, 0.9941250066506199, 0.7821982784046421, 0.6224519053447939, 0.37067360655364134, 0.44290481721426334, 0.5565634963350012, 0.693848611414818, 0.30461646354796884, 0.9984880902297006, 0.9986125806293804, 0.9891282879222177, 0.9990875948471749, 0.9901132293882872, 0.3140217037147612, 0.682015887755497, 0.9985171776277432, 0.999581758117485, 0.9827437381857186, 0.9952053934770295, 0.9967942672752462, 0.9888154167667556, 0.9690466308308833, 0.9899687137688087, 0.9938266085008974, 0.9489318013360581, 0.05091645197947847, 0.9876182626603816, 0.9974164987814653, 0.9932230633739163, 0.5337264094535742, 0.3902948333432123, 0.07550276036172512, 0.9997859382106863, 0.9980624868286644, 0.9986643149085462, 0.9882166633822185, 0.0088440751857857, 0.0027547119431135785, 0.7037185766999381, 0.11170136138094255, 0.18406441723207492, 0.9994658562748331, 0.18121682846569087, 0.8164098354588342, 0.6181063818865715, 0.3813452482354915, 0.9984020727250946, 0.9989741251343625, 0.9978122889440451, 0.963042079427629, 0.9421592436565582, 0.053507930319025024, 0.0036721128650311287, 0.9871060718767393, 0.011931177339364295, 0.9984165736465753, 0.994121700379905, 0.01754442159620022, 0.8854084765549044, 0.08538285176817441, 0.010526652957720132, 0.9969990639319156, 0.9975586244116144, 0.9993664256614478, 0.993370961042812, 0.5071186814222373, 0.4925276707675053, 0.989424215455887, 0.7340271216831972, 0.26575319285036236, 0.9857952420615097, 0.5033490319854061, 0.4960752020434205, 0.9927831145552833, 0.992861537321063, 0.9901962651837128, 0.9970195329545299, 0.9916694849734781, 0.9998246801625502, 0.9524558813419844, 0.7907827839805173, 0.13343843988712342, 0.07533609336800694, 0.9942491756027422, 0.9979215590105294, 0.9913330129318364, 0.9916442978812718, 0.9984819589185822, 0.8700667924957918, 0.9987794594897403, 0.9993133277388687, 0.985868442580294, 0.9507820028844721, 0.9590469136299616, 0.03442928688739392, 0.00573821448123232, 0.9892293833348869, 0.009848522621696882, 0.5166095489929369, 0.4790379454298142, 0.8985068042710409, 0.999171872556787, 0.9745116216170706, 0.0248538546031503, 0.9911127519816336, 0.9904108942022776, 0.9982880860319877, 0.9825870348021339, 0.9902108776435505, 0.9971657804831483, 0.9976213918898966, 0.9874827992186588, 0.9940484089778757, 0.9593097244998421, 0.5018693608504633, 0.009371004663182924, 0.48729224248551206, 0.9972504492222245, 0.41501227477789, 0.5829180042681813, 0.9992304181121072, 0.9926653860059867, 0.9980138393112222, 0.8478842953792722, 0.15149808732208558, 0.9805991816230584, 0.5167633138532189, 0.4813685663290259, 0.9850385086276482, 0.9981778863032428, 0.13301871952272978, 0.8566405537263798, 0.9928051702182353, 0.9996907980681373, 0.10185809981529546, 0.8969171567069072, 0.645930291116808, 0.3536169302063081, 0.9736849274394166, 0.984962476849093, 0.8840636984281344, 0.10890802482541152, 0.006848855169433096, 0.3457204161627261, 0.6515500150759069, 0.031022286151647187, 0.5832189796509671, 0.3826081958703153, 0.999481473208922, 0.8812101503837022, 0.11157328120548365, 0.006563134188557862, 0.996677538641649, 0.9994860646544137, 0.26116479034128115, 0.6657753162729972, 0.07250246418429596, 0.14879515184220535, 0.22939252575673325, 0.5214030112470612, 0.09981674769414609, 0.9098353273423883, 0.08940317360485998, 0.8605899762292332, 0.13727202074822126, 0.9703140861260225, 0.029018739024329648, 0.4702053459200892, 0.5284212458911479, 0.997836350411209, 0.05632622875619779, 0.03682186832645459, 0.9067754476155158, 0.9991332250542982, 0.947932824330706, 0.051486706702226166, 0.9676895653141717, 0.998288918433333, 0.9730143144203498, 0.8582095936970998, 0.1415234396725195, 0.7027665303546916, 0.2961009842334961, 0.17896733278908727, 0.4358558357531985, 0.015081516808069151, 0.36999987902462983, 0.9100798386597257, 0.9177772842877397, 0.08138323592015954, 0.9894302745697844, 0.9900552194102493, 0.999726295674118, 0.9994626341034099, 0.97262943056981, 0.999592257590686, 0.6198423877535422, 0.34884041930197424, 0.0294878793865803, 0.0016713777789964543, 0.9646186664841989, 0.010062404297132468, 0.02469862872932515, 0.201197846163719, 0.616327579387595, 0.18082338072941834, 0.12166774450744776, 0.744843996862668, 0.11449627176209005, 0.01854691227247679, 0.9953924760624623, 0.9950979034725899, 0.9303248524075587, 0.9946323899177171, 0.986108720079938, 0.9968857587521112, 0.9271863400034932, 0.998630071377517, 0.9994830931052151, 0.9879380422837613, 0.01165708604464615, 0.9949086959672471, 0.9890434640823543, 0.9986192115622305, 0.9993032876092743, 0.9951848615585116, 0.9971827499945772, 0.4643874324155161, 0.38298087055781604, 0.15171222891662278, 0.9953523016631712, 0.998891322796953, 0.17485325946063424, 0.8184620655604156, 0.997339671447189, 0.995946672273988, 0.9954573905670819, 0.9981657430926418, 0.3640660409690043, 0.47317100592816963, 0.1607862641503489, 0.9989253668539849, 0.9965658731012239, 0.9986058584453122, 0.9959113023992495, 0.9980348422874397, 0.9960402477822681, 0.9898701292163055, 0.995375604326277, 0.9965850288754645, 0.9969406709714815, 0.9968893162646106, 0.9565257388122124, 0.9624187862078105, 0.9358841955446014, 0.058558410663986, 0.005251875395873184, 0.5511662460526711, 0.4469392956773262, 0.9926522808269397, 0.9979598647647726, 0.5014799848056662, 0.3266337046175251, 0.1716380915608358, 0.005999677968705487, 0.3128403512253575, 0.6008248937232209, 0.07971000729851575, 0.9991262840717365, 0.4415496221509149, 0.00023803214132124794, 0.41131954020311645, 0.1033059493334216, 0.018804539164378586, 0.024755342697409786, 0.19297964607178403, 0.2460261838545493, 0.5606470286350882, 0.995766720507955, 0.9984342973041322, 0.9998128402889606, 0.9914275986832979, 0.9973521009360585, 0.9940351480223896, 0.9970804252788503, 0.992688252438824, 0.9959287496386375, 0.032565505079339065, 0.5417439162731171, 0.41330799904432197, 0.0066957113247239205, 0.005173958750923029, 0.9978724212880206, 0.3357859783000973, 0.6620685798558522, 0.976259770275161, 0.9903378940188028, 0.9975223919370071, 0.9952197310871448, 0.11690472341948623, 0.8812817611622807, 0.9986467168791798, 0.9953280689515802, 0.9836501567597328, 0.8551769581825972, 0.03179625760168369, 0.0004745710089803536, 0.11199875811936345, 0.9778463787140672, 0.12073263232419852, 0.5770500544957661, 0.30118248063671027, 0.9754046417423358, 0.9984448058722327, 0.9631090422305189, 0.9682160463511683, 0.9963358085269071, 0.9680013356557448, 0.02778150717699446, 0.9721564154550394, 0.9947365495918523, 0.9974510470734975, 0.9913085264164795, 0.9955387177994784, 0.998295534872397, 0.9809654034067129, 0.017766514421337618, 0.9922679115997414, 0.9984669930964122, 0.9967152208576896, 0.8886499506990011, 0.9956093364411228, 0.9541258286356848, 0.9911778696489784, 0.9932389977619824, 0.998588259584984, 0.9987206645405018, 0.9984838099217607, 0.9813532011526662, 0.018460847712394472, 0.9953964547179933, 0.9978123741066242, 0.999131141459103, 0.8153307466710107, 0.18410694279667983, 0.998912546733791, 0.9926198337208204, 0.6249748046817978, 0.3738688563721469, 0.9980515579486251, 0.9985793320085606, 0.9965327767470584, 0.9946271742826607, 0.9961557384452416, 0.9850002180359158, 0.9990104233262169, 0.9988257467898006, 0.9889092536924378, 0.8587981030555034, 0.06246271746258226, 0.001799337540074386, 0.07660036956316672, 0.9969573534116467, 0.9694915713544746, 0.9742814321468336, 0.9975134178262516, 0.9818236012783661, 0.22265160655220229, 0.24826919196516875, 0.5287975655614804, 0.9423676329854389, 0.9847808221973852, 0.014889803880982362, 0.9733236803942215, 0.9941893734752136, 0.998386650759361, 0.9990483961928243, 0.9976974968279989, 0.46327791773703414, 0.5348015260894183, 0.9885880563828329, 0.9463031522994372, 0.011965898659213116, 0.04088348708564481, 0.9920110677371622, 0.4693538506220358, 0.05634156090885069, 0.47388982374605343, 0.9962480436155898, 0.993027406997549, 0.9966949457676372, 0.9984315660603454, 0.9959749744927303, 0.9996294577505263, 0.9886401982491879, 0.6068089616299521, 0.3908627119395777, 0.9971209430178132, 0.9952422779341724, 0.754175792524496, 0.24436980986827245, 0.9991623077446184, 0.4317394548442083, 0.42673087648174646, 0.08063811163563518, 0.060603798185787934, 0.9919534477445169, 0.9915365740802545, 0.5837962581542757, 0.41548903904809625, 0.9980777530874051, 0.872184958655057, 0.07884157818350798, 0.044348387728223235, 0.9954012214447594, 0.974246092614098, 0.025057769871761778, 0.9855980837987924, 0.7242046742761195, 0.2755156789313847, 0.9934842223389645, 0.9833162661942115, 0.9616353163633896, 0.9881672260547439, 0.9937308465560352, 0.7228574072858299, 0.2756146259623346, 0.9770197126151885, 0.8069965729617945, 0.9992779492518152, 0.5437096791636552, 0.4558374077836705, 0.9984244368609546, 0.9939790762246445, 0.005745543793206038, 0.9995275744278138, 0.9926000268077164, 0.9747669075108222, 0.20959241848287205, 0.7892693521190671, 0.9871874248991065, 0.962646364978886, 0.9972246201417233, 0.9921813454139078, 0.9975540299654201, 0.06446463334583005, 0.9338162601810239, 0.9582640186756332, 0.9943279270451842, 0.9943209434608347, 0.998972253466856, 0.9356433078384765, 0.999192023643501, 0.9972736168156505, 0.9877260989673101, 0.016792331823680264, 0.9693755189124517, 0.0015265756203345694, 0.011907289838609642, 0.23523412850123485, 0.6519345847034224, 0.055111995820289306, 0.056456190840296364, 0.99059839705562, 0.9982783565906868, 0.1070683647023467, 0.5344569609935322, 0.13361424024838306, 0.22475507962310792, 0.9968501052085783, 0.29629402614556166, 0.2124372262930442, 0.3474067422461437, 0.03274408375193538, 0.11021179409188007, 0.9963246496856476, 0.9982063638961166, 0.9879478976367037, 0.9976509478159751, 0.9973308886053772, 0.3529956444249891, 0.646694102349298, 0.9920360033782075, 0.9934414073849155, 0.48829902134630326, 0.5098904746711398, 0.839801307047092, 0.1570063313174998, 0.9409772290726671, 0.9923180491399538, 0.9927136632697504, 0.9945078838700175, 0.9967943184808409, 0.9936187111031636, 0.9991239541948624, 0.07394413448265652, 0.3019129806262822, 0.4224940795959254, 0.1939115891827341, 0.007363731234787371, 0.9998114299311842, 0.7628426899501103, 0.2337743727266467, 0.9989927483653599, 0.9941841407223612, 0.9973310592247417, 0.9948852519970185, 0.42246924421896054, 0.5774041874031438, 0.9961750223974527, 0.5582908377142065, 0.4403820857287634, 0.9989566371634988, 0.9959697329050422, 0.9976231730113525, 0.9985228407131335, 0.9946393462572234, 0.9975286030850468, 0.9983390460258007, 0.9969769551645172, 0.9984256199943917, 0.9966703841891693, 0.9985883724272345, 0.7702465749469756, 0.203747797314812, 0.02572815322955665, 0.7899539963243078, 0.20705842634932298, 0.9992975456782779, 0.9991705888668284, 0.9846749461054691, 0.991677435567116, 0.9973348113981838, 0.0703592064635533, 0.9171825128284626, 0.011726534410592217, 0.9939148564777921, 0.09709459272135733, 0.9020400872177713, 0.9861424228477842, 0.9893179389086528, 0.9860528523024926, 0.9916317040465908, 0.9974380205186331, 0.05799162134416228, 0.938739370508627, 0.9220489964048167, 0.9867708084871117, 0.03823307875726976, 0.02704290936489812, 0.6033366330720373, 0.31518977121846775, 0.014920225856495514, 0.9984905921745757, 0.9984966296519202, 0.9926104803667579, 0.987316773114677, 0.9990431354615646, 0.9990249842141548, 0.9983894732865116, 0.14049350027667498, 0.8589122287656986, 0.9919950435360638, 0.9985488309419677, 0.9989405549482089, 0.9990113305264242, 0.5477649046666413, 0.4516146820389862, 0.9956746773501038, 0.566284932278546, 0.0777063371908811, 0.35453516343339503, 0.9701470073484673, 0.029263125477279942, 0.9845487766933699, 0.9432803103665194, 0.9991260331002642, 0.9940411358682425, 0.999074103752947, 0.9887669589355476, 0.9936234789142534, 0.9940623360669946, 0.8675005628789777, 0.13203337936802514, 0.9969267846265761, 0.9922600369639032, 0.9884457384575417, 0.10415881319426494, 0.8950596320252936, 0.7285594817835699, 0.2694672055911834, 0.9446769789843843, 0.054822980554969064, 0.9952707175165174, 0.9995305477749867, 0.9942240727762744, 0.9904600853271291, 0.928569683305213, 0.07098043443532596, 0.9974679783145755, 0.9835527715749482, 0.2541016521837586, 0.7423194333458115, 0.9988239556716354, 0.9955783397296195, 0.9785825476147894, 0.9987102582543077, 0.992032313335187, 0.2720618927138324, 0.3290169057679431, 0.3981765644765061, 0.8515703743123918, 0.09138271224985478, 0.0564315553734163, 0.9901438818346947, 0.685847452784058, 0.009363105157461544, 0.30430091761750017, 0.9998024286974193, 0.9789616553291793, 0.7952775938516295, 0.2044522670447526, 0.9991171780999001, 0.9980125324489025, 0.9847941375476186, 0.9951231189420654, 0.9994135099465059, 0.22733617388921573, 0.45393900528201464, 0.2618032712208065, 0.05646737222409552, 0.97745927785859, 0.8022651834633903, 0.19741296836228947, 0.2780612647198485, 0.7179790865154297, 0.9990162130697541, 0.9839421070835327, 0.7633619854215683, 0.12711254151916818, 0.8724103798948479, 0.992064467571916, 0.7128103708492959, 0.28695623715899626, 0.7526206716056818, 0.24728048323685403, 0.9910155341584792, 0.8279190193261244, 0.09909047193540187, 0.06797364690690677, 0.004682629009142466, 0.9764439372789686, 0.9844552010174832, 0.9973673184116565, 0.9948794672610088, 0.18441914429196943, 0.22906798975213044, 0.12618151977871592, 0.3960158466901238, 0.060178878663695284, 0.9909915877082215, 0.9975839737814287, 0.9981958521178177, 0.9930499730118982, 0.9974196794371295, 0.9940571963785141, 0.9933841965976922, 0.9993539401467254, 0.9957158325116621, 0.9988684338124704, 0.762786350755762, 0.11805847163157532, 0.11874752885899696, 0.9741472921809754, 0.9954277174114344, 0.9969603871552108, 0.9468804282492971, 0.9988436610707365, 0.9817175372426385, 0.998012290526297, 0.9977393639440794, 0.008113418759549367, 0.9912688684461196, 0.9940516242377986, 0.9959109947202625, 0.7201905260237794, 0.27613522759460973, 0.0049114469917008454, 0.07414700619729019, 0.2946868195020507, 0.0007921688696291687, 0.6251796719113399, 0.9934293418977581, 0.9415687029343872, 0.024342520758386433, 0.033105828231405544, 0.9975833749072168, 0.9994553257947574, 0.7945467099623811, 0.20219647457824033, 0.9593816108772172, 0.9243602276515174, 0.07477047174781162, 0.9947596567907524, 0.9982118938539508, 0.9983562411862125, 0.8614215695028296, 0.9965119064398659, 0.998191744576638, 0.9877607156234812, 0.991643977154777, 0.9874565985395455, 0.8379926497869902, 0.948329989394883, 0.020783037242929715, 0.030551064747106685, 0.14869102090259093, 0.8498712273157892, 0.9965178160437542, 0.9958922980513573, 0.9966735515857378, 0.5955293429206372, 0.38221544268804736, 0.018392996655175988, 0.0035888773961319, 0.9983293207959445, 0.9819012493815741, 0.01721261154294393, 0.997622676821162, 0.8899533662929121, 0.10983601672602397, 0.9556418741822811, 0.9987421045836519, 0.9934849934763953, 0.999276432912176, 0.9993186329347107, 0.997259732581715, 0.9976321384055491, 0.9969389194606707, 0.8773044935788626, 0.12027561605516665, 0.9985480905687844, 0.9598214550888504, 0.03972173064701789, 0.6337990420633025, 0.27792148897650903, 0.08120423344821301, 0.007105370426718638, 0.9837523052613755, 0.0006102681794425407, 0.014646436306620974, 0.9980579567804857, 0.03665176446329536, 0.11358268451202665, 0.8497163703614289, 0.6787387920381277, 0.006147996304693186, 0.038322510299254195, 0.22891039574474295, 0.007172662355475384, 0.03791264387894131, 0.002664131732033714, 0.9930953953414328, 0.9948257729317009], \"Term\": [\"abstract\", \"accept\", \"access_digex\", \"acquire\", \"act\", \"addition\", \"address\", \"advance\", \"advanced\", \"affiliate\", \"age\", \"age\", \"age\", \"aged\", \"agree\", \"air\", \"algorithm\", \"also\", \"also\", \"also\", \"also\", \"also\", \"amanda_walker\", \"amount\", \"amp\", \"amplifier\", \"analysis\", \"analysis\", \"animal\", \"announcement\", \"anyway\", \"application\", \"application\", \"application\", \"appreciate\", \"arab\", \"area\", \"area\", \"argument\", \"arm\", \"armenian\", \"army\", \"article\", \"article\", \"article\", \"assure\", \"astronomy\", \"atf\", \"atheism\", \"atheist\", \"atom\", \"attack\", \"attack\", \"attack\", \"au\", \"australian\", \"auto\", \"automate\", \"automatic\", \"automatic\", \"automatically\", \"available\", \"available\", \"ave\", \"average\", \"ax\", \"back\", \"backup\", \"bad\", \"band\", \"baseball\", \"bear\", \"bear\", \"bearing\", \"beautiful\", \"belief\", \"believe\", \"benefit\", \"bias\", \"big\", \"big\", \"bike\", \"bill\", \"birth\", \"bit\", \"black\", \"black_hole\", \"blank\", \"blind\", \"block\", \"block\", \"block\", \"board\", \"bogus\", \"bomb\", \"book\", \"book\", \"bounce\", \"box\", \"boy\", \"boy\", \"brain\", \"brave\", \"brick\", \"bus\", \"bus\", \"button\", \"button\", \"button\", \"buy\", \"buy\", \"buy\", \"buy\", \"cable\", \"cambridge\", \"camp\", \"capture\", \"car\", \"card\", \"carry\", \"carry\", \"carry\", \"carry\", \"carry\", \"case\", \"case\", \"case\", \"cause\", \"cause\", \"cause\", \"cause\", \"center\", \"center\", \"center\", \"center\", \"center\", \"certainly\", \"chamber\", \"channel\", \"character\", \"cheap\", \"cheap\", \"chief\", \"child\", \"child\", \"chip\", \"chip\", \"choice\", \"christian\", \"church\", \"circuit\", \"civilian\", \"claim\", \"clear\", \"clipper\", \"clock\", \"co\", \"code\", \"color\", \"colt\", \"com\", \"com\", \"combine\", \"combine\", \"come\", \"come\", \"communication\", \"community\", \"company\", \"company\", \"company\", \"company\", \"compare\", \"compare\", \"compression\", \"comprise\", \"computer\", \"computer\", \"computer_science\", \"concept\", \"concept\", \"conduct\", \"conduct\", \"conference\", \"conference\", \"connector\", \"consequence\", \"conservative\", \"constitution\", \"consult\", \"contain\", \"contemporary\", \"control\", \"control\", \"control\", \"control\", \"controller\", \"convert\", \"convince\", \"convincing\", \"cool\", \"cop\", \"copy\", \"corporation\", \"corporation\", \"correction\", \"cosmic\", \"country\", \"couple\", \"cover\", \"cover\", \"cpu\", \"crash\", \"crime\", \"crime\", \"criminal\", \"criticism\", \"crypto\", \"cs_dept\", \"cubic\", \"custom\", \"customer\", \"cycle\", \"cylinder\", \"d\", \"dangerous\", \"date\", \"datum\", \"datum\", \"daughter\", \"day\", \"day\", \"dealer\", \"dealer\", \"death\", \"death\", \"decent\", \"default\", \"default\", \"definitely\", \"delaware\", \"department\", \"department\", \"dept\", \"desert\", \"design\", \"design\", \"device\", \"diagnostic\", \"die\", \"difference\", \"difference\", \"difference\", \"digital\", \"digital_equipment\", \"direct\", \"disagree\", \"discussion\", \"disease\", \"disk\", \"display\", \"distant\", \"distribution\", \"distribution_usa\", \"distribution_world\", \"distribution_world\", \"division\", \"division\", \"do\", \"do\", \"dog\", \"door\", \"dram\", \"dream\", \"drive\", \"driver\", \"dual\", \"earth\", \"earth\", \"effect\", \"effect\", \"effect\", \"electrical\", \"element\", \"email\", \"email\", \"enable\", \"enclose\", \"encryption\", \"enemy\", \"engine\", \"entry\", \"environmental\", \"era\", \"eric_bosco\", \"error\", \"escape\", \"ethnic\", \"even\", \"even\", \"event\", \"event\", \"evidence\", \"exist\", \"exist\", \"expensive\", \"expensive\", \"expensive\", \"experiment\", \"explain\", \"explode\", \"export\", \"extended\", \"extension\", \"external\", \"fact\", \"factor\", \"factor\", \"factory\", \"faith\", \"false\", \"family\", \"fan\", \"faq\", \"fast\", \"father\", \"fax\", \"fax\", \"fax\", \"feature\", \"fi\", \"field\", \"file\", \"final\", \"final\", \"final\", \"find\", \"find\", \"find\", \"finger\", \"finland\", \"fire\", \"firearm\", \"first\", \"first\", \"first\", \"first\", \"first\", \"first\", \"first\", \"fish\", \"flag\", \"flight\", \"floppy\", \"floppy_burn\", \"focus\", \"focus\", \"follow\", \"follow\", \"force\", \"force\", \"forget\", \"format\", \"french\", \"friend\", \"ftp_site\", \"fuel\", \"fuel\", \"function\", \"game\", \"garage\", \"gas\", \"gateway\", \"gear\", \"generic\", \"genocide\", \"german\", \"get\", \"get\", \"giant\", \"gif\", \"girl\", \"give\", \"give\", \"give\", \"go\", \"goal\", \"god\", \"good\", \"good\", \"good\", \"government\", \"government\", \"government\", \"graphic\", \"ground\", \"ground\", \"group\", \"group\", \"guess\", \"gun\", \"guy\", \"handy\", \"happen\", \"happen\", \"happen\", \"hard\", \"hard\", \"hardware\", \"hatred\", \"head\", \"head\", \"head\", \"head\", \"headache\", \"health\", \"hear\", \"heat\", \"help\", \"help\", \"hence\", \"high\", \"high\", \"hire\", \"hit\", \"hit\", \"hitler\", \"hitter\", \"holocaust\", \"homosexual\", \"honor\", \"host\", \"host_slc\", \"however\", \"however\", \"however\", \"hr\", \"human\", \"human_being\", \"icon\", \"ide\", \"ie\", \"ill\", \"image\", \"implementation\", \"inability\", \"include\", \"include\", \"include\", \"increase\", \"increase\", \"industry\", \"industry\", \"infinity\", \"info\", \"information\", \"information\", \"informed\", \"inhabitant\", \"input\", \"ins_cwru\", \"insert\", \"insist\", \"instal\", \"instrument\", \"intention\", \"interactive\", \"interested\", \"interested\", \"interested\", \"internal\", \"international\", \"international\", \"internet\", \"invasion\", \"israeli\", \"issue\", \"issue\", \"jet_propulsion\", \"jewish\", \"jewish\", \"jim_frost\", \"job\", \"joke\", \"joke\", \"joy\", \"key\", \"keyword\", \"keyword\", \"kill\", \"kill\", \"kinda\", \"km\", \"know\", \"know\", \"know\", \"lab\", \"lab\", \"land\", \"land\", \"land\", \"large\", \"last\", \"last\", \"last\", \"launch\", \"law\", \"lead\", \"lead\", \"lead\", \"less\", \"less\", \"less\", \"less\", \"let\", \"let\", \"lie\", \"lie\", \"life\", \"life\", \"light\", \"light\", \"limit\", \"line\", \"line\", \"line\", \"list\", \"little\", \"little\", \"loaded\", \"local\", \"login\", \"look\", \"look\", \"lose\", \"lose\", \"lot\", \"lot\", \"lot\", \"lot\", \"louisiana_tech\", \"low\", \"low\", \"lunar\", \"luxury\", \"m\", \"machine\", \"macintosh\", \"mail\", \"make\", \"make\", \"make\", \"make\", \"man\", \"man\", \"man\", \"manual\", \"manual\", \"manual\", \"many\", \"many\", \"many\", \"many\", \"map\", \"mar\", \"mario\", \"mass\", \"massacre\", \"master\", \"mathew\", \"matter\", \"maybe\", \"mean\", \"mean\", \"medical\", \"medicine\", \"memory\", \"message\", \"met\", \"mile\", \"military\", \"military\", \"military\", \"militia\", \"mind\", \"minor\", \"minor\", \"miss\", \"mission\", \"mit\", \"mode\", \"model\", \"model\", \"model\", \"money\", \"monitor\", \"month\", \"moon\", \"moral\", \"morality\", \"moslem\", \"mother\", \"motherboard\", \"motif\", \"mount\", \"mozumder\", \"ms_do\", \"much\", \"much\", \"much\", \"murder\", \"murder\", \"mystery\", \"nature\", \"need\", \"need\", \"need\", \"net\", \"net\", \"net\", \"net\", \"network\", \"new\", \"new\", \"new\", \"new\", \"new\", \"new\", \"news\", \"news\", \"news\", \"nhl\", \"nice\", \"nntp_poste\", \"noise\", \"normal\", \"north\", \"notice\", \"ns\", \"nuclear\", \"number\", \"number\", \"number\", \"number\", \"number\", \"object\", \"objective\", \"objective\", \"observer\", \"occupation\", \"occupy\", \"offense\", \"offer\", \"offer\", \"office\", \"oil\", \"okay\", \"old\", \"old\", \"old\", \"old\", \"online_communication\", \"opinion\", \"opinion\", \"opinion\", \"opinions_expressed\", \"option\", \"oracle\", \"oracle_corporation\", \"orbit\", \"organisation\", \"organization\", \"organization\", \"origin\", \"originator\", \"ozone\", \"pack\", \"package\", \"page\", \"page\", \"panel\", \"paper\", \"parent\", \"parity\", \"park\", \"partly\", \"past\", \"pat\", \"patient\", \"pay\", \"peace\", \"people\", \"people\", \"percent\", \"period\", \"person\", \"phone\", \"phone\", \"physical\", \"physician\", \"pick\", \"pick\", \"picture\", \"pin\", \"pitch\", \"plane\", \"planet\", \"planetary\", \"play\", \"player\", \"please_respond\", \"point\", \"point\", \"point\", \"point\", \"police\", \"political_atheist\", \"porsche\", \"port\", \"positively\", \"post\", \"post\", \"post\", \"pov\", \"power\", \"power\", \"powerbook\", \"predict\", \"pretty\", \"price\", \"printer\", \"private\", \"private\", \"probability\", \"probably\", \"probably\", \"probably\", \"probe\", \"problem\", \"problem\", \"problem\", \"procedure\", \"proceed\", \"processor\", \"product\", \"production\", \"program\", \"programmer\", \"project\", \"project\", \"proof\", \"proposal\", \"protect\", \"protect\", \"prove\", \"provide\", \"provide\", \"provide\", \"provide\", \"pt\", \"pub\", \"public\", \"public\", \"publish\", \"pull\", \"pull\", \"pull\", \"purchase\", \"put\", \"put\", \"qualified\", \"question\", \"question\", \"quick\", \"quit\", \"radar\", \"radiation\", \"radius\", \"rate\", \"rate\", \"ratio\", \"rayshade\", \"re\", \"read\", \"read\", \"reality\", \"really\", \"really\", \"reason\", \"rebel\", \"reboot\", \"receive\", \"receive\", \"receiver\", \"recognition\", \"recommend\", \"recover\", \"reduce\", \"reference\", \"reference\", \"refresh\", \"register\", \"registration\", \"religion\", \"reload\", \"remember\", \"replace\", \"replacement\", \"reply\", \"reply\", \"reply\", \"reply\", \"report\", \"report\", \"report\", \"report\", \"reproduce\", \"request\", \"research\", \"research\", \"research\", \"research\", \"respect\", \"result\", \"result\", \"result\", \"result\", \"result\", \"resurrection\", \"review\", \"revolver\", \"ride\", \"rider\", \"right\", \"right\", \"ring\", \"rise\", \"risk\", \"risk\", \"road\", \"road\", \"robotic\", \"rock\", \"rocket\", \"roman\", \"route\", \"row\", \"rule\", \"run\", \"run\", \"run\", \"run\", \"run\", \"s\", \"safety\", \"safety\", \"sale\", \"san_jose\", \"satellite\", \"saturn\", \"say\", \"say\", \"sc\", \"school\", \"school\", \"science\", \"scientific\", \"score\", \"screen\", \"screw\", \"scsi\", \"season\", \"secret\", \"section\", \"secure\", \"security\", \"see\", \"see\", \"see\", \"self\", \"self\", \"send\", \"sense\", \"sensor\", \"serial\", \"server\", \"service\", \"service\", \"service\", \"session\", \"set\", \"set\", \"severe\", \"shareware\", \"sharp\", \"shuttle\", \"sign\", \"signal\", \"signal\", \"signing\", \"silver\", \"single\", \"single\", \"single\", \"single\", \"single\", \"situation\", \"size\", \"sky\", \"slaughter\", \"slow\", \"small\", \"society\", \"software\", \"software\", \"solar\", \"soldier\", \"solution\", \"soon\", \"sorry\", \"sorry\", \"soul\", \"sound\", \"sound\", \"sound\", \"source\", \"source\", \"soviet\", \"soviet_union\", \"space\", \"spacecraft\", \"speak\", \"speaker\", \"specifically\", \"specify\", \"speed\", \"speed\", \"sport\", \"stable\", \"staff\", \"standard\", \"standard\", \"star\", \"star\", \"start\", \"start\", \"stat\", \"state\", \"step\", \"stereo\", \"still\", \"still\", \"straight\", \"stream\", \"student\", \"student\", \"study\", \"stupid\", \"summarize\", \"sun\", \"super\", \"support\", \"support\", \"support\", \"sure\", \"sure\", \"sure\", \"suspension\", \"switch\", \"switch\", \"switch\", \"system\", \"tail\", \"take\", \"take\", \"talk\", \"tape\", \"tar\", \"teaching\", \"team\", \"technology\", \"technology\", \"technology\", \"technology\", \"television\", \"tell\", \"tell\", \"terrorism\", \"terrorism\", \"test\", \"testing\", \"tga\", \"thank\", \"thank\", \"thermal\", \"thing\", \"thing\", \"think\", \"think\", \"throat\", \"time\", \"time\", \"time\", \"time\", \"timing\", \"tip\", \"tool\", \"topic\", \"total\", \"total\", \"total\", \"total\", \"total\", \"trace\", \"trade\", \"transfer\", \"translate\", \"treatment\", \"trial\", \"troop\", \"true\", \"trust\", \"truth\", \"try\", \"try\", \"try\", \"turbo\", \"turk\", \"turkish\", \"turning\", \"understand\", \"unique\", \"unit\", \"universe\", \"university\", \"university\", \"up\", \"upgrade\", \"usa\", \"usa\", \"use\", \"use\", \"use\", \"use\", \"use\", \"usenet\", \"user\", \"user\", \"user\", \"various\", \"ve\", \"vehicle\", \"vehicle\", \"verification\", \"version\", \"version\", \"version_pl\", \"video\", \"village\", \"viola\", \"violence\", \"visit\", \"vol\", \"volt\", \"voltage\", \"volvos\", \"want\", \"want\", \"want\", \"war\", \"war\", \"warranty\", \"waste\", \"wave\", \"way\", \"way\", \"way\", \"way\", \"weapon\", \"week\", \"week\", \"weight\", \"well\", \"well\", \"western_digital\", \"white\", \"widget\", \"win\", \"window\", \"wing\", \"wire\", \"withdraw\", \"woman\", \"woman\", \"wonder\", \"word\", \"word\", \"work\", \"work\", \"work\", \"work\", \"world\", \"world\", \"world\", \"worth\", \"write\", \"write\", \"write\", \"year\", \"year\", \"year\", \"year\", \"year\", \"year\", \"year\", \"yesterday\", \"zone\"]}, \"R\": 30, \"lambda.step\": 0.01, \"plot.opts\": {\"xlab\": \"PC1\", \"ylab\": \"PC2\"}, \"topic.order\": [7, 2, 18, 13, 6, 12, 1, 20, 11, 8, 4, 19, 16, 14, 10, 17, 5, 9, 3, 15]};\n",
       "\n",
       "function LDAvis_load_lib(url, callback){\n",
       "  var s = document.createElement('script');\n",
       "  s.src = url;\n",
       "  s.async = true;\n",
       "  s.onreadystatechange = s.onload = callback;\n",
       "  s.onerror = function(){console.warn(\"failed to load library \" + url);};\n",
       "  document.getElementsByTagName(\"head\")[0].appendChild(s);\n",
       "}\n",
       "\n",
       "if(typeof(LDAvis) !== \"undefined\"){\n",
       "   // already loaded: just create the visualization\n",
       "   !function(LDAvis){\n",
       "       new LDAvis(\"#\" + \"ldavis_el1856016313721221845280131887\", ldavis_el1856016313721221845280131887_data);\n",
       "   }(LDAvis);\n",
       "}else if(typeof define === \"function\" && define.amd){\n",
       "   // require.js is available: use it to load d3/LDAvis\n",
       "   require.config({paths: {d3: \"https://d3js.org/d3.v5\"}});\n",
       "   require([\"d3\"], function(d3){\n",
       "      window.d3 = d3;\n",
       "      LDAvis_load_lib(\"https://cdn.jsdelivr.net/gh/bmabey/pyLDAvis@3.3.1/pyLDAvis/js/ldavis.v3.0.0.js\", function(){\n",
       "        new LDAvis(\"#\" + \"ldavis_el1856016313721221845280131887\", ldavis_el1856016313721221845280131887_data);\n",
       "      });\n",
       "    });\n",
       "}else{\n",
       "    // require.js not available: dynamically load d3 & LDAvis\n",
       "    LDAvis_load_lib(\"https://d3js.org/d3.v5.js\", function(){\n",
       "         LDAvis_load_lib(\"https://cdn.jsdelivr.net/gh/bmabey/pyLDAvis@3.3.1/pyLDAvis/js/ldavis.v3.0.0.js\", function(){\n",
       "                 new LDAvis(\"#\" + \"ldavis_el1856016313721221845280131887\", ldavis_el1856016313721221845280131887_data);\n",
       "            })\n",
       "         });\n",
       "}\n",
       "</script>"
      ],
      "text/plain": [
       "PreparedData(topic_coordinates=              x         y  topics  cluster       Freq\n",
       "topic                                                \n",
       "6     -0.326515  0.132882       1        1  24.193776\n",
       "1     -0.332945  0.124591       2        1  21.295185\n",
       "17    -0.286668  0.062875       3        1  12.340400\n",
       "12    -0.136495 -0.080377       4        1   6.991035\n",
       "5     -0.163866 -0.051004       5        1   6.579537\n",
       "11    -0.089316 -0.383041       6        1   6.538843\n",
       "0      0.061846 -0.062373       7        1   4.526622\n",
       "19     0.017177 -0.126246       8        1   3.108498\n",
       "10     0.007713  0.036617       9        1   2.083965\n",
       "7      0.056953  0.006776      10        1   2.043399\n",
       "3      0.064969  0.027138      11        1   1.735306\n",
       "18     0.037966  0.014534      12        1   1.562708\n",
       "15     0.067758  0.001429      13        1   1.386049\n",
       "13     0.067527  0.009206      14        1   1.382041\n",
       "9      0.100874 -0.001706      15        1   1.203229\n",
       "16     0.116708  0.027424      16        1   1.187226\n",
       "4      0.161149  0.049704      17        1   0.729342\n",
       "8      0.178745  0.066654      18        1   0.490337\n",
       "2      0.196549  0.072096      19        1   0.334730\n",
       "14     0.199870  0.072821      20        1   0.287771, topic_info=               Term          Freq         Total Category  logprob  loglift\n",
       "4435             ax  41584.000000  41584.000000  Default  30.0000  30.0000\n",
       "18             line  16919.000000  16919.000000  Default  29.0000  29.0000\n",
       "207           write  13232.000000  13232.000000  Default  28.0000  28.0000\n",
       "143    organization  10186.000000  10186.000000  Default  27.0000  27.0000\n",
       "45          article   9135.000000   9135.000000  Default  26.0000  26.0000\n",
       "...             ...           ...           ...      ...      ...      ...\n",
       "1937            usa     73.727097    267.984642  Topic20  -3.9291   4.5602\n",
       "5309           vram      0.040030      1.329124  Topic20 -11.4476   2.3481\n",
       "14611    vram_simms      0.040029      1.329111  Topic20 -11.4476   2.3481\n",
       "14337      protocol      0.040029      1.329137  Topic20 -11.4476   2.3481\n",
       "7126        encrypt      0.040029      1.329187  Topic20 -11.4476   2.3480\n",
       "\n",
       "[845 rows x 6 columns], token_table=      Topic      Freq          Term\n",
       "term                               \n",
       "3348     19  0.957521      abstract\n",
       "1391      8  0.998933        accept\n",
       "3181     13  0.987403  access_digex\n",
       "1472     16  0.992814       acquire\n",
       "1554      2  0.998919           act\n",
       "...     ...       ...           ...\n",
       "40       12  0.007173          year\n",
       "40       14  0.037913          year\n",
       "40       15  0.002664          year\n",
       "812       9  0.993095     yesterday\n",
       "2247     14  0.994826          zone\n",
       "\n",
       "[1117 rows x 3 columns], R=30, lambda_step=0.01, plot_opts={'xlab': 'PC1', 'ylab': 'PC2'}, topic_order=[7, 2, 18, 13, 6, 12, 1, 20, 11, 8, 4, 19, 16, 14, 10, 17, 5, 9, 3, 15])"
      ]
     },
     "execution_count": 55,
     "metadata": {},
     "output_type": "execute_result"
    }
   ],
   "source": [
    "# Visualize the topics\n",
    "pyLDAvis.enable_notebook()\n",
    "vis = pyLDAvis.gensim_models.prepare(lda_model, corpus, id2word)\n",
    "vis"
   ]
  },
  {
   "cell_type": "markdown",
   "id": "bdb82b76",
   "metadata": {},
   "source": [
    "Each bubble on the left-hand side plot represents a topic. The larger the bubble, the more prevalent is that topic.\n",
    "\n",
    "A good topic model will have fairly big, non-overlapping bubbles scattered throughout the chart instead of being clustered in one quadrant.\n",
    "\n",
    "A model with too many topics, will typically have many overlaps, small sized bubbles clustered in one region of the chart."
   ]
  },
  {
   "cell_type": "markdown",
   "id": "59b3a457",
   "metadata": {},
   "source": [
    "#### finding the optimal number of topics for LDA"
   ]
  },
  {
   "cell_type": "code",
   "execution_count": 75,
   "id": "5523315d",
   "metadata": {},
   "outputs": [],
   "source": [
    "def compute_coherence_values(dictionary, corpus, texts, limit, start=2, step=3):\n",
    "    \"\"\"\n",
    "    Compute c_v coherence for various number of topics\n",
    "\n",
    "    Parameters:\n",
    "    ----------\n",
    "    dictionary : Gensim dictionary\n",
    "    corpus : Gensim corpus\n",
    "    texts : List of input texts\n",
    "    limit : Max num of topics\n",
    "\n",
    "    Returns:\n",
    "    -------\n",
    "    model_list : List of LDA topic models\n",
    "    coherence_values : Coherence values corresponding to the LDA model with respective number of topics\n",
    "    \"\"\"\n",
    "    coherence_values = []\n",
    "    model_list = []\n",
    "    for num_topics in range(start, limit, step):\n",
    "        model = LdaModel(corpus=corpus, num_topics=num_topics, id2word=id2word, random_state=100,alpha='auto', per_word_topics=True)\n",
    "        model_list.append(model)\n",
    "        coherencemodel = CoherenceModel(model=model, texts=texts, dictionary=dictionary, coherence='c_v')\n",
    "        coherence_values.append(coherencemodel.get_coherence())\n",
    "\n",
    "    return model_list, coherence_values\n",
    "\n",
    "# Can take a long time to run.\n",
    "model_list, coherence_values = compute_coherence_values(dictionary=id2word, corpus=corpus, texts=data_lemmatized, start=2, limit=40, step=6)"
   ]
  },
  {
   "cell_type": "code",
   "execution_count": 76,
   "id": "1179f20e",
   "metadata": {},
   "outputs": [
    {
     "data": {
      "image/png": "[encoded data removed]",
      "text/plain": [
       "<Figure size 432x288 with 1 Axes>"
      ]
     },
     "metadata": {
      "needs_background": "light"
     },
     "output_type": "display_data"
    }
   ],
   "source": [
    "# Show graph\n",
    "limit=40; start=2; step=6;\n",
    "x = range(start, limit, step)\n",
    "plt.plot(x, coherence_values)\n",
    "plt.xlabel(\"Num Topics\")\n",
    "plt.ylabel(\"Coherence score\")\n",
    "plt.legend((\"coherence_values\"), loc='best')\n",
    "plt.show()"
   ]
  },
  {
   "cell_type": "markdown",
   "id": "d1a7ea4e",
   "metadata": {},
   "source": [
    "From the plot it clear that at topic 20 we are getting highest coherence."
   ]
  },
  {
   "cell_type": "code",
   "execution_count": 77,
   "id": "6b6b3b27",
   "metadata": {},
   "outputs": [
    {
     "name": "stdout",
     "output_type": "stream",
     "text": [
      "Num Topics = 2  has Coherence Value of 0.5351\n",
      "Num Topics = 8  has Coherence Value of 0.4731\n",
      "Num Topics = 14  has Coherence Value of 0.507\n",
      "Num Topics = 20  has Coherence Value of 0.5284\n",
      "Num Topics = 26  has Coherence Value of 0.4858\n",
      "Num Topics = 32  has Coherence Value of 0.4703\n",
      "Num Topics = 38  has Coherence Value of 0.4729\n"
     ]
    }
   ],
   "source": [
    "# Print the coherence scores\n",
    "for m, cv in zip(x, coherence_values):\n",
    "    print(\"Num Topics =\", m, \" has Coherence Value of\", round(cv, 4))"
   ]
  },
  {
   "cell_type": "code",
   "execution_count": 78,
   "id": "5420d8ae",
   "metadata": {},
   "outputs": [
    {
     "name": "stdout",
     "output_type": "stream",
     "text": [
      "[(0,\n",
      "  '0.011*\"people\" + 0.008*\"write\" + 0.006*\"line\" + 0.006*\"article\" + '\n",
      "  '0.005*\"say\" + 0.005*\"time\" + 0.005*\"know\" + 0.004*\"state\" + '\n",
      "  '0.004*\"organization\" + 0.004*\"many\"'),\n",
      " (1,\n",
      "  '0.010*\"right\" + 0.008*\"write\" + 0.008*\"state\" + 0.007*\"line\" + '\n",
      "  '0.007*\"people\" + 0.007*\"get\" + 0.006*\"law\" + 0.005*\"government\" + '\n",
      "  '0.005*\"article\" + 0.005*\"make\"'),\n",
      " (2,\n",
      "  '0.011*\"file\" + 0.011*\"image\" + 0.011*\"line\" + 0.010*\"system\" + '\n",
      "  '0.009*\"program\" + 0.009*\"software\" + 0.009*\"include\" + 0.009*\"available\" + '\n",
      "  '0.008*\"use\" + 0.007*\"version\"'),\n",
      " (3,\n",
      "  '0.022*\"write\" + 0.019*\"line\" + 0.015*\"article\" + 0.012*\"get\" + '\n",
      "  '0.011*\"organization\" + 0.011*\"nntp_poste\" + 0.010*\"host\" + 0.009*\"know\" + '\n",
      "  '0.008*\"go\" + 0.007*\"see\"'),\n",
      " (4,\n",
      "  '0.021*\"say\" + 0.016*\"go\" + 0.011*\"know\" + 0.009*\"come\" + 0.009*\"people\" + '\n",
      "  '0.008*\"get\" + 0.008*\"tell\" + 0.007*\"see\" + 0.006*\"take\" + 0.005*\"think\"'),\n",
      " (5,\n",
      "  '0.057*\"drive\" + 0.036*\"scsi\" + 0.020*\"ide\" + 0.012*\"controller\" + '\n",
      "  '0.012*\"chip\" + 0.008*\"bit\" + 0.008*\"msg\" + 0.008*\"interface\" + 0.008*\"food\" '\n",
      "  '+ 0.007*\"use\"'),\n",
      " (6,\n",
      "  '0.018*\"line\" + 0.013*\"team\" + 0.012*\"game\" + 0.012*\"get\" + 0.011*\"year\" + '\n",
      "  '0.009*\"organization\" + 0.008*\"good\" + 0.008*\"write\" + 0.008*\"go\" + '\n",
      "  '0.008*\"article\"'),\n",
      " (7,\n",
      "  '0.840*\"ax\" + 0.003*\"rlk\" + 0.002*\"max\" + 0.002*\"yx\" + 0.002*\"qax\" + '\n",
      "  '0.002*\"ei\" + 0.001*\"xputimage\" + 0.001*\"lk\" + 0.001*\"line\" + 0.001*\"cj\"'),\n",
      " (8,\n",
      "  '0.016*\"say\" + 0.012*\"people\" + 0.010*\"believe\" + 0.009*\"think\" + '\n",
      "  '0.008*\"write\" + 0.008*\"know\" + 0.007*\"line\" + 0.006*\"christian\" + '\n",
      "  '0.006*\"make\" + 0.006*\"life\"'),\n",
      " (9,\n",
      "  '0.009*\"line\" + 0.008*\"write\" + 0.007*\"time\" + 0.006*\"article\" + '\n",
      "  '0.006*\"science\" + 0.006*\"exist\" + 0.005*\"organization\" + 0.005*\"point\" + '\n",
      "  '0.005*\"get\" + 0.005*\"question\"'),\n",
      " (10,\n",
      "  '0.010*\"think\" + 0.009*\"make\" + 0.008*\"go\" + 0.008*\"write\" + 0.008*\"say\" + '\n",
      "  '0.008*\"get\" + 0.007*\"people\" + 0.007*\"line\" + 0.006*\"good\" + 0.006*\"thing\"'),\n",
      " (11,\n",
      "  '0.016*\"law\" + 0.015*\"say\" + 0.010*\"word\" + 0.008*\"revelation\" + '\n",
      "  '0.008*\"scripture\" + 0.008*\"write\" + 0.007*\"line\" + 0.007*\"come\" + '\n",
      "  '0.006*\"sin\" + 0.006*\"authority\"'),\n",
      " (12,\n",
      "  '0.013*\"line\" + 0.011*\"write\" + 0.008*\"organization\" + 0.008*\"make\" + '\n",
      "  '0.007*\"time\" + 0.007*\"article\" + 0.006*\"say\" + 0.006*\"get\" + 0.006*\"go\" + '\n",
      "  '0.006*\"good\"'),\n",
      " (13,\n",
      "  '0.026*\"space\" + 0.011*\"earth\" + 0.010*\"launch\" + 0.009*\"orbit\" + '\n",
      "  '0.009*\"mission\" + 0.009*\"satellite\" + 0.008*\"moon\" + 0.006*\"line\" + '\n",
      "  '0.006*\"organization\" + 0.006*\"year\"'),\n",
      " (14,\n",
      "  '0.012*\"objective\" + 0.011*\"write\" + 0.010*\"value\" + 0.009*\"line\" + '\n",
      "  '0.009*\"think\" + 0.008*\"organization\" + 0.008*\"say\" + 0.008*\"system\" + '\n",
      "  '0.006*\"schneider\" + 0.006*\"morality\"'),\n",
      " (15,\n",
      "  '0.035*\"key\" + 0.013*\"encryption\" + 0.010*\"chip\" + 0.008*\"clipper\" + '\n",
      "  '0.008*\"technology\" + 0.008*\"government\" + 0.008*\"use\" + 0.007*\"system\" + '\n",
      "  '0.007*\"secure\" + 0.006*\"line\"'),\n",
      " (16,\n",
      "  '0.013*\"line\" + 0.011*\"file\" + 0.010*\"use\" + 0.007*\"window\" + 0.007*\"entry\" '\n",
      "  '+ 0.007*\"ripem\" + 0.006*\"program\" + 0.006*\"organization\" + 0.005*\"need\" + '\n",
      "  '0.005*\"copy\"'),\n",
      " (17,\n",
      "  '0.017*\"line\" + 0.010*\"organization\" + 0.010*\"write\" + 0.010*\"get\" + '\n",
      "  '0.010*\"problem\" + 0.009*\"use\" + 0.009*\"know\" + 0.008*\"nntp_poste\" + '\n",
      "  '0.008*\"host\" + 0.008*\"run\"'),\n",
      " (18,\n",
      "  '0.013*\"line\" + 0.012*\"gordon_bank\" + 0.012*\"write\" + 0.010*\"printer\" + '\n",
      "  '0.009*\"article\" + 0.007*\"reply\" + 0.007*\"new\" + 0.007*\"sc\" + 0.006*\"get\" + '\n",
      "  '0.006*\"marriage\"'),\n",
      " (19,\n",
      "  '0.016*\"gun\" + 0.012*\"article\" + 0.011*\"write\" + 0.011*\"line\" + '\n",
      "  '0.007*\"organization\" + 0.006*\"weapon\" + 0.006*\"fire\" + 0.005*\"get\" + '\n",
      "  '0.005*\"nntp_poste\" + 0.005*\"well\"')]\n"
     ]
    }
   ],
   "source": [
    "# Select the model and print the topics : Num Topics = 20  has Coherence Value of 0.5284\n",
    "optimal_model = model_list[3]\n",
    "model_topics = optimal_model.show_topics(formatted=False)\n",
    "pprint(optimal_model.print_topics(num_words=10))"
   ]
  },
  {
   "cell_type": "code",
   "execution_count": null,
   "id": "8af8b4f8",
   "metadata": {},
   "outputs": [],
   "source": []
  }
 ],
 "metadata": {
  "kernelspec": {
   "display_name": "Python 3 (ipykernel)",
   "language": "python",
   "name": "python3"
  },
  "language_info": {
   "codemirror_mode": {
    "name": "ipython",
    "version": 3
   },
   "file_extension": ".py",
   "mimetype": "text/x-python",
   "name": "python",
   "nbconvert_exporter": "python",
   "pygments_lexer": "ipython3",
   "version": "3.7.9"
  }
 },
 "nbformat": 4,
 "nbformat_minor": 5
}
