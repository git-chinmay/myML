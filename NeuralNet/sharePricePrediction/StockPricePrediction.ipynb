{
 "cells": [
  {
   "cell_type": "markdown",
   "id": "98f80818",
   "metadata": {},
   "source": [
    "# Stock Price Prediction using Neural Net\n",
    "Warning: This is a sample code demonostrating stock price prediction and its not for using in your portfolio.DO NOT use it for your real life stock transctions.Strictly for learning peuposes."
   ]
  },
  {
   "cell_type": "code",
   "execution_count": 67,
   "id": "2cc2569c",
   "metadata": {},
   "outputs": [],
   "source": [
    "#Importing Modules\n",
    "import numpy as np\n",
    "import matplotlib.pyplot as plt\n",
    "import pandas as pd\n",
    "import pandas_datareader as web\n",
    "import datetime as dt\n",
    "from sklearn.preprocessing import MinMaxScaler\n",
    "from tensorflow.keras.models import Sequential\n",
    "from tensorflow.keras.layers import Dense,Dropout,LSTM"
   ]
  },
  {
   "cell_type": "markdown",
   "id": "8f8b33d8",
   "metadata": {},
   "source": [
    "### Load the Train Data"
   ]
  },
  {
   "cell_type": "code",
   "execution_count": 68,
   "id": "0e858ca2",
   "metadata": {},
   "outputs": [],
   "source": [
    "#Ticker symbol of the company\n",
    "company = 'FB'\n",
    "#Date from which we are collecting the data (year, month, date)\n",
    "start = dt.datetime(2012,1,1)\n",
    "end = dt.datetime(2021,1,1)\n",
    "data = web.DataReader(company,'yahoo',start,end)"
   ]
  },
  {
   "cell_type": "code",
   "execution_count": 69,
   "id": "ae5dcf9c",
   "metadata": {},
   "outputs": [
    {
     "data": {
      "text/html": [
       "<div>\n",
       "<style scoped>\n",
       "    .dataframe tbody tr th:only-of-type {\n",
       "        vertical-align: middle;\n",
       "    }\n",
       "\n",
       "    .dataframe tbody tr th {\n",
       "        vertical-align: top;\n",
       "    }\n",
       "\n",
       "    .dataframe thead th {\n",
       "        text-align: right;\n",
       "    }\n",
       "</style>\n",
       "<table border=\"1\" class=\"dataframe\">\n",
       "  <thead>\n",
       "    <tr style=\"text-align: right;\">\n",
       "      <th></th>\n",
       "      <th>High</th>\n",
       "      <th>Low</th>\n",
       "      <th>Open</th>\n",
       "      <th>Close</th>\n",
       "      <th>Volume</th>\n",
       "      <th>Adj Close</th>\n",
       "    </tr>\n",
       "    <tr>\n",
       "      <th>Date</th>\n",
       "      <th></th>\n",
       "      <th></th>\n",
       "      <th></th>\n",
       "      <th></th>\n",
       "      <th></th>\n",
       "      <th></th>\n",
       "    </tr>\n",
       "  </thead>\n",
       "  <tbody>\n",
       "    <tr>\n",
       "      <th>2012-05-18</th>\n",
       "      <td>45.000000</td>\n",
       "      <td>38.000000</td>\n",
       "      <td>42.049999</td>\n",
       "      <td>38.230000</td>\n",
       "      <td>573576400</td>\n",
       "      <td>38.230000</td>\n",
       "    </tr>\n",
       "    <tr>\n",
       "      <th>2012-05-21</th>\n",
       "      <td>36.660000</td>\n",
       "      <td>33.000000</td>\n",
       "      <td>36.529999</td>\n",
       "      <td>34.029999</td>\n",
       "      <td>168192700</td>\n",
       "      <td>34.029999</td>\n",
       "    </tr>\n",
       "    <tr>\n",
       "      <th>2012-05-22</th>\n",
       "      <td>33.590000</td>\n",
       "      <td>30.940001</td>\n",
       "      <td>32.610001</td>\n",
       "      <td>31.000000</td>\n",
       "      <td>101786600</td>\n",
       "      <td>31.000000</td>\n",
       "    </tr>\n",
       "    <tr>\n",
       "      <th>2012-05-23</th>\n",
       "      <td>32.500000</td>\n",
       "      <td>31.360001</td>\n",
       "      <td>31.370001</td>\n",
       "      <td>32.000000</td>\n",
       "      <td>73600000</td>\n",
       "      <td>32.000000</td>\n",
       "    </tr>\n",
       "    <tr>\n",
       "      <th>2012-05-24</th>\n",
       "      <td>33.209999</td>\n",
       "      <td>31.770000</td>\n",
       "      <td>32.950001</td>\n",
       "      <td>33.029999</td>\n",
       "      <td>50237200</td>\n",
       "      <td>33.029999</td>\n",
       "    </tr>\n",
       "    <tr>\n",
       "      <th>...</th>\n",
       "      <td>...</td>\n",
       "      <td>...</td>\n",
       "      <td>...</td>\n",
       "      <td>...</td>\n",
       "      <td>...</td>\n",
       "      <td>...</td>\n",
       "    </tr>\n",
       "    <tr>\n",
       "      <th>2020-12-24</th>\n",
       "      <td>270.399994</td>\n",
       "      <td>266.200012</td>\n",
       "      <td>268.880005</td>\n",
       "      <td>267.399994</td>\n",
       "      <td>6702000</td>\n",
       "      <td>267.399994</td>\n",
       "    </tr>\n",
       "    <tr>\n",
       "      <th>2020-12-28</th>\n",
       "      <td>277.299988</td>\n",
       "      <td>265.660004</td>\n",
       "      <td>268.739990</td>\n",
       "      <td>277.000000</td>\n",
       "      <td>23299700</td>\n",
       "      <td>277.000000</td>\n",
       "    </tr>\n",
       "    <tr>\n",
       "      <th>2020-12-29</th>\n",
       "      <td>280.510010</td>\n",
       "      <td>276.279999</td>\n",
       "      <td>276.950012</td>\n",
       "      <td>276.779999</td>\n",
       "      <td>16383000</td>\n",
       "      <td>276.779999</td>\n",
       "    </tr>\n",
       "    <tr>\n",
       "      <th>2020-12-30</th>\n",
       "      <td>278.079987</td>\n",
       "      <td>271.709991</td>\n",
       "      <td>277.950012</td>\n",
       "      <td>271.869995</td>\n",
       "      <td>11803800</td>\n",
       "      <td>271.869995</td>\n",
       "    </tr>\n",
       "    <tr>\n",
       "      <th>2020-12-31</th>\n",
       "      <td>277.089996</td>\n",
       "      <td>269.809998</td>\n",
       "      <td>272.000000</td>\n",
       "      <td>273.160004</td>\n",
       "      <td>12900400</td>\n",
       "      <td>273.160004</td>\n",
       "    </tr>\n",
       "  </tbody>\n",
       "</table>\n",
       "<p>2170 rows × 6 columns</p>\n",
       "</div>"
      ],
      "text/plain": [
       "                  High         Low        Open       Close     Volume  \\\n",
       "Date                                                                    \n",
       "2012-05-18   45.000000   38.000000   42.049999   38.230000  573576400   \n",
       "2012-05-21   36.660000   33.000000   36.529999   34.029999  168192700   \n",
       "2012-05-22   33.590000   30.940001   32.610001   31.000000  101786600   \n",
       "2012-05-23   32.500000   31.360001   31.370001   32.000000   73600000   \n",
       "2012-05-24   33.209999   31.770000   32.950001   33.029999   50237200   \n",
       "...                ...         ...         ...         ...        ...   \n",
       "2020-12-24  270.399994  266.200012  268.880005  267.399994    6702000   \n",
       "2020-12-28  277.299988  265.660004  268.739990  277.000000   23299700   \n",
       "2020-12-29  280.510010  276.279999  276.950012  276.779999   16383000   \n",
       "2020-12-30  278.079987  271.709991  277.950012  271.869995   11803800   \n",
       "2020-12-31  277.089996  269.809998  272.000000  273.160004   12900400   \n",
       "\n",
       "             Adj Close  \n",
       "Date                    \n",
       "2012-05-18   38.230000  \n",
       "2012-05-21   34.029999  \n",
       "2012-05-22   31.000000  \n",
       "2012-05-23   32.000000  \n",
       "2012-05-24   33.029999  \n",
       "...                ...  \n",
       "2020-12-24  267.399994  \n",
       "2020-12-28  277.000000  \n",
       "2020-12-29  276.779999  \n",
       "2020-12-30  271.869995  \n",
       "2020-12-31  273.160004  \n",
       "\n",
       "[2170 rows x 6 columns]"
      ]
     },
     "execution_count": 69,
     "metadata": {},
     "output_type": "execute_result"
    }
   ],
   "source": [
    "data"
   ]
  },
  {
   "cell_type": "markdown",
   "id": "d70f2926",
   "metadata": {},
   "source": [
    "For our model prediction we will use only the `Closing` price of the Share."
   ]
  },
  {
   "cell_type": "code",
   "execution_count": 70,
   "id": "97ad9ccd",
   "metadata": {},
   "outputs": [],
   "source": [
    "#Prepare the data\n",
    "#To know difference between Normalisation & Standardization (https://www.geeksforgeeks.org/normalization-vs-standardization/))\n",
    "#Here we are doing Data Normalisation\n",
    "scaler = MinMaxScaler(feature_range=(0,1))\n",
    "scaled_data = scaler.fit_transform(data['Close'].values.reshape(-1,1))\n",
    "\n",
    "#How many past days of data we want to use to predict the next day price\n",
    "prediction_days = 60\n",
    "\n",
    "#Preparing the Training data\n",
    "X_train = []\n",
    "y_train = []\n",
    "\n",
    "for x in range(prediction_days, len(scaled_data)):\n",
    "    X_train.append(scaled_data[x-prediction_days:x, 0]) #Extra zero made it 1D\n",
    "    y_train.append(scaled_data[x,0])\n",
    "\n",
    "X_train, y_train = np.array(X_train), np.array(y_train)\n",
    "#Reshaping so that it will work in Neural net\n",
    "X_train = np.reshape(X_train, (X_train.shape[0], X_train.shape[1], 1))"
   ]
  },
  {
   "cell_type": "code",
   "execution_count": 71,
   "id": "f186bf5d",
   "metadata": {},
   "outputs": [
    {
     "data": {
      "text/plain": [
       "((2110, 60, 1), (2110,))"
      ]
     },
     "execution_count": 71,
     "metadata": {},
     "output_type": "execute_result"
    }
   ],
   "source": [
    "X_train.shape, y_train.shape"
   ]
  },
  {
   "cell_type": "code",
   "execution_count": 72,
   "id": "c3614d04",
   "metadata": {},
   "outputs": [
    {
     "data": {
      "text/plain": [
       "array([[0.07163324],\n",
       "       [0.05695716],\n",
       "       [0.04636942],\n",
       "       ...,\n",
       "       [0.90519951],\n",
       "       [0.88804246],\n",
       "       [0.89255014]])"
      ]
     },
     "execution_count": 72,
     "metadata": {},
     "output_type": "execute_result"
    }
   ],
   "source": [
    "scaled_data"
   ]
  },
  {
   "cell_type": "code",
   "execution_count": 73,
   "id": "a82a835c",
   "metadata": {},
   "outputs": [
    {
     "data": {
      "text/plain": [
       "(array([0.07163324, 0.05695716, 0.04636942, 0.04986372, 0.05346285,\n",
       "        0.04954924, 0.03882172, 0.03655043, 0.04147739, 0.0349081 ,\n",
       "        0.03204277, 0.02844364, 0.03172828, 0.02998113, 0.03274163,\n",
       "        0.03242715, 0.03378992, 0.03333567, 0.03689986, 0.04291006,\n",
       "        0.04780208, 0.04954924, 0.048466  , 0.04930463, 0.05353274,\n",
       "        0.05007339, 0.05370745, 0.05066741, 0.04762737, 0.04671885,\n",
       "        0.04556573, 0.04706828, 0.04801174, 0.04892026, 0.05045775,\n",
       "        0.04801174, 0.04626459, 0.0457055 , 0.04539101, 0.03676008,\n",
       "        0.03620099, 0.03976519, 0.03938081, 0.03854218, 0.03850723,\n",
       "        0.03745895, 0.04056887, 0.03186806, 0.02089594, 0.01893913,\n",
       "        0.01390733, 0.01100706, 0.00807185, 0.01174086, 0.01464114,\n",
       "        0.01044797, 0.01044797, 0.01146132, 0.01425676, 0.01352296]),\n",
       " 0.009259904886367458)"
      ]
     },
     "execution_count": 73,
     "metadata": {},
     "output_type": "execute_result"
    }
   ],
   "source": [
    "scaled_data[60-prediction_days:60,0], scaled_data[60,0]"
   ]
  },
  {
   "cell_type": "markdown",
   "id": "c5160428",
   "metadata": {},
   "source": [
    "Basically we want to tell our model for last above 60 datapoints the prediction value should be `0.01326525310335848`"
   ]
  },
  {
   "cell_type": "code",
   "execution_count": 74,
   "id": "b2182fad",
   "metadata": {},
   "outputs": [
    {
     "name": "stdout",
     "output_type": "stream",
     "text": [
      "Epoch 1/100\n",
      "66/66 [==============================] - 8s 57ms/step - loss: 0.0124\n",
      "Epoch 2/100\n",
      "66/66 [==============================] - 4s 57ms/step - loss: 0.0032: 0s\n",
      "Epoch 3/100\n",
      "66/66 [==============================] - 4s 57ms/step - loss: 0.0026\n",
      "Epoch 4/100\n",
      "66/66 [==============================] - 4s 56ms/step - loss: 0.0027\n",
      "Epoch 5/100\n",
      "66/66 [==============================] - 4s 66ms/step - loss: 0.0025\n",
      "Epoch 6/100\n",
      "66/66 [==============================] - 4s 68ms/step - loss: 0.0024\n",
      "Epoch 7/100\n",
      "66/66 [==============================] - 4s 67ms/step - loss: 0.0022\n",
      "Epoch 8/100\n",
      "66/66 [==============================] - 4s 67ms/step - loss: 0.0021\n",
      "Epoch 9/100\n",
      "66/66 [==============================] - 4s 66ms/step - loss: 0.0020\n",
      "Epoch 10/100\n",
      "66/66 [==============================] - 4s 67ms/step - loss: 0.0019\n",
      "Epoch 11/100\n",
      "66/66 [==============================] - 4s 67ms/step - loss: 0.0019\n",
      "Epoch 12/100\n",
      "66/66 [==============================] - 4s 67ms/step - loss: 0.0020\n",
      "Epoch 13/100\n",
      "66/66 [==============================] - 5s 69ms/step - loss: 0.0016\n",
      "Epoch 14/100\n",
      "66/66 [==============================] - 4s 67ms/step - loss: 0.0019\n",
      "Epoch 15/100\n",
      "66/66 [==============================] - 5s 69ms/step - loss: 0.0018\n",
      "Epoch 16/100\n",
      "66/66 [==============================] - 4s 68ms/step - loss: 0.0016\n",
      "Epoch 17/100\n",
      "66/66 [==============================] - 5s 68ms/step - loss: 0.0015\n",
      "Epoch 18/100\n",
      "66/66 [==============================] - 4s 67ms/step - loss: 0.0017\n",
      "Epoch 19/100\n",
      "66/66 [==============================] - 5s 69ms/step - loss: 0.0014\n",
      "Epoch 20/100\n",
      "66/66 [==============================] - 5s 70ms/step - loss: 0.0015\n",
      "Epoch 21/100\n",
      "66/66 [==============================] - 5s 69ms/step - loss: 0.0014\n",
      "Epoch 22/100\n",
      "66/66 [==============================] - 5s 69ms/step - loss: 0.0012\n",
      "Epoch 23/100\n",
      "66/66 [==============================] - 5s 68ms/step - loss: 0.0013\n",
      "Epoch 24/100\n",
      "66/66 [==============================] - 5s 70ms/step - loss: 0.0014\n",
      "Epoch 25/100\n",
      "66/66 [==============================] - 5s 75ms/step - loss: 0.0013\n",
      "Epoch 26/100\n",
      "66/66 [==============================] - 5s 71ms/step - loss: 0.0013\n",
      "Epoch 27/100\n",
      "66/66 [==============================] - 5s 71ms/step - loss: 0.0013\n",
      "Epoch 28/100\n",
      "66/66 [==============================] - 5s 72ms/step - loss: 0.0013\n",
      "Epoch 29/100\n",
      "66/66 [==============================] - 5s 73ms/step - loss: 0.0011\n",
      "Epoch 30/100\n",
      "66/66 [==============================] - 5s 71ms/step - loss: 0.0010\n",
      "Epoch 31/100\n",
      "66/66 [==============================] - 5s 71ms/step - loss: 0.0012\n",
      "Epoch 32/100\n",
      "66/66 [==============================] - 5s 72ms/step - loss: 0.0012\n",
      "Epoch 33/100\n",
      "66/66 [==============================] - 5s 71ms/step - loss: 0.0012\n",
      "Epoch 34/100\n",
      "66/66 [==============================] - 5s 70ms/step - loss: 0.0012\n",
      "Epoch 35/100\n",
      "66/66 [==============================] - 5s 72ms/step - loss: 9.9709e-04\n",
      "Epoch 36/100\n",
      "66/66 [==============================] - 5s 71ms/step - loss: 0.0010\n",
      "Epoch 37/100\n",
      "66/66 [==============================] - 5s 73ms/step - loss: 0.0010\n",
      "Epoch 38/100\n",
      "66/66 [==============================] - 5s 73ms/step - loss: 0.0010\n",
      "Epoch 39/100\n",
      "66/66 [==============================] - 5s 75ms/step - loss: 0.0011\n",
      "Epoch 40/100\n",
      "66/66 [==============================] - 5s 75ms/step - loss: 9.5401e-04\n",
      "Epoch 41/100\n",
      "66/66 [==============================] - 5s 75ms/step - loss: 9.3525e-04\n",
      "Epoch 42/100\n",
      "66/66 [==============================] - 5s 79ms/step - loss: 0.0010\n",
      "Epoch 43/100\n",
      "66/66 [==============================] - 6s 91ms/step - loss: 0.0010\n",
      "Epoch 44/100\n",
      "66/66 [==============================] - 5s 82ms/step - loss: 8.7166e-04\n",
      "Epoch 45/100\n",
      "66/66 [==============================] - 5s 77ms/step - loss: 8.6423e-04\n",
      "Epoch 46/100\n",
      "66/66 [==============================] - 5s 77ms/step - loss: 8.8209e-04\n",
      "Epoch 47/100\n",
      "66/66 [==============================] - 5s 75ms/step - loss: 8.5627e-04\n",
      "Epoch 48/100\n",
      "66/66 [==============================] - 5s 75ms/step - loss: 9.0326e-04\n",
      "Epoch 49/100\n",
      "66/66 [==============================] - 5s 73ms/step - loss: 8.4439e-04\n",
      "Epoch 50/100\n",
      "66/66 [==============================] - 5s 73ms/step - loss: 9.4206e-04\n",
      "Epoch 51/100\n",
      "66/66 [==============================] - 5s 73ms/step - loss: 8.1476e-04\n",
      "Epoch 52/100\n",
      "66/66 [==============================] - 5s 75ms/step - loss: 7.7435e-04\n",
      "Epoch 53/100\n",
      "66/66 [==============================] - 5s 75ms/step - loss: 8.8110e-04\n",
      "Epoch 54/100\n",
      "66/66 [==============================] - 5s 79ms/step - loss: 8.3757e-04\n",
      "Epoch 55/100\n",
      "66/66 [==============================] - 6s 91ms/step - loss: 7.6714e-04\n",
      "Epoch 56/100\n",
      "66/66 [==============================] - 5s 82ms/step - loss: 7.7850e-04\n",
      "Epoch 57/100\n",
      "66/66 [==============================] - 5s 80ms/step - loss: 7.4361e-04\n",
      "Epoch 58/100\n",
      "66/66 [==============================] - 5s 79ms/step - loss: 7.8668e-04\n",
      "Epoch 59/100\n",
      "66/66 [==============================] - 5s 78ms/step - loss: 8.1396e-04\n",
      "Epoch 60/100\n",
      "66/66 [==============================] - 5s 82ms/step - loss: 7.5441e-04\n",
      "Epoch 61/100\n",
      "66/66 [==============================] - 5s 76ms/step - loss: 7.3111e-04\n",
      "Epoch 62/100\n",
      "66/66 [==============================] - 5s 76ms/step - loss: 9.0846e-04\n",
      "Epoch 63/100\n",
      "66/66 [==============================] - 5s 75ms/step - loss: 7.3087e-04\n",
      "Epoch 64/100\n",
      "66/66 [==============================] - 5s 78ms/step - loss: 8.9877e-04\n",
      "Epoch 65/100\n",
      "66/66 [==============================] - 5s 78ms/step - loss: 7.7661e-04\n",
      "Epoch 66/100\n",
      "66/66 [==============================] - ETA: 0s - loss: 8.0130e-0 - 5s 81ms/step - loss: 8.0130e-04\n",
      "Epoch 67/100\n",
      "66/66 [==============================] - 5s 79ms/step - loss: 7.4961e-04\n",
      "Epoch 68/100\n",
      "66/66 [==============================] - 5s 77ms/step - loss: 7.9000e-04\n",
      "Epoch 69/100\n",
      "66/66 [==============================] - 5s 78ms/step - loss: 7.6767e-04\n",
      "Epoch 70/100\n",
      "66/66 [==============================] - 5s 79ms/step - loss: 7.3925e-04\n",
      "Epoch 71/100\n",
      "66/66 [==============================] - 5s 80ms/step - loss: 6.8992e-04\n",
      "Epoch 72/100\n",
      "66/66 [==============================] - 5s 80ms/step - loss: 7.3155e-04\n",
      "Epoch 73/100\n",
      "66/66 [==============================] - 5s 78ms/step - loss: 6.7744e-04\n",
      "Epoch 74/100\n",
      "66/66 [==============================] - 5s 82ms/step - loss: 6.6085e-04\n",
      "Epoch 75/100\n",
      "66/66 [==============================] - 5s 77ms/step - loss: 7.4790e-04\n",
      "Epoch 76/100\n",
      "66/66 [==============================] - 5s 75ms/step - loss: 6.7720e-04\n",
      "Epoch 77/100\n",
      "66/66 [==============================] - 5s 76ms/step - loss: 7.4750e-04\n",
      "Epoch 78/100\n",
      "66/66 [==============================] - 5s 77ms/step - loss: 7.4203e-04\n",
      "Epoch 79/100\n",
      "66/66 [==============================] - 5s 79ms/step - loss: 7.2971e-04\n",
      "Epoch 80/100\n",
      "66/66 [==============================] - 5s 79ms/step - loss: 6.6861e-04\n",
      "Epoch 81/100\n",
      "66/66 [==============================] - 5s 80ms/step - loss: 6.5724e-04\n",
      "Epoch 82/100\n",
      "66/66 [==============================] - 5s 80ms/step - loss: 6.1435e-04\n",
      "Epoch 83/100\n",
      "66/66 [==============================] - 5s 79ms/step - loss: 6.6963e-04\n",
      "Epoch 84/100\n",
      "66/66 [==============================] - 5s 80ms/step - loss: 6.7007e-04\n",
      "Epoch 85/100\n",
      "66/66 [==============================] - 5s 80ms/step - loss: 6.6794e-04\n",
      "Epoch 86/100\n",
      "66/66 [==============================] - 5s 80ms/step - loss: 6.5952e-04\n",
      "Epoch 87/100\n",
      "66/66 [==============================] - 5s 80ms/step - loss: 6.2837e-04\n",
      "Epoch 88/100\n",
      "66/66 [==============================] - 5s 79ms/step - loss: 6.6455e-04\n",
      "Epoch 89/100\n",
      "66/66 [==============================] - 5s 80ms/step - loss: 7.0605e-04\n",
      "Epoch 90/100\n",
      "66/66 [==============================] - 5s 80ms/step - loss: 7.3202e-04\n",
      "Epoch 91/100\n",
      "66/66 [==============================] - 5s 79ms/step - loss: 6.6055e-04\n",
      "Epoch 92/100\n",
      "66/66 [==============================] - 5s 80ms/step - loss: 7.9053e-04\n",
      "Epoch 93/100\n",
      "66/66 [==============================] - 5s 80ms/step - loss: 6.8951e-04\n",
      "Epoch 94/100\n",
      "66/66 [==============================] - 5s 79ms/step - loss: 6.9163e-04\n",
      "Epoch 95/100\n",
      "66/66 [==============================] - 5s 80ms/step - loss: 6.5113e-04\n",
      "Epoch 96/100\n",
      "66/66 [==============================] - 5s 79ms/step - loss: 6.5624e-04\n",
      "Epoch 97/100\n"
     ]
    },
    {
     "name": "stdout",
     "output_type": "stream",
     "text": [
      "66/66 [==============================] - 5s 78ms/step - loss: 6.1196e-04\n",
      "Epoch 98/100\n",
      "66/66 [==============================] - 5s 78ms/step - loss: 6.5025e-04\n",
      "Epoch 99/100\n",
      "66/66 [==============================] - 5s 77ms/step - loss: 6.5623e-04\n",
      "Epoch 100/100\n",
      "66/66 [==============================] - 5s 78ms/step - loss: 6.1273e-04\n"
     ]
    },
    {
     "data": {
      "text/plain": [
       "<tensorflow.python.keras.callbacks.History at 0x1d81f67bc88>"
      ]
     },
     "execution_count": 74,
     "metadata": {},
     "output_type": "execute_result"
    }
   ],
   "source": [
    "#Building the Model\n",
    "#We can test with diferent hyperparameter values like no of Neurons, layers, dropouts...\n",
    "model = Sequential()\n",
    "model.add(LSTM(units=50, return_sequences=True, input_shape=(X_train.shape[1], 1)))\n",
    "model.add(Dropout(0.2))\n",
    "model.add(LSTM(units=50, return_sequences=True))\n",
    "model.add(Dropout(0.2))\n",
    "model.add(LSTM(units=50))\n",
    "model.add(Dropout(0.2))\n",
    "model.add(Dense(units=1)) #Output Layer\n",
    "\n",
    "model.compile(optimizer='adam',loss='mean_squared_error')\n",
    "model.fit(X_train,y_train,epochs=100,batch_size=32)"
   ]
  },
  {
   "cell_type": "markdown",
   "id": "42808cb7",
   "metadata": {},
   "source": [
    "Note: Latest version of `Numpy e.g 1.20` cause some compatibility issue with current python 3.7 version hence downgraded the `Numpy` to 1.18.5"
   ]
  },
  {
   "cell_type": "code",
   "execution_count": 75,
   "id": "3c4b89b8",
   "metadata": {},
   "outputs": [
    {
     "data": {
      "text/plain": [
       "'1.18.5'"
      ]
     },
     "execution_count": 75,
     "metadata": {},
     "output_type": "execute_result"
    }
   ],
   "source": [
    "np.__version__"
   ]
  },
  {
   "cell_type": "markdown",
   "id": "492b608c",
   "metadata": {},
   "source": [
    "### Prepraing the Test data to fed it to Model for Prediction\n",
    "* Our training data is taken from `1st January 2012` to `1st January 2020`\n",
    "* Our Test data will be from `1st January 2020` to `Current`"
   ]
  },
  {
   "cell_type": "code",
   "execution_count": 76,
   "id": "d2c7b11c",
   "metadata": {},
   "outputs": [],
   "source": [
    "#Load the Test data\n",
    "test_start = dt.datetime(2021,1,1)\n",
    "test_end = dt.datetime.now()\n",
    "test_data = web.DataReader(company, 'yahoo', test_start, test_end)\n",
    "actual_prices = test_data['Close'].values\n",
    "\n",
    "total_dataset = pd.concat((data['Close'],test_data['Close']), axis=0)\n",
    "model_inputs = total_dataset[len(total_dataset) - len(test_data) - prediction_days: ].values\n",
    "model_inputs = model_inputs.reshape(-1,1)\n",
    "model_inputs = scaler.transform(model_inputs)"
   ]
  },
  {
   "cell_type": "code",
   "execution_count": 77,
   "id": "d50252dd",
   "metadata": {},
   "outputs": [
    {
     "data": {
      "text/plain": [
       "((122, 6), (2292,), 182)"
      ]
     },
     "execution_count": 77,
     "metadata": {},
     "output_type": "execute_result"
    }
   ],
   "source": [
    "test_data.shape, total_dataset.shape, len(model_inputs)"
   ]
  },
  {
   "cell_type": "code",
   "execution_count": 78,
   "id": "e8a388a7",
   "metadata": {},
   "outputs": [],
   "source": [
    "#Preparaing the Test data\n",
    "X_test = []\n",
    "for x in range(prediction_days, len(model_inputs)):\n",
    "    X_test.append(model_inputs[x-prediction_days:x, 0])\n",
    "X_test = np.array(X_test)\n",
    "X_test = np.reshape(X_test, (X_test.shape[0],X_test.shape[1],1))"
   ]
  },
  {
   "cell_type": "code",
   "execution_count": 79,
   "id": "05a4dbe5",
   "metadata": {},
   "outputs": [
    {
     "data": {
      "text/plain": [
       "((2110, 60, 1), (122, 60, 1))"
      ]
     },
     "execution_count": 79,
     "metadata": {},
     "output_type": "execute_result"
    }
   ],
   "source": [
    "X_train.shape, X_test.shape"
   ]
  },
  {
   "cell_type": "code",
   "execution_count": 80,
   "id": "228313d9",
   "metadata": {},
   "outputs": [
    {
     "name": "stdout",
     "output_type": "stream",
     "text": [
      "No of days in Total dataset: 2292\n",
      "No of days used for train: 2110\n",
      "No of days used for test: 122\n"
     ]
    }
   ],
   "source": [
    "print(f\"No of days in Total dataset: {total_dataset.shape[0]}\")\n",
    "print(f\"No of days used for train: {X_train.shape[0]}\")\n",
    "print(f\"No of days used for test: {X_test.shape[0]}\")"
   ]
  },
  {
   "cell_type": "code",
   "execution_count": 81,
   "id": "379f6d91",
   "metadata": {},
   "outputs": [],
   "source": [
    "#Basically we are predicting our existing data to see how well model is performing\n",
    "predicted_price = model.predict(X_test)\n",
    "predicted_price = scaler.inverse_transform(predicted_price)"
   ]
  },
  {
   "cell_type": "code",
   "execution_count": 82,
   "id": "e431394f",
   "metadata": {},
   "outputs": [
    {
     "data": {
      "text/plain": [
       "array([[268.46957],\n",
       "       [267.28363],\n",
       "       [265.50845],\n",
       "       [265.24683],\n",
       "       [262.74106],\n",
       "       [262.5998 ],\n",
       "       [263.16302],\n",
       "       [259.31238],\n",
       "       [253.14912],\n",
       "       [249.31758]], dtype=float32)"
      ]
     },
     "execution_count": 82,
     "metadata": {},
     "output_type": "execute_result"
    }
   ],
   "source": [
    "predicted_price[0:10]"
   ]
  },
  {
   "cell_type": "code",
   "execution_count": 83,
   "id": "39ca6f68",
   "metadata": {},
   "outputs": [
    {
     "data": {
      "image/png": "[encoded data removed]",
      "text/plain": [
       "<Figure size 432x288 with 1 Axes>"
      ]
     },
     "metadata": {
      "needs_background": "light"
     },
     "output_type": "display_data"
    }
   ],
   "source": [
    "#Ploting the Test Predictions\n",
    "plt.plot(actual_prices, color='black',label='Actual Share price')\n",
    "plt.plot(predicted_price, color='green',label='Predicted Share price')\n",
    "plt.title(f\"{company} Share Price prediction\")\n",
    "plt.xlabel('Time')\n",
    "plt.ylabel(f'{company} Share Price')\n",
    "plt.legend()\n",
    "plt.show()"
   ]
  },
  {
   "cell_type": "code",
   "execution_count": 84,
   "id": "4ad5c471",
   "metadata": {},
   "outputs": [
    {
     "name": "stdout",
     "output_type": "stream",
     "text": [
      "WARNING:tensorflow:Model was constructed with shape (None, 60, 1) for input KerasTensor(type_spec=TensorSpec(shape=(None, 60, 1), dtype=tf.float32, name='lstm_3_input'), name='lstm_3_input', description=\"created by layer 'lstm_3_input'\"), but it was called on an input with incompatible shape (None, 59, 1).\n",
      "Tomorrow's FB share price: [[330.6379]]\n"
     ]
    }
   ],
   "source": [
    "#Predicting the Next Day price\n",
    "real_data = [model_inputs[len(model_inputs) + 1 - prediction_days : len(model_inputs)+1, 0]]\n",
    "real_data =  np.array(real_data)\n",
    "real_data = np.reshape(real_data, (real_data.shape[0], real_data.shape[1], 1))\n",
    "prediction = model.predict(real_data)\n",
    "prediction = scaler.inverse_transform(prediction)\n",
    "print(f\"Tomorrow's {company} share price: {prediction}\")"
   ]
  },
  {
   "cell_type": "code",
   "execution_count": null,
   "id": "c7c3799d",
   "metadata": {},
   "outputs": [],
   "source": []
  }
 ],
 "metadata": {
  "kernelspec": {
   "display_name": "Python 3",
   "language": "python",
   "name": "python3"
  },
  "language_info": {
   "codemirror_mode": {
    "name": "ipython",
    "version": 3
   },
   "file_extension": ".py",
   "mimetype": "text/x-python",
   "name": "python",
   "nbconvert_exporter": "python",
   "pygments_lexer": "ipython3",
   "version": "3.7.10"
  }
 },
 "nbformat": 4,
 "nbformat_minor": 5
}
